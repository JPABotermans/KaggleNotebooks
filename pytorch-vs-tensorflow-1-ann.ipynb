{
 "cells": [
  {
   "cell_type": "markdown",
   "id": "507c3bb4",
   "metadata": {
    "_cell_guid": "b1076dfc-b9ad-4769-8c92-a6c4dae69d19",
    "_uuid": "8f2839f25d086af736a60e9eeb907d3b93b6e0e5",
    "papermill": {
     "duration": 0.005886,
     "end_time": "2024-09-08T16:09:47.185541",
     "exception": false,
     "start_time": "2024-09-08T16:09:47.179655",
     "status": "completed"
    },
    "tags": []
   },
   "source": [
    "# Pytorch vs Tensorflow - ANN\n",
    "\n",
    "Choosing Pytorch vs Tensorflow, which should you use? Which is better and what are the differences between these two frameworks both made for deep learning. Well in this series I am going to compare them side by side so you could see the differences and simliarities clearly, in code with crips examples.\n",
    "\n",
    "Also, when I switched from Tensorflow to pytorch, I just wished I had a \"**Rosetta Stone**\" to translate between frameworks, which I hope this series will be for you. A nice overview that practitioners to leverage the strengths of both libraries.\n",
    "\n",
    "## In this notebook\n",
    "In the first notebook of this series, I will start with the basics by creating a simple Artificial Neural Network (ANN) in both PyTorch and TensorFlow. We will train the ANN on the MNIST dataset, which consists of handwritten digit images, to illustrate fundamental concepts and workflows in each framework. This foundational exercise will set the stage for more complex models and comparisons in subsequent notebooks.\n",
    "\n",
    "For both PyTorch and TensorFlow, the steps for training a model are essentially the same:\n",
    "\n",
    "1. Importing the necessary libraries.\n",
    "2. Defining the model parameters and hyperparameters.\n",
    "3. Loading the dataset.\n",
    "4. Preprocessing the data to make it suitable for training.\n",
    "5. Initializing the model architecture.\n",
    "6. Training the model using the defined parameters and dataset.\n",
    "\n",
    "These steps form the core workflow in building and training deep learning models, regardless of the framework used."
   ]
  },
  {
   "cell_type": "code",
   "execution_count": 1,
   "id": "98bf92d6",
   "metadata": {
    "execution": {
     "iopub.execute_input": "2024-09-08T16:09:47.198017Z",
     "iopub.status.busy": "2024-09-08T16:09:47.197571Z",
     "iopub.status.idle": "2024-09-08T16:09:47.652087Z",
     "shell.execute_reply": "2024-09-08T16:09:47.650889Z"
    },
    "papermill": {
     "duration": 0.4646,
     "end_time": "2024-09-08T16:09:47.655578",
     "exception": false,
     "start_time": "2024-09-08T16:09:47.190978",
     "status": "completed"
    },
    "tags": []
   },
   "outputs": [],
   "source": [
    "import numpy as np\n",
    "import pandas as pd"
   ]
  },
  {
   "cell_type": "code",
   "execution_count": 2,
   "id": "621a4c74",
   "metadata": {
    "execution": {
     "iopub.execute_input": "2024-09-08T16:09:47.668224Z",
     "iopub.status.busy": "2024-09-08T16:09:47.667689Z",
     "iopub.status.idle": "2024-09-08T16:09:47.819323Z",
     "shell.execute_reply": "2024-09-08T16:09:47.818352Z"
    },
    "papermill": {
     "duration": 0.160872,
     "end_time": "2024-09-08T16:09:47.822095",
     "exception": false,
     "start_time": "2024-09-08T16:09:47.661223",
     "status": "completed"
    },
    "tags": []
   },
   "outputs": [],
   "source": [
    "import plotly.graph_objects as go\n",
    "from plotly.subplots import make_subplots\n",
    "\n",
    "# Plotting the training metrics with Plotly\n",
    "def plot_tensorflow_training_results(history):\n",
    "    fig = make_subplots(rows=1, cols=2, subplot_titles=(\"Loss Over Epochs\", \"Accuracy Over Epochs\"))\n",
    "\n",
    "    # Loss plot\n",
    "    fig.add_trace(go.Scatter(x=list(range(len(history.history['loss']))),\n",
    "                             y=history.history['loss'],\n",
    "                             mode='lines',\n",
    "                             name='Training Loss'),\n",
    "                  row=1, col=1)\n",
    "    fig.add_trace(go.Scatter(x=list(range(len(history.history['val_loss']))),\n",
    "                             y=history.history['val_loss'],\n",
    "                             mode='lines',\n",
    "                             name='Validation Loss'),\n",
    "                  row=1, col=1)\n",
    "\n",
    "    # Accuracy plot\n",
    "    fig.add_trace(go.Scatter(x=list(range(len(history.history['accuracy']))),\n",
    "                             y=history.history['accuracy'],\n",
    "                             mode='lines',\n",
    "                             name='Training Accuracy'),\n",
    "                  row=1, col=2)\n",
    "    fig.add_trace(go.Scatter(x=list(range(len(history.history['val_accuracy']))),\n",
    "                             y=history.history['val_accuracy'],\n",
    "                             mode='lines',\n",
    "                             name='Validation Accuracy'),\n",
    "                  row=1, col=2)\n",
    "\n",
    "    # Updating layout\n",
    "    fig.update_layout(title='Training Metrics',\n",
    "                      xaxis_title='Epoch',\n",
    "                      yaxis_title='Value',\n",
    "                      showlegend=True)\n",
    "\n",
    "    # Update xaxis labels\n",
    "    fig.update_xaxes(title_text='Epoch', row=1, col=1)\n",
    "    fig.update_xaxes(title_text='Epoch', row=1, col=2)\n",
    "\n",
    "    # Update yaxis labels\n",
    "    fig.update_yaxes(title_text='Loss', row=1, col=1)\n",
    "    fig.update_yaxes(title_text='Accuracy', row=1, col=2)\n",
    "\n",
    "    fig.show()\n",
    "    "
   ]
  },
  {
   "cell_type": "code",
   "execution_count": 3,
   "id": "313c6725",
   "metadata": {
    "execution": {
     "iopub.execute_input": "2024-09-08T16:09:47.834722Z",
     "iopub.status.busy": "2024-09-08T16:09:47.834265Z",
     "iopub.status.idle": "2024-09-08T16:09:47.846372Z",
     "shell.execute_reply": "2024-09-08T16:09:47.845289Z"
    },
    "papermill": {
     "duration": 0.021586,
     "end_time": "2024-09-08T16:09:47.848988",
     "exception": false,
     "start_time": "2024-09-08T16:09:47.827402",
     "status": "completed"
    },
    "tags": []
   },
   "outputs": [],
   "source": [
    "import plotly.graph_objects as go\n",
    "from plotly.subplots import make_subplots\n",
    "\n",
    "def plot_pytorch_training_results(n_epochs, train_losses, test_losses, train_accuracies, test_accuracies):\n",
    "    # Plotting the training metrics with Plotly\n",
    "    fig = make_subplots(rows=1, cols=2, subplot_titles=(\"Loss Over Epochs\", \"Accuracy Over Epochs\"))\n",
    "\n",
    "    # Loss plot\n",
    "    fig.add_trace(go.Scatter(x=list(range(n_epochs)), y=train_losses, mode='lines', name='Training Loss'), row=1, col=1)\n",
    "    fig.add_trace(go.Scatter(x=list(range(n_epochs)), y=test_losses, mode='lines', name='Validation Loss'), row=1, col=1)\n",
    "\n",
    "    # Accuracy plot\n",
    "    fig.add_trace(go.Scatter(x=list(range(n_epochs)), y=train_accuracies, mode='lines', name='Training Accuracy'), row=1, col=2)\n",
    "    fig.add_trace(go.Scatter(x=list(range(n_epochs)), y=test_accuracies, mode='lines', name='Validation Accuracy'), row=1, col=2)\n",
    "\n",
    "    # Updating layout\n",
    "    fig.update_layout(title='Training Metrics', xaxis_title='Epoch', yaxis_title='Value', showlegend=True)\n",
    "\n",
    "    # Update xaxis labels\n",
    "    fig.update_xaxes(title_text='Epoch', row=1, col=1)\n",
    "    fig.update_xaxes(title_text='Epoch', row=1, col=2)\n",
    "\n",
    "    # Update yaxis labels\n",
    "    fig.update_yaxes(title_text='Loss', row=1, col=1)\n",
    "    fig.update_yaxes(title_text='Accuracy', row=1, col=2)\n",
    "\n",
    "    fig.show()"
   ]
  },
  {
   "cell_type": "code",
   "execution_count": 4,
   "id": "8f87891c",
   "metadata": {
    "execution": {
     "iopub.execute_input": "2024-09-08T16:09:47.860966Z",
     "iopub.status.busy": "2024-09-08T16:09:47.860549Z",
     "iopub.status.idle": "2024-09-08T16:09:55.202011Z",
     "shell.execute_reply": "2024-09-08T16:09:55.200665Z"
    },
    "papermill": {
     "duration": 7.350766,
     "end_time": "2024-09-08T16:09:55.204911",
     "exception": false,
     "start_time": "2024-09-08T16:09:47.854145",
     "status": "completed"
    },
    "tags": []
   },
   "outputs": [],
   "source": [
    "pixel_columns = [f\"pixel{i}\" for i in range(784)]\n",
    "all_df = pd.read_csv(\"/kaggle/input/digit-recognizer/train.csv\")\n",
    "\n",
    "indices = np.arange(len(all_df))\n",
    "np.random.shuffle(indices)\n",
    "\n",
    "# Split the indices into 80% train and 20% validation\n",
    "trn_len = int(0.8 * len(all_df))\n",
    "trn_ind = indices[:trn_len]\n",
    "val_ind = indices[trn_len:]\n",
    "\n",
    "trn_df = all_df.iloc[trn_ind]\n",
    "val_df = all_df.iloc[val_ind]\n",
    "x_trn = trn_df[pixel_columns].values\n",
    "y_trn = trn_df[\"label\"].values\n",
    "\n",
    "x_val = val_df[pixel_columns].values\n",
    "y_val = val_df[\"label\"].values\n",
    "\n",
    "tst_df = pd.read_csv(\"/kaggle/input/digit-recognizer/test.csv\")\n",
    "x_tst = tst_df[pixel_columns].values"
   ]
  },
  {
   "cell_type": "code",
   "execution_count": 5,
   "id": "5f46c54c",
   "metadata": {
    "execution": {
     "iopub.execute_input": "2024-09-08T16:09:55.217517Z",
     "iopub.status.busy": "2024-09-08T16:09:55.216664Z",
     "iopub.status.idle": "2024-09-08T16:10:39.265280Z",
     "shell.execute_reply": "2024-09-08T16:10:39.264042Z"
    },
    "papermill": {
     "duration": 44.058048,
     "end_time": "2024-09-08T16:10:39.268209",
     "exception": false,
     "start_time": "2024-09-08T16:09:55.210161",
     "status": "completed"
    },
    "tags": []
   },
   "outputs": [
    {
     "name": "stdout",
     "output_type": "stream",
     "text": [
      "Epoch 1/10\n",
      "\u001b[1m1050/1050\u001b[0m \u001b[32m━━━━━━━━━━━━━━━━━━━━\u001b[0m\u001b[37m\u001b[0m \u001b[1m5s\u001b[0m 3ms/step - accuracy: 0.8178 - loss: 0.6262 - val_accuracy: 0.9415 - val_loss: 0.1980\n",
      "Epoch 2/10\n",
      "\u001b[1m1050/1050\u001b[0m \u001b[32m━━━━━━━━━━━━━━━━━━━━\u001b[0m\u001b[37m\u001b[0m \u001b[1m3s\u001b[0m 2ms/step - accuracy: 0.9540 - loss: 0.1550 - val_accuracy: 0.9520 - val_loss: 0.1636\n",
      "Epoch 3/10\n",
      "\u001b[1m1050/1050\u001b[0m \u001b[32m━━━━━━━━━━━━━━━━━━━━\u001b[0m\u001b[37m\u001b[0m \u001b[1m3s\u001b[0m 2ms/step - accuracy: 0.9679 - loss: 0.1090 - val_accuracy: 0.9610 - val_loss: 0.1299\n",
      "Epoch 4/10\n",
      "\u001b[1m1050/1050\u001b[0m \u001b[32m━━━━━━━━━━━━━━━━━━━━\u001b[0m\u001b[37m\u001b[0m \u001b[1m3s\u001b[0m 2ms/step - accuracy: 0.9732 - loss: 0.0860 - val_accuracy: 0.9576 - val_loss: 0.1378\n",
      "Epoch 5/10\n",
      "\u001b[1m1050/1050\u001b[0m \u001b[32m━━━━━━━━━━━━━━━━━━━━\u001b[0m\u001b[37m\u001b[0m \u001b[1m3s\u001b[0m 3ms/step - accuracy: 0.9786 - loss: 0.0710 - val_accuracy: 0.9645 - val_loss: 0.1249\n",
      "Epoch 6/10\n",
      "\u001b[1m1050/1050\u001b[0m \u001b[32m━━━━━━━━━━━━━━━━━━━━\u001b[0m\u001b[37m\u001b[0m \u001b[1m3s\u001b[0m 2ms/step - accuracy: 0.9834 - loss: 0.0531 - val_accuracy: 0.9654 - val_loss: 0.1228\n",
      "Epoch 7/10\n",
      "\u001b[1m1050/1050\u001b[0m \u001b[32m━━━━━━━━━━━━━━━━━━━━\u001b[0m\u001b[37m\u001b[0m \u001b[1m2s\u001b[0m 2ms/step - accuracy: 0.9866 - loss: 0.0413 - val_accuracy: 0.9699 - val_loss: 0.1116\n",
      "Epoch 8/10\n",
      "\u001b[1m1050/1050\u001b[0m \u001b[32m━━━━━━━━━━━━━━━━━━━━\u001b[0m\u001b[37m\u001b[0m \u001b[1m3s\u001b[0m 3ms/step - accuracy: 0.9880 - loss: 0.0364 - val_accuracy: 0.9693 - val_loss: 0.1173\n",
      "Epoch 9/10\n",
      "\u001b[1m1050/1050\u001b[0m \u001b[32m━━━━━━━━━━━━━━━━━━━━\u001b[0m\u001b[37m\u001b[0m \u001b[1m3s\u001b[0m 2ms/step - accuracy: 0.9916 - loss: 0.0273 - val_accuracy: 0.9702 - val_loss: 0.1196\n",
      "Epoch 10/10\n",
      "\u001b[1m1050/1050\u001b[0m \u001b[32m━━━━━━━━━━━━━━━━━━━━\u001b[0m\u001b[37m\u001b[0m \u001b[1m3s\u001b[0m 2ms/step - accuracy: 0.9940 - loss: 0.0200 - val_accuracy: 0.9644 - val_loss: 0.1358\n"
     ]
    }
   ],
   "source": [
    "#1. Importing the necessary libraries.\n",
    "import tensorflow as tf\n",
    "import numpy as np\n",
    "\n",
    "from tensorflow.keras.models import Sequential\n",
    "from tensorflow.keras.layers import Dense\n",
    "from tensorflow.keras.losses import CategoricalCrossentropy\n",
    "\n",
    "from tensorflow.keras.datasets import mnist\n",
    "\n",
    "# 2. Defining the model parameters and hyperparameters.\n",
    "hidden_1 = 64\n",
    "hidden_2 = 64\n",
    "n_classes = 10\n",
    "n_epochs = 10\n",
    "batch_size = 32\n",
    "img_size = 28\n",
    "img_size_flattened = img_size * img_size\n",
    "learning_rate = 0.001\n",
    "n_classes = 10\n",
    "\n",
    "x_trn = x_trn/255.0\n",
    "x_val = x_val/255.0\n",
    "x_tst = x_tst/255.0\n",
    "\n",
    "y_trn_encoded = np.zeros(shape=(y_trn.shape[0], n_classes), dtype=int)\n",
    "y_val_encoded = np.zeros(shape=(y_val.shape[0], n_classes), dtype=int)\n",
    "\n",
    "y_trn_encoded[np.linspace(0, len(y_trn)-1, len(y_trn)).astype(int), y_trn]=1\n",
    "y_val_encoded[np.linspace(0, len(y_val)-1, len(y_val)).astype(int), y_val]=1\n",
    "\n",
    "# 5. Initializing the model architecture.\n",
    "model = Sequential([\n",
    "    Dense(units=hidden_1, activation=\"relu\"),\n",
    "    Dense(units=hidden_2, activation=\"relu\"),\n",
    "    Dense(units=n_classes, activation=\"softmax\")\n",
    "])\n",
    "model.compile(\n",
    "    optimizer=tf.keras.optimizers.Adam(learning_rate=learning_rate), loss=CategoricalCrossentropy(), \n",
    "    metrics=[\"accuracy\"])\n",
    "\n",
    "# 6. Training the model using the defined parameters and dataset.\n",
    "callback = model.fit(\n",
    "    x=x_trn, \n",
    "    y=y_trn_encoded, \n",
    "    validation_data=(x_val, y_val_encoded), \n",
    "    batch_size=batch_size, \n",
    "    epochs=n_epochs)"
   ]
  },
  {
   "cell_type": "code",
   "execution_count": 6,
   "id": "8f19bf2f",
   "metadata": {
    "execution": {
     "iopub.execute_input": "2024-09-08T16:10:39.368466Z",
     "iopub.status.busy": "2024-09-08T16:10:39.367638Z",
     "iopub.status.idle": "2024-09-08T16:10:40.002530Z",
     "shell.execute_reply": "2024-09-08T16:10:40.001146Z"
    },
    "papermill": {
     "duration": 0.687437,
     "end_time": "2024-09-08T16:10:40.005192",
     "exception": false,
     "start_time": "2024-09-08T16:10:39.317755",
     "status": "completed"
    },
    "tags": []
   },
   "outputs": [
    {
     "data": {
      "text/html": [
       "        <script type=\"text/javascript\">\n",
       "        window.PlotlyConfig = {MathJaxConfig: 'local'};\n",
       "        if (window.MathJax && window.MathJax.Hub && window.MathJax.Hub.Config) {window.MathJax.Hub.Config({SVG: {font: \"STIX-Web\"}});}\n",
       "        if (typeof require !== 'undefined') {\n",
       "        require.undef(\"plotly\");\n",
       "        requirejs.config({\n",
       "            paths: {\n",
       "                'plotly': ['https://cdn.plot.ly/plotly-2.32.0.min']\n",
       "            }\n",
       "        });\n",
       "        require(['plotly'], function(Plotly) {\n",
       "            window._Plotly = Plotly;\n",
       "        });\n",
       "        }\n",
       "        </script>\n",
       "        "
      ]
     },
     "metadata": {},
     "output_type": "display_data"
    },
    {
     "data": {
      "text/html": [
       "<div>                            <div id=\"17ac4161-c109-4efc-a3b6-918ce56fc610\" class=\"plotly-graph-div\" style=\"height:525px; width:100%;\"></div>            <script type=\"text/javascript\">                require([\"plotly\"], function(Plotly) {                    window.PLOTLYENV=window.PLOTLYENV || {};                                    if (document.getElementById(\"17ac4161-c109-4efc-a3b6-918ce56fc610\")) {                    Plotly.newPlot(                        \"17ac4161-c109-4efc-a3b6-918ce56fc610\",                        [{\"mode\":\"lines\",\"name\":\"Training Loss\",\"x\":[0,1,2,3,4,5,6,7,8,9],\"y\":[0.3474418520927429,0.1523389220237732,0.1090247854590416,0.08630970865488052,0.07197427749633789,0.05578967183828354,0.044520363211631775,0.03866002336144447,0.031709205359220505,0.025706976652145386],\"type\":\"scatter\",\"xaxis\":\"x\",\"yaxis\":\"y\"},{\"mode\":\"lines\",\"name\":\"Validation Loss\",\"x\":[0,1,2,3,4,5,6,7,8,9],\"y\":[0.1980486810207367,0.16355569660663605,0.1298813819885254,0.13780827820301056,0.12486328184604645,0.1227906122803688,0.11155880242586136,0.11726496368646622,0.11959479004144669,0.13584990799427032],\"type\":\"scatter\",\"xaxis\":\"x\",\"yaxis\":\"y\"},{\"mode\":\"lines\",\"name\":\"Training Accuracy\",\"x\":[0,1,2,3,4,5,6,7,8,9],\"y\":[0.8993750214576721,0.9539285898208618,0.9668154716491699,0.9727976322174072,0.977738082408905,0.9817857146263123,0.9852976202964783,0.9871726036071777,0.9897024035453796,0.991607129573822],\"type\":\"scatter\",\"xaxis\":\"x2\",\"yaxis\":\"y2\"},{\"mode\":\"lines\",\"name\":\"Validation Accuracy\",\"x\":[0,1,2,3,4,5,6,7,8,9],\"y\":[0.9415476322174072,0.9520238041877747,0.9609524011611938,0.9576190710067749,0.9645237922668457,0.9653571248054504,0.9698809385299683,0.9692857265472412,0.9702380895614624,0.9644047617912292],\"type\":\"scatter\",\"xaxis\":\"x2\",\"yaxis\":\"y2\"}],                        {\"template\":{\"data\":{\"histogram2dcontour\":[{\"type\":\"histogram2dcontour\",\"colorbar\":{\"outlinewidth\":0,\"ticks\":\"\"},\"colorscale\":[[0.0,\"#0d0887\"],[0.1111111111111111,\"#46039f\"],[0.2222222222222222,\"#7201a8\"],[0.3333333333333333,\"#9c179e\"],[0.4444444444444444,\"#bd3786\"],[0.5555555555555556,\"#d8576b\"],[0.6666666666666666,\"#ed7953\"],[0.7777777777777778,\"#fb9f3a\"],[0.8888888888888888,\"#fdca26\"],[1.0,\"#f0f921\"]]}],\"choropleth\":[{\"type\":\"choropleth\",\"colorbar\":{\"outlinewidth\":0,\"ticks\":\"\"}}],\"histogram2d\":[{\"type\":\"histogram2d\",\"colorbar\":{\"outlinewidth\":0,\"ticks\":\"\"},\"colorscale\":[[0.0,\"#0d0887\"],[0.1111111111111111,\"#46039f\"],[0.2222222222222222,\"#7201a8\"],[0.3333333333333333,\"#9c179e\"],[0.4444444444444444,\"#bd3786\"],[0.5555555555555556,\"#d8576b\"],[0.6666666666666666,\"#ed7953\"],[0.7777777777777778,\"#fb9f3a\"],[0.8888888888888888,\"#fdca26\"],[1.0,\"#f0f921\"]]}],\"heatmap\":[{\"type\":\"heatmap\",\"colorbar\":{\"outlinewidth\":0,\"ticks\":\"\"},\"colorscale\":[[0.0,\"#0d0887\"],[0.1111111111111111,\"#46039f\"],[0.2222222222222222,\"#7201a8\"],[0.3333333333333333,\"#9c179e\"],[0.4444444444444444,\"#bd3786\"],[0.5555555555555556,\"#d8576b\"],[0.6666666666666666,\"#ed7953\"],[0.7777777777777778,\"#fb9f3a\"],[0.8888888888888888,\"#fdca26\"],[1.0,\"#f0f921\"]]}],\"heatmapgl\":[{\"type\":\"heatmapgl\",\"colorbar\":{\"outlinewidth\":0,\"ticks\":\"\"},\"colorscale\":[[0.0,\"#0d0887\"],[0.1111111111111111,\"#46039f\"],[0.2222222222222222,\"#7201a8\"],[0.3333333333333333,\"#9c179e\"],[0.4444444444444444,\"#bd3786\"],[0.5555555555555556,\"#d8576b\"],[0.6666666666666666,\"#ed7953\"],[0.7777777777777778,\"#fb9f3a\"],[0.8888888888888888,\"#fdca26\"],[1.0,\"#f0f921\"]]}],\"contourcarpet\":[{\"type\":\"contourcarpet\",\"colorbar\":{\"outlinewidth\":0,\"ticks\":\"\"}}],\"contour\":[{\"type\":\"contour\",\"colorbar\":{\"outlinewidth\":0,\"ticks\":\"\"},\"colorscale\":[[0.0,\"#0d0887\"],[0.1111111111111111,\"#46039f\"],[0.2222222222222222,\"#7201a8\"],[0.3333333333333333,\"#9c179e\"],[0.4444444444444444,\"#bd3786\"],[0.5555555555555556,\"#d8576b\"],[0.6666666666666666,\"#ed7953\"],[0.7777777777777778,\"#fb9f3a\"],[0.8888888888888888,\"#fdca26\"],[1.0,\"#f0f921\"]]}],\"surface\":[{\"type\":\"surface\",\"colorbar\":{\"outlinewidth\":0,\"ticks\":\"\"},\"colorscale\":[[0.0,\"#0d0887\"],[0.1111111111111111,\"#46039f\"],[0.2222222222222222,\"#7201a8\"],[0.3333333333333333,\"#9c179e\"],[0.4444444444444444,\"#bd3786\"],[0.5555555555555556,\"#d8576b\"],[0.6666666666666666,\"#ed7953\"],[0.7777777777777778,\"#fb9f3a\"],[0.8888888888888888,\"#fdca26\"],[1.0,\"#f0f921\"]]}],\"mesh3d\":[{\"type\":\"mesh3d\",\"colorbar\":{\"outlinewidth\":0,\"ticks\":\"\"}}],\"scatter\":[{\"fillpattern\":{\"fillmode\":\"overlay\",\"size\":10,\"solidity\":0.2},\"type\":\"scatter\"}],\"parcoords\":[{\"type\":\"parcoords\",\"line\":{\"colorbar\":{\"outlinewidth\":0,\"ticks\":\"\"}}}],\"scatterpolargl\":[{\"type\":\"scatterpolargl\",\"marker\":{\"colorbar\":{\"outlinewidth\":0,\"ticks\":\"\"}}}],\"bar\":[{\"error_x\":{\"color\":\"#2a3f5f\"},\"error_y\":{\"color\":\"#2a3f5f\"},\"marker\":{\"line\":{\"color\":\"#E5ECF6\",\"width\":0.5},\"pattern\":{\"fillmode\":\"overlay\",\"size\":10,\"solidity\":0.2}},\"type\":\"bar\"}],\"scattergeo\":[{\"type\":\"scattergeo\",\"marker\":{\"colorbar\":{\"outlinewidth\":0,\"ticks\":\"\"}}}],\"scatterpolar\":[{\"type\":\"scatterpolar\",\"marker\":{\"colorbar\":{\"outlinewidth\":0,\"ticks\":\"\"}}}],\"histogram\":[{\"marker\":{\"pattern\":{\"fillmode\":\"overlay\",\"size\":10,\"solidity\":0.2}},\"type\":\"histogram\"}],\"scattergl\":[{\"type\":\"scattergl\",\"marker\":{\"colorbar\":{\"outlinewidth\":0,\"ticks\":\"\"}}}],\"scatter3d\":[{\"type\":\"scatter3d\",\"line\":{\"colorbar\":{\"outlinewidth\":0,\"ticks\":\"\"}},\"marker\":{\"colorbar\":{\"outlinewidth\":0,\"ticks\":\"\"}}}],\"scattermapbox\":[{\"type\":\"scattermapbox\",\"marker\":{\"colorbar\":{\"outlinewidth\":0,\"ticks\":\"\"}}}],\"scatterternary\":[{\"type\":\"scatterternary\",\"marker\":{\"colorbar\":{\"outlinewidth\":0,\"ticks\":\"\"}}}],\"scattercarpet\":[{\"type\":\"scattercarpet\",\"marker\":{\"colorbar\":{\"outlinewidth\":0,\"ticks\":\"\"}}}],\"carpet\":[{\"aaxis\":{\"endlinecolor\":\"#2a3f5f\",\"gridcolor\":\"white\",\"linecolor\":\"white\",\"minorgridcolor\":\"white\",\"startlinecolor\":\"#2a3f5f\"},\"baxis\":{\"endlinecolor\":\"#2a3f5f\",\"gridcolor\":\"white\",\"linecolor\":\"white\",\"minorgridcolor\":\"white\",\"startlinecolor\":\"#2a3f5f\"},\"type\":\"carpet\"}],\"table\":[{\"cells\":{\"fill\":{\"color\":\"#EBF0F8\"},\"line\":{\"color\":\"white\"}},\"header\":{\"fill\":{\"color\":\"#C8D4E3\"},\"line\":{\"color\":\"white\"}},\"type\":\"table\"}],\"barpolar\":[{\"marker\":{\"line\":{\"color\":\"#E5ECF6\",\"width\":0.5},\"pattern\":{\"fillmode\":\"overlay\",\"size\":10,\"solidity\":0.2}},\"type\":\"barpolar\"}],\"pie\":[{\"automargin\":true,\"type\":\"pie\"}]},\"layout\":{\"autotypenumbers\":\"strict\",\"colorway\":[\"#636efa\",\"#EF553B\",\"#00cc96\",\"#ab63fa\",\"#FFA15A\",\"#19d3f3\",\"#FF6692\",\"#B6E880\",\"#FF97FF\",\"#FECB52\"],\"font\":{\"color\":\"#2a3f5f\"},\"hovermode\":\"closest\",\"hoverlabel\":{\"align\":\"left\"},\"paper_bgcolor\":\"white\",\"plot_bgcolor\":\"#E5ECF6\",\"polar\":{\"bgcolor\":\"#E5ECF6\",\"angularaxis\":{\"gridcolor\":\"white\",\"linecolor\":\"white\",\"ticks\":\"\"},\"radialaxis\":{\"gridcolor\":\"white\",\"linecolor\":\"white\",\"ticks\":\"\"}},\"ternary\":{\"bgcolor\":\"#E5ECF6\",\"aaxis\":{\"gridcolor\":\"white\",\"linecolor\":\"white\",\"ticks\":\"\"},\"baxis\":{\"gridcolor\":\"white\",\"linecolor\":\"white\",\"ticks\":\"\"},\"caxis\":{\"gridcolor\":\"white\",\"linecolor\":\"white\",\"ticks\":\"\"}},\"coloraxis\":{\"colorbar\":{\"outlinewidth\":0,\"ticks\":\"\"}},\"colorscale\":{\"sequential\":[[0.0,\"#0d0887\"],[0.1111111111111111,\"#46039f\"],[0.2222222222222222,\"#7201a8\"],[0.3333333333333333,\"#9c179e\"],[0.4444444444444444,\"#bd3786\"],[0.5555555555555556,\"#d8576b\"],[0.6666666666666666,\"#ed7953\"],[0.7777777777777778,\"#fb9f3a\"],[0.8888888888888888,\"#fdca26\"],[1.0,\"#f0f921\"]],\"sequentialminus\":[[0.0,\"#0d0887\"],[0.1111111111111111,\"#46039f\"],[0.2222222222222222,\"#7201a8\"],[0.3333333333333333,\"#9c179e\"],[0.4444444444444444,\"#bd3786\"],[0.5555555555555556,\"#d8576b\"],[0.6666666666666666,\"#ed7953\"],[0.7777777777777778,\"#fb9f3a\"],[0.8888888888888888,\"#fdca26\"],[1.0,\"#f0f921\"]],\"diverging\":[[0,\"#8e0152\"],[0.1,\"#c51b7d\"],[0.2,\"#de77ae\"],[0.3,\"#f1b6da\"],[0.4,\"#fde0ef\"],[0.5,\"#f7f7f7\"],[0.6,\"#e6f5d0\"],[0.7,\"#b8e186\"],[0.8,\"#7fbc41\"],[0.9,\"#4d9221\"],[1,\"#276419\"]]},\"xaxis\":{\"gridcolor\":\"white\",\"linecolor\":\"white\",\"ticks\":\"\",\"title\":{\"standoff\":15},\"zerolinecolor\":\"white\",\"automargin\":true,\"zerolinewidth\":2},\"yaxis\":{\"gridcolor\":\"white\",\"linecolor\":\"white\",\"ticks\":\"\",\"title\":{\"standoff\":15},\"zerolinecolor\":\"white\",\"automargin\":true,\"zerolinewidth\":2},\"scene\":{\"xaxis\":{\"backgroundcolor\":\"#E5ECF6\",\"gridcolor\":\"white\",\"linecolor\":\"white\",\"showbackground\":true,\"ticks\":\"\",\"zerolinecolor\":\"white\",\"gridwidth\":2},\"yaxis\":{\"backgroundcolor\":\"#E5ECF6\",\"gridcolor\":\"white\",\"linecolor\":\"white\",\"showbackground\":true,\"ticks\":\"\",\"zerolinecolor\":\"white\",\"gridwidth\":2},\"zaxis\":{\"backgroundcolor\":\"#E5ECF6\",\"gridcolor\":\"white\",\"linecolor\":\"white\",\"showbackground\":true,\"ticks\":\"\",\"zerolinecolor\":\"white\",\"gridwidth\":2}},\"shapedefaults\":{\"line\":{\"color\":\"#2a3f5f\"}},\"annotationdefaults\":{\"arrowcolor\":\"#2a3f5f\",\"arrowhead\":0,\"arrowwidth\":1},\"geo\":{\"bgcolor\":\"white\",\"landcolor\":\"#E5ECF6\",\"subunitcolor\":\"white\",\"showland\":true,\"showlakes\":true,\"lakecolor\":\"white\"},\"title\":{\"x\":0.05},\"mapbox\":{\"style\":\"light\"}}},\"xaxis\":{\"anchor\":\"y\",\"domain\":[0.0,0.45],\"title\":{\"text\":\"Epoch\"}},\"yaxis\":{\"anchor\":\"x\",\"domain\":[0.0,1.0],\"title\":{\"text\":\"Loss\"}},\"xaxis2\":{\"anchor\":\"y2\",\"domain\":[0.55,1.0],\"title\":{\"text\":\"Epoch\"}},\"yaxis2\":{\"anchor\":\"x2\",\"domain\":[0.0,1.0],\"title\":{\"text\":\"Accuracy\"}},\"annotations\":[{\"font\":{\"size\":16},\"showarrow\":false,\"text\":\"Loss Over Epochs\",\"x\":0.225,\"xanchor\":\"center\",\"xref\":\"paper\",\"y\":1.0,\"yanchor\":\"bottom\",\"yref\":\"paper\"},{\"font\":{\"size\":16},\"showarrow\":false,\"text\":\"Accuracy Over Epochs\",\"x\":0.775,\"xanchor\":\"center\",\"xref\":\"paper\",\"y\":1.0,\"yanchor\":\"bottom\",\"yref\":\"paper\"}],\"title\":{\"text\":\"Training Metrics\"},\"showlegend\":true},                        {\"responsive\": true}                    ).then(function(){\n",
       "                            \n",
       "var gd = document.getElementById('17ac4161-c109-4efc-a3b6-918ce56fc610');\n",
       "var x = new MutationObserver(function (mutations, observer) {{\n",
       "        var display = window.getComputedStyle(gd).display;\n",
       "        if (!display || display === 'none') {{\n",
       "            console.log([gd, 'removed!']);\n",
       "            Plotly.purge(gd);\n",
       "            observer.disconnect();\n",
       "        }}\n",
       "}});\n",
       "\n",
       "// Listen for the removal of the full notebook cells\n",
       "var notebookContainer = gd.closest('#notebook-container');\n",
       "if (notebookContainer) {{\n",
       "    x.observe(notebookContainer, {childList: true});\n",
       "}}\n",
       "\n",
       "// Listen for the clearing of the current output cell\n",
       "var outputEl = gd.closest('.output');\n",
       "if (outputEl) {{\n",
       "    x.observe(outputEl, {childList: true});\n",
       "}}\n",
       "\n",
       "                        })                };                });            </script>        </div>"
      ]
     },
     "metadata": {},
     "output_type": "display_data"
    }
   ],
   "source": [
    "plot_tensorflow_training_results(history=callback)"
   ]
  },
  {
   "cell_type": "code",
   "execution_count": 7,
   "id": "5f637f6b",
   "metadata": {
    "execution": {
     "iopub.execute_input": "2024-09-08T16:10:40.105215Z",
     "iopub.status.busy": "2024-09-08T16:10:40.104202Z",
     "iopub.status.idle": "2024-09-08T16:10:41.924138Z",
     "shell.execute_reply": "2024-09-08T16:10:41.923072Z"
    },
    "papermill": {
     "duration": 1.872478,
     "end_time": "2024-09-08T16:10:41.926940",
     "exception": false,
     "start_time": "2024-09-08T16:10:40.054462",
     "status": "completed"
    },
    "tags": []
   },
   "outputs": [
    {
     "name": "stdout",
     "output_type": "stream",
     "text": [
      "\u001b[1m875/875\u001b[0m \u001b[32m━━━━━━━━━━━━━━━━━━━━\u001b[0m\u001b[37m\u001b[0m \u001b[1m1s\u001b[0m 1ms/step\n"
     ]
    }
   ],
   "source": [
    "y_prd = model.predict(x_tst)\n",
    "y_prd_labels = np.argmax(y_prd, axis=1)"
   ]
  },
  {
   "cell_type": "code",
   "execution_count": 8,
   "id": "c4c67970",
   "metadata": {
    "execution": {
     "iopub.execute_input": "2024-09-08T16:10:42.040358Z",
     "iopub.status.busy": "2024-09-08T16:10:42.039910Z",
     "iopub.status.idle": "2024-09-08T16:10:42.302681Z",
     "shell.execute_reply": "2024-09-08T16:10:42.301625Z"
    },
    "papermill": {
     "duration": 0.321538,
     "end_time": "2024-09-08T16:10:42.305510",
     "exception": false,
     "start_time": "2024-09-08T16:10:41.983972",
     "status": "completed"
    },
    "tags": []
   },
   "outputs": [],
   "source": [
    "tst_df[\"Label\"] = y_prd_labels\n",
    "tst_df = tst_df.reset_index(names=\"ImageId\")\n",
    "tst_df[\"ImageId\"] += 1\n",
    "tst_df[[\"ImageId\", \"Label\"]].to_csv(\"tensorflow-prediction.csv\", index=False, header=True)"
   ]
  },
  {
   "cell_type": "code",
   "execution_count": 9,
   "id": "099272bf",
   "metadata": {
    "execution": {
     "iopub.execute_input": "2024-09-08T16:10:42.409862Z",
     "iopub.status.busy": "2024-09-08T16:10:42.409372Z",
     "iopub.status.idle": "2024-09-08T16:11:23.733549Z",
     "shell.execute_reply": "2024-09-08T16:11:23.732395Z"
    },
    "papermill": {
     "duration": 41.379417,
     "end_time": "2024-09-08T16:11:23.735928",
     "exception": false,
     "start_time": "2024-09-08T16:10:42.356511",
     "status": "completed"
    },
    "tags": []
   },
   "outputs": [
    {
     "name": "stderr",
     "output_type": "stream",
     "text": [
      "1050it [00:03, 321.60it/s]\n"
     ]
    },
    {
     "name": "stdout",
     "output_type": "stream",
     "text": [
      "Epoch 1/10, Train Loss: 0.4248, Train Accuracy: 0.8763, Test Loss: 0.2672, Test Accuracy: 0.9187\n"
     ]
    },
    {
     "name": "stderr",
     "output_type": "stream",
     "text": [
      "1050it [00:03, 321.63it/s]\n"
     ]
    },
    {
     "name": "stdout",
     "output_type": "stream",
     "text": [
      "Epoch 2/10, Train Loss: 0.1948, Train Accuracy: 0.9415, Test Loss: 0.1848, Test Accuracy: 0.9442\n"
     ]
    },
    {
     "name": "stderr",
     "output_type": "stream",
     "text": [
      "1050it [00:03, 278.59it/s]\n"
     ]
    },
    {
     "name": "stdout",
     "output_type": "stream",
     "text": [
      "Epoch 3/10, Train Loss: 0.1406, Train Accuracy: 0.9574, Test Loss: 0.1559, Test Accuracy: 0.9529\n"
     ]
    },
    {
     "name": "stderr",
     "output_type": "stream",
     "text": [
      "1050it [00:03, 320.24it/s]\n"
     ]
    },
    {
     "name": "stdout",
     "output_type": "stream",
     "text": [
      "Epoch 4/10, Train Loss: 0.1070, Train Accuracy: 0.9673, Test Loss: 0.1434, Test Accuracy: 0.9569\n"
     ]
    },
    {
     "name": "stderr",
     "output_type": "stream",
     "text": [
      "1050it [00:03, 324.14it/s]\n"
     ]
    },
    {
     "name": "stdout",
     "output_type": "stream",
     "text": [
      "Epoch 5/10, Train Loss: 0.0881, Train Accuracy: 0.9735, Test Loss: 0.1203, Test Accuracy: 0.9639\n"
     ]
    },
    {
     "name": "stderr",
     "output_type": "stream",
     "text": [
      "1050it [00:03, 322.57it/s]\n"
     ]
    },
    {
     "name": "stdout",
     "output_type": "stream",
     "text": [
      "Epoch 6/10, Train Loss: 0.0717, Train Accuracy: 0.9773, Test Loss: 0.1360, Test Accuracy: 0.9606\n"
     ]
    },
    {
     "name": "stderr",
     "output_type": "stream",
     "text": [
      "1050it [00:03, 325.33it/s]\n"
     ]
    },
    {
     "name": "stdout",
     "output_type": "stream",
     "text": [
      "Epoch 7/10, Train Loss: 0.0596, Train Accuracy: 0.9816, Test Loss: 0.1258, Test Accuracy: 0.9656\n"
     ]
    },
    {
     "name": "stderr",
     "output_type": "stream",
     "text": [
      "1050it [00:03, 337.61it/s]\n"
     ]
    },
    {
     "name": "stdout",
     "output_type": "stream",
     "text": [
      "Epoch 8/10, Train Loss: 0.0510, Train Accuracy: 0.9832, Test Loss: 0.1213, Test Accuracy: 0.9655\n"
     ]
    },
    {
     "name": "stderr",
     "output_type": "stream",
     "text": [
      "1050it [00:03, 329.00it/s]\n"
     ]
    },
    {
     "name": "stdout",
     "output_type": "stream",
     "text": [
      "Epoch 9/10, Train Loss: 0.0434, Train Accuracy: 0.9861, Test Loss: 0.1282, Test Accuracy: 0.9681\n"
     ]
    },
    {
     "name": "stderr",
     "output_type": "stream",
     "text": [
      "1050it [00:03, 334.33it/s]\n"
     ]
    },
    {
     "name": "stdout",
     "output_type": "stream",
     "text": [
      "Epoch 10/10, Train Loss: 0.0391, Train Accuracy: 0.9870, Test Loss: 0.1292, Test Accuracy: 0.9669\n"
     ]
    },
    {
     "data": {
      "text/html": [
       "<div>                            <div id=\"d4e86308-e3e0-411c-9d34-d5c241e2ceae\" class=\"plotly-graph-div\" style=\"height:525px; width:100%;\"></div>            <script type=\"text/javascript\">                require([\"plotly\"], function(Plotly) {                    window.PLOTLYENV=window.PLOTLYENV || {};                                    if (document.getElementById(\"d4e86308-e3e0-411c-9d34-d5c241e2ceae\")) {                    Plotly.newPlot(                        \"d4e86308-e3e0-411c-9d34-d5c241e2ceae\",                        [{\"mode\":\"lines\",\"name\":\"Training Loss\",\"x\":[0,1,2,3,4,5,6,7,8,9],\"y\":[0.4247854110563085,0.1948169409891679,0.14057663531973957,0.10700142144447282,0.08807214143042941,0.07169880008513463,0.059620555345235124,0.05102163804828056,0.04340263002391328,0.039115734995104415],\"type\":\"scatter\",\"xaxis\":\"x\",\"yaxis\":\"y\"},{\"mode\":\"lines\",\"name\":\"Validation Loss\",\"x\":[0,1,2,3,4,5,6,7,8,9],\"y\":[0.2671705181692716,0.18475834339035554,0.15588134055702235,0.14336487992769356,0.1202657654228135,0.13595562211296278,0.125791346962376,0.1213398925469172,0.12817628577151496,0.12924948722914661],\"type\":\"scatter\",\"xaxis\":\"x\",\"yaxis\":\"y\"},{\"mode\":\"lines\",\"name\":\"Training Accuracy\",\"x\":[0,1,2,3,4,5,6,7,8,9],\"y\":[0.8762797619047619,0.9414880952380953,0.9574404761904762,0.9672916666666667,0.9734821428571429,0.9772916666666667,0.9816071428571429,0.9832440476190476,0.9860714285714286,0.9869940476190476],\"type\":\"scatter\",\"xaxis\":\"x2\",\"yaxis\":\"y2\"},{\"mode\":\"lines\",\"name\":\"Validation Accuracy\",\"x\":[0,1,2,3,4,5,6,7,8,9],\"y\":[0.9186904761904762,0.9441666666666667,0.9528571428571428,0.9569047619047619,0.9639285714285715,0.9605952380952381,0.9655952380952381,0.9654761904761905,0.9680952380952381,0.9669047619047619],\"type\":\"scatter\",\"xaxis\":\"x2\",\"yaxis\":\"y2\"}],                        {\"template\":{\"data\":{\"histogram2dcontour\":[{\"type\":\"histogram2dcontour\",\"colorbar\":{\"outlinewidth\":0,\"ticks\":\"\"},\"colorscale\":[[0.0,\"#0d0887\"],[0.1111111111111111,\"#46039f\"],[0.2222222222222222,\"#7201a8\"],[0.3333333333333333,\"#9c179e\"],[0.4444444444444444,\"#bd3786\"],[0.5555555555555556,\"#d8576b\"],[0.6666666666666666,\"#ed7953\"],[0.7777777777777778,\"#fb9f3a\"],[0.8888888888888888,\"#fdca26\"],[1.0,\"#f0f921\"]]}],\"choropleth\":[{\"type\":\"choropleth\",\"colorbar\":{\"outlinewidth\":0,\"ticks\":\"\"}}],\"histogram2d\":[{\"type\":\"histogram2d\",\"colorbar\":{\"outlinewidth\":0,\"ticks\":\"\"},\"colorscale\":[[0.0,\"#0d0887\"],[0.1111111111111111,\"#46039f\"],[0.2222222222222222,\"#7201a8\"],[0.3333333333333333,\"#9c179e\"],[0.4444444444444444,\"#bd3786\"],[0.5555555555555556,\"#d8576b\"],[0.6666666666666666,\"#ed7953\"],[0.7777777777777778,\"#fb9f3a\"],[0.8888888888888888,\"#fdca26\"],[1.0,\"#f0f921\"]]}],\"heatmap\":[{\"type\":\"heatmap\",\"colorbar\":{\"outlinewidth\":0,\"ticks\":\"\"},\"colorscale\":[[0.0,\"#0d0887\"],[0.1111111111111111,\"#46039f\"],[0.2222222222222222,\"#7201a8\"],[0.3333333333333333,\"#9c179e\"],[0.4444444444444444,\"#bd3786\"],[0.5555555555555556,\"#d8576b\"],[0.6666666666666666,\"#ed7953\"],[0.7777777777777778,\"#fb9f3a\"],[0.8888888888888888,\"#fdca26\"],[1.0,\"#f0f921\"]]}],\"heatmapgl\":[{\"type\":\"heatmapgl\",\"colorbar\":{\"outlinewidth\":0,\"ticks\":\"\"},\"colorscale\":[[0.0,\"#0d0887\"],[0.1111111111111111,\"#46039f\"],[0.2222222222222222,\"#7201a8\"],[0.3333333333333333,\"#9c179e\"],[0.4444444444444444,\"#bd3786\"],[0.5555555555555556,\"#d8576b\"],[0.6666666666666666,\"#ed7953\"],[0.7777777777777778,\"#fb9f3a\"],[0.8888888888888888,\"#fdca26\"],[1.0,\"#f0f921\"]]}],\"contourcarpet\":[{\"type\":\"contourcarpet\",\"colorbar\":{\"outlinewidth\":0,\"ticks\":\"\"}}],\"contour\":[{\"type\":\"contour\",\"colorbar\":{\"outlinewidth\":0,\"ticks\":\"\"},\"colorscale\":[[0.0,\"#0d0887\"],[0.1111111111111111,\"#46039f\"],[0.2222222222222222,\"#7201a8\"],[0.3333333333333333,\"#9c179e\"],[0.4444444444444444,\"#bd3786\"],[0.5555555555555556,\"#d8576b\"],[0.6666666666666666,\"#ed7953\"],[0.7777777777777778,\"#fb9f3a\"],[0.8888888888888888,\"#fdca26\"],[1.0,\"#f0f921\"]]}],\"surface\":[{\"type\":\"surface\",\"colorbar\":{\"outlinewidth\":0,\"ticks\":\"\"},\"colorscale\":[[0.0,\"#0d0887\"],[0.1111111111111111,\"#46039f\"],[0.2222222222222222,\"#7201a8\"],[0.3333333333333333,\"#9c179e\"],[0.4444444444444444,\"#bd3786\"],[0.5555555555555556,\"#d8576b\"],[0.6666666666666666,\"#ed7953\"],[0.7777777777777778,\"#fb9f3a\"],[0.8888888888888888,\"#fdca26\"],[1.0,\"#f0f921\"]]}],\"mesh3d\":[{\"type\":\"mesh3d\",\"colorbar\":{\"outlinewidth\":0,\"ticks\":\"\"}}],\"scatter\":[{\"fillpattern\":{\"fillmode\":\"overlay\",\"size\":10,\"solidity\":0.2},\"type\":\"scatter\"}],\"parcoords\":[{\"type\":\"parcoords\",\"line\":{\"colorbar\":{\"outlinewidth\":0,\"ticks\":\"\"}}}],\"scatterpolargl\":[{\"type\":\"scatterpolargl\",\"marker\":{\"colorbar\":{\"outlinewidth\":0,\"ticks\":\"\"}}}],\"bar\":[{\"error_x\":{\"color\":\"#2a3f5f\"},\"error_y\":{\"color\":\"#2a3f5f\"},\"marker\":{\"line\":{\"color\":\"#E5ECF6\",\"width\":0.5},\"pattern\":{\"fillmode\":\"overlay\",\"size\":10,\"solidity\":0.2}},\"type\":\"bar\"}],\"scattergeo\":[{\"type\":\"scattergeo\",\"marker\":{\"colorbar\":{\"outlinewidth\":0,\"ticks\":\"\"}}}],\"scatterpolar\":[{\"type\":\"scatterpolar\",\"marker\":{\"colorbar\":{\"outlinewidth\":0,\"ticks\":\"\"}}}],\"histogram\":[{\"marker\":{\"pattern\":{\"fillmode\":\"overlay\",\"size\":10,\"solidity\":0.2}},\"type\":\"histogram\"}],\"scattergl\":[{\"type\":\"scattergl\",\"marker\":{\"colorbar\":{\"outlinewidth\":0,\"ticks\":\"\"}}}],\"scatter3d\":[{\"type\":\"scatter3d\",\"line\":{\"colorbar\":{\"outlinewidth\":0,\"ticks\":\"\"}},\"marker\":{\"colorbar\":{\"outlinewidth\":0,\"ticks\":\"\"}}}],\"scattermapbox\":[{\"type\":\"scattermapbox\",\"marker\":{\"colorbar\":{\"outlinewidth\":0,\"ticks\":\"\"}}}],\"scatterternary\":[{\"type\":\"scatterternary\",\"marker\":{\"colorbar\":{\"outlinewidth\":0,\"ticks\":\"\"}}}],\"scattercarpet\":[{\"type\":\"scattercarpet\",\"marker\":{\"colorbar\":{\"outlinewidth\":0,\"ticks\":\"\"}}}],\"carpet\":[{\"aaxis\":{\"endlinecolor\":\"#2a3f5f\",\"gridcolor\":\"white\",\"linecolor\":\"white\",\"minorgridcolor\":\"white\",\"startlinecolor\":\"#2a3f5f\"},\"baxis\":{\"endlinecolor\":\"#2a3f5f\",\"gridcolor\":\"white\",\"linecolor\":\"white\",\"minorgridcolor\":\"white\",\"startlinecolor\":\"#2a3f5f\"},\"type\":\"carpet\"}],\"table\":[{\"cells\":{\"fill\":{\"color\":\"#EBF0F8\"},\"line\":{\"color\":\"white\"}},\"header\":{\"fill\":{\"color\":\"#C8D4E3\"},\"line\":{\"color\":\"white\"}},\"type\":\"table\"}],\"barpolar\":[{\"marker\":{\"line\":{\"color\":\"#E5ECF6\",\"width\":0.5},\"pattern\":{\"fillmode\":\"overlay\",\"size\":10,\"solidity\":0.2}},\"type\":\"barpolar\"}],\"pie\":[{\"automargin\":true,\"type\":\"pie\"}]},\"layout\":{\"autotypenumbers\":\"strict\",\"colorway\":[\"#636efa\",\"#EF553B\",\"#00cc96\",\"#ab63fa\",\"#FFA15A\",\"#19d3f3\",\"#FF6692\",\"#B6E880\",\"#FF97FF\",\"#FECB52\"],\"font\":{\"color\":\"#2a3f5f\"},\"hovermode\":\"closest\",\"hoverlabel\":{\"align\":\"left\"},\"paper_bgcolor\":\"white\",\"plot_bgcolor\":\"#E5ECF6\",\"polar\":{\"bgcolor\":\"#E5ECF6\",\"angularaxis\":{\"gridcolor\":\"white\",\"linecolor\":\"white\",\"ticks\":\"\"},\"radialaxis\":{\"gridcolor\":\"white\",\"linecolor\":\"white\",\"ticks\":\"\"}},\"ternary\":{\"bgcolor\":\"#E5ECF6\",\"aaxis\":{\"gridcolor\":\"white\",\"linecolor\":\"white\",\"ticks\":\"\"},\"baxis\":{\"gridcolor\":\"white\",\"linecolor\":\"white\",\"ticks\":\"\"},\"caxis\":{\"gridcolor\":\"white\",\"linecolor\":\"white\",\"ticks\":\"\"}},\"coloraxis\":{\"colorbar\":{\"outlinewidth\":0,\"ticks\":\"\"}},\"colorscale\":{\"sequential\":[[0.0,\"#0d0887\"],[0.1111111111111111,\"#46039f\"],[0.2222222222222222,\"#7201a8\"],[0.3333333333333333,\"#9c179e\"],[0.4444444444444444,\"#bd3786\"],[0.5555555555555556,\"#d8576b\"],[0.6666666666666666,\"#ed7953\"],[0.7777777777777778,\"#fb9f3a\"],[0.8888888888888888,\"#fdca26\"],[1.0,\"#f0f921\"]],\"sequentialminus\":[[0.0,\"#0d0887\"],[0.1111111111111111,\"#46039f\"],[0.2222222222222222,\"#7201a8\"],[0.3333333333333333,\"#9c179e\"],[0.4444444444444444,\"#bd3786\"],[0.5555555555555556,\"#d8576b\"],[0.6666666666666666,\"#ed7953\"],[0.7777777777777778,\"#fb9f3a\"],[0.8888888888888888,\"#fdca26\"],[1.0,\"#f0f921\"]],\"diverging\":[[0,\"#8e0152\"],[0.1,\"#c51b7d\"],[0.2,\"#de77ae\"],[0.3,\"#f1b6da\"],[0.4,\"#fde0ef\"],[0.5,\"#f7f7f7\"],[0.6,\"#e6f5d0\"],[0.7,\"#b8e186\"],[0.8,\"#7fbc41\"],[0.9,\"#4d9221\"],[1,\"#276419\"]]},\"xaxis\":{\"gridcolor\":\"white\",\"linecolor\":\"white\",\"ticks\":\"\",\"title\":{\"standoff\":15},\"zerolinecolor\":\"white\",\"automargin\":true,\"zerolinewidth\":2},\"yaxis\":{\"gridcolor\":\"white\",\"linecolor\":\"white\",\"ticks\":\"\",\"title\":{\"standoff\":15},\"zerolinecolor\":\"white\",\"automargin\":true,\"zerolinewidth\":2},\"scene\":{\"xaxis\":{\"backgroundcolor\":\"#E5ECF6\",\"gridcolor\":\"white\",\"linecolor\":\"white\",\"showbackground\":true,\"ticks\":\"\",\"zerolinecolor\":\"white\",\"gridwidth\":2},\"yaxis\":{\"backgroundcolor\":\"#E5ECF6\",\"gridcolor\":\"white\",\"linecolor\":\"white\",\"showbackground\":true,\"ticks\":\"\",\"zerolinecolor\":\"white\",\"gridwidth\":2},\"zaxis\":{\"backgroundcolor\":\"#E5ECF6\",\"gridcolor\":\"white\",\"linecolor\":\"white\",\"showbackground\":true,\"ticks\":\"\",\"zerolinecolor\":\"white\",\"gridwidth\":2}},\"shapedefaults\":{\"line\":{\"color\":\"#2a3f5f\"}},\"annotationdefaults\":{\"arrowcolor\":\"#2a3f5f\",\"arrowhead\":0,\"arrowwidth\":1},\"geo\":{\"bgcolor\":\"white\",\"landcolor\":\"#E5ECF6\",\"subunitcolor\":\"white\",\"showland\":true,\"showlakes\":true,\"lakecolor\":\"white\"},\"title\":{\"x\":0.05},\"mapbox\":{\"style\":\"light\"}}},\"xaxis\":{\"anchor\":\"y\",\"domain\":[0.0,0.45],\"title\":{\"text\":\"Epoch\"}},\"yaxis\":{\"anchor\":\"x\",\"domain\":[0.0,1.0],\"title\":{\"text\":\"Loss\"}},\"xaxis2\":{\"anchor\":\"y2\",\"domain\":[0.55,1.0],\"title\":{\"text\":\"Epoch\"}},\"yaxis2\":{\"anchor\":\"x2\",\"domain\":[0.0,1.0],\"title\":{\"text\":\"Accuracy\"}},\"annotations\":[{\"font\":{\"size\":16},\"showarrow\":false,\"text\":\"Loss Over Epochs\",\"x\":0.225,\"xanchor\":\"center\",\"xref\":\"paper\",\"y\":1.0,\"yanchor\":\"bottom\",\"yref\":\"paper\"},{\"font\":{\"size\":16},\"showarrow\":false,\"text\":\"Accuracy Over Epochs\",\"x\":0.775,\"xanchor\":\"center\",\"xref\":\"paper\",\"y\":1.0,\"yanchor\":\"bottom\",\"yref\":\"paper\"}],\"title\":{\"text\":\"Training Metrics\"},\"showlegend\":true},                        {\"responsive\": true}                    ).then(function(){\n",
       "                            \n",
       "var gd = document.getElementById('d4e86308-e3e0-411c-9d34-d5c241e2ceae');\n",
       "var x = new MutationObserver(function (mutations, observer) {{\n",
       "        var display = window.getComputedStyle(gd).display;\n",
       "        if (!display || display === 'none') {{\n",
       "            console.log([gd, 'removed!']);\n",
       "            Plotly.purge(gd);\n",
       "            observer.disconnect();\n",
       "        }}\n",
       "}});\n",
       "\n",
       "// Listen for the removal of the full notebook cells\n",
       "var notebookContainer = gd.closest('#notebook-container');\n",
       "if (notebookContainer) {{\n",
       "    x.observe(notebookContainer, {childList: true});\n",
       "}}\n",
       "\n",
       "// Listen for the clearing of the current output cell\n",
       "var outputEl = gd.closest('.output');\n",
       "if (outputEl) {{\n",
       "    x.observe(outputEl, {childList: true});\n",
       "}}\n",
       "\n",
       "                        })                };                });            </script>        </div>"
      ]
     },
     "metadata": {},
     "output_type": "display_data"
    }
   ],
   "source": [
    "# 1. Importing the necessary libraries.\n",
    "import os\n",
    "import torch\n",
    "import torchvision\n",
    "from tqdm import tqdm\n",
    "import torch.nn as nn\n",
    "import matplotlib.pyplot as plt\n",
    "import plotly.graph_objects as go\n",
    "from plotly.subplots import make_subplots\n",
    "\n",
    "\n",
    "class NumpyDataset(torch.utils.data.Dataset):\n",
    "    def __init__(self, data, labels=None, train=True):\n",
    "        self.data = torch.from_numpy(data).float()\n",
    "        if train:\n",
    "            self.labels = torch.from_numpy(labels).long()\n",
    "\n",
    "        self.train = train\n",
    "\n",
    "    def __len__(self):\n",
    "        return len(self.data)\n",
    "\n",
    "    def __getitem__(self, idx):\n",
    "        sample = self.data[idx]\n",
    "        if self.train:\n",
    "            return sample, self.labels[idx]\n",
    "        return sample\n",
    "\n",
    "# 3. Loading the dataset.\n",
    "mnist_dataset_trn = NumpyDataset(data=x_trn, labels=y_trn, train=True)\n",
    "mnist_dataset_val = NumpyDataset(data=x_val, labels=y_val, train=True)\n",
    "mnist_dataset_tst = NumpyDataset(data=x_tst, labels=None,  train=False)\n",
    "\n",
    "# 4. Preprocessing the data to make it suitable for training.\n",
    "trn_loader = torch.utils.data.DataLoader(\n",
    "    dataset=mnist_dataset_trn, \n",
    "    batch_size=batch_size, \n",
    "    shuffle=True)\n",
    "val_loader = torch.utils.data.DataLoader(\n",
    "    dataset=mnist_dataset_val, \n",
    "    batch_size=batch_size, \n",
    "    shuffle=True)\n",
    "tst_loader = torch.utils.data.DataLoader(\n",
    "    dataset=mnist_dataset_tst, \n",
    "    batch_size=batch_size, \n",
    "    shuffle=False)\n",
    "\n",
    "# 5. Initializing the model architecture.\n",
    "class ANN(nn.Module):\n",
    "    def __init__(self):\n",
    "        super(ANN, self).__init__()\n",
    "        self.fc1 = nn.Linear(img_size_flattened, hidden_1)\n",
    "        self.fc2 = nn.Linear(hidden_1, hidden_2)\n",
    "        self.out = nn.Linear(hidden_2, n_classes)\n",
    "    \n",
    "    def forward(self, x):\n",
    "        x = x.reshape(-1, img_size_flattened)\n",
    "        x = nn.functional.relu(self.fc1(x))\n",
    "        x = nn.functional.relu(self.fc2(x))\n",
    "        x = self.out(x)\n",
    "        return x\n",
    "\n",
    "model = ANN()\n",
    "optimizer = torch.optim.Adam(model.parameters(), lr=learning_rate)\n",
    "loss_function = nn.CrossEntropyLoss()\n",
    "\n",
    "# Tracking metrics\n",
    "train_losses = []\n",
    "test_losses = []\n",
    "train_accuracies = []\n",
    "test_accuracies = []\n",
    "\n",
    "# 6. Training the model using the defined parameters and dataset.\n",
    "for epoch in range(n_epochs):\n",
    "    model.train()\n",
    "    running_loss = 0\n",
    "    correct_train = 0\n",
    "    total_train = 0\n",
    "\n",
    "    for batch_idx, (x_trn_batch, y_trn_batch) in tqdm(enumerate(trn_loader)):\n",
    "        optimizer.zero_grad()\n",
    "        y_pred_batch = model(x_trn_batch)\n",
    "        loss = loss_function(y_pred_batch, y_trn_batch)\n",
    "        loss.backward()\n",
    "        optimizer.step()\n",
    "\n",
    "        running_loss += loss.item()\n",
    "        _, predicted = torch.max(y_pred_batch, 1)\n",
    "        correct_train += (predicted == y_trn_batch).sum().item()\n",
    "        total_train += y_trn_batch.size(0)\n",
    "\n",
    "    train_losses.append(running_loss / len(trn_loader))\n",
    "    train_accuracies.append(correct_train / len(x_trn))\n",
    "\n",
    "    model.eval()\n",
    "    test_loss = 0\n",
    "    correct_test = 0\n",
    "    total_test = 0\n",
    "\n",
    "    with torch.no_grad():\n",
    "        for x_val_batch, y_val_batch in val_loader:\n",
    "            y_pred_batch = model(x_val_batch)\n",
    "            loss = loss_function(y_pred_batch, y_val_batch)\n",
    "            test_loss += loss.item()\n",
    "            _, predicted = torch.max(y_pred_batch, 1)\n",
    "            correct_test += (predicted == y_val_batch).sum().item()\n",
    "            total_test += y_val_batch.size(0)\n",
    "\n",
    "    test_losses.append(test_loss / len(val_loader))\n",
    "    test_accuracies.append(correct_test / len(x_val))\n",
    "\n",
    "    print(f'Epoch {epoch+1}/{n_epochs}, Train Loss: {train_losses[-1]:.4f}, Train Accuracy: {train_accuracies[-1]:.4f}, Test Loss: {test_losses[-1]:.4f}, Test Accuracy: {test_accuracies[-1]:.4f}')\n",
    "\n",
    "\n",
    "plot_pytorch_training_results(n_epochs, train_losses, test_losses, train_accuracies, test_accuracies)"
   ]
  },
  {
   "cell_type": "code",
   "execution_count": 10,
   "id": "5d41efdf",
   "metadata": {
    "execution": {
     "iopub.execute_input": "2024-09-08T16:11:23.907477Z",
     "iopub.status.busy": "2024-09-08T16:11:23.906436Z",
     "iopub.status.idle": "2024-09-08T16:11:24.380636Z",
     "shell.execute_reply": "2024-09-08T16:11:24.379418Z"
    },
    "papermill": {
     "duration": 0.563635,
     "end_time": "2024-09-08T16:11:24.383508",
     "exception": false,
     "start_time": "2024-09-08T16:11:23.819873",
     "status": "completed"
    },
    "tags": []
   },
   "outputs": [],
   "source": [
    "y_pred_tot = []\n",
    "with torch.no_grad():\n",
    "    for x_tst_batch in tst_loader:\n",
    "        y_pred_batch = model(x_val_batch)\n",
    "        _, pred = torch.max(y_pred_batch, 1)\n",
    "        y_pred_tot += list(pred.numpy())"
   ]
  },
  {
   "cell_type": "code",
   "execution_count": 11,
   "id": "e17e400c",
   "metadata": {
    "execution": {
     "iopub.execute_input": "2024-09-08T16:11:24.556181Z",
     "iopub.status.busy": "2024-09-08T16:11:24.555378Z",
     "iopub.status.idle": "2024-09-08T16:11:24.601024Z",
     "shell.execute_reply": "2024-09-08T16:11:24.599767Z"
    },
    "papermill": {
     "duration": 0.133814,
     "end_time": "2024-09-08T16:11:24.603902",
     "exception": false,
     "start_time": "2024-09-08T16:11:24.470088",
     "status": "completed"
    },
    "tags": []
   },
   "outputs": [],
   "source": [
    "tst_df[\"Label\"] = y_prd_labels\n",
    "tst_df[[\"ImageId\", \"Label\"]].to_csv(\"pytorch-prediction.csv\", index=False, header=True)"
   ]
  }
 ],
 "metadata": {
  "kaggle": {
   "accelerator": "none",
   "dataSources": [
    {
     "databundleVersionId": 861823,
     "sourceId": 3004,
     "sourceType": "competition"
    }
   ],
   "dockerImageVersionId": 30761,
   "isGpuEnabled": false,
   "isInternetEnabled": false,
   "language": "python",
   "sourceType": "notebook"
  },
  "kernelspec": {
   "display_name": "Python 3",
   "language": "python",
   "name": "python3"
  },
  "language_info": {
   "codemirror_mode": {
    "name": "ipython",
    "version": 3
   },
   "file_extension": ".py",
   "mimetype": "text/x-python",
   "name": "python",
   "nbconvert_exporter": "python",
   "pygments_lexer": "ipython3",
   "version": "3.10.14"
  },
  "papermill": {
   "default_parameters": {},
   "duration": 103.584237,
   "end_time": "2024-09-08T16:11:27.707378",
   "environment_variables": {},
   "exception": null,
   "input_path": "__notebook__.ipynb",
   "output_path": "__notebook__.ipynb",
   "parameters": {},
   "start_time": "2024-09-08T16:09:44.123141",
   "version": "2.6.0"
  }
 },
 "nbformat": 4,
 "nbformat_minor": 5
}
