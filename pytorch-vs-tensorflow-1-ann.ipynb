{
 "cells": [
  {
   "cell_type": "markdown",
   "id": "3cb01964",
   "metadata": {
    "_cell_guid": "b1076dfc-b9ad-4769-8c92-a6c4dae69d19",
    "_uuid": "8f2839f25d086af736a60e9eeb907d3b93b6e0e5",
    "papermill": {
     "duration": 0.005885,
     "end_time": "2024-09-08T16:00:14.905275",
     "exception": false,
     "start_time": "2024-09-08T16:00:14.899390",
     "status": "completed"
    },
    "tags": []
   },
   "source": [
    "# Pytorch vs Tensorflow - ANN\n",
    "\n",
    "Choosing Pytorch vs Tensorflow, which should you use? Which is better and what are the differences between these two frameworks both made for deep learning. Well in this series I am going to compare them side by side so you could see the differences and simliarities clearly, in code with crips examples.\n",
    "\n",
    "Also, when I switched from Tensorflow to pytorch, I just wished I had a \"**Rosetta Stone**\" to translate between frameworks, which I hope this series will be for you. A nice overview that practitioners to leverage the strengths of both libraries.\n",
    "\n",
    "## In this notebook\n",
    "In the first notebook of this series, I will start with the basics by creating a simple Artificial Neural Network (ANN) in both PyTorch and TensorFlow. We will train the ANN on the MNIST dataset, which consists of handwritten digit images, to illustrate fundamental concepts and workflows in each framework. This foundational exercise will set the stage for more complex models and comparisons in subsequent notebooks.\n",
    "\n",
    "For both PyTorch and TensorFlow, the steps for training a model are essentially the same:\n",
    "\n",
    "1. Importing the necessary libraries.\n",
    "2. Defining the model parameters and hyperparameters.\n",
    "3. Loading the dataset.\n",
    "4. Preprocessing the data to make it suitable for training.\n",
    "5. Initializing the model architecture.\n",
    "6. Training the model using the defined parameters and dataset.\n",
    "\n",
    "These steps form the core workflow in building and training deep learning models, regardless of the framework used."
   ]
  },
  {
   "cell_type": "code",
   "execution_count": 1,
   "id": "9fbbb4af",
   "metadata": {
    "execution": {
     "iopub.execute_input": "2024-09-08T16:00:14.917673Z",
     "iopub.status.busy": "2024-09-08T16:00:14.917217Z",
     "iopub.status.idle": "2024-09-08T16:00:15.366126Z",
     "shell.execute_reply": "2024-09-08T16:00:15.365128Z"
    },
    "papermill": {
     "duration": 0.458225,
     "end_time": "2024-09-08T16:00:15.368974",
     "exception": false,
     "start_time": "2024-09-08T16:00:14.910749",
     "status": "completed"
    },
    "tags": []
   },
   "outputs": [],
   "source": [
    "import numpy as np\n",
    "import pandas as pd"
   ]
  },
  {
   "cell_type": "code",
   "execution_count": 2,
   "id": "aa496c7f",
   "metadata": {
    "execution": {
     "iopub.execute_input": "2024-09-08T16:00:15.383409Z",
     "iopub.status.busy": "2024-09-08T16:00:15.382791Z",
     "iopub.status.idle": "2024-09-08T16:00:15.533555Z",
     "shell.execute_reply": "2024-09-08T16:00:15.532554Z"
    },
    "papermill": {
     "duration": 0.160398,
     "end_time": "2024-09-08T16:00:15.536405",
     "exception": false,
     "start_time": "2024-09-08T16:00:15.376007",
     "status": "completed"
    },
    "tags": []
   },
   "outputs": [],
   "source": [
    "import plotly.graph_objects as go\n",
    "from plotly.subplots import make_subplots\n",
    "\n",
    "# Plotting the training metrics with Plotly\n",
    "def plot_tensorflow_training_results(history):\n",
    "    fig = make_subplots(rows=1, cols=2, subplot_titles=(\"Loss Over Epochs\", \"Accuracy Over Epochs\"))\n",
    "\n",
    "    # Loss plot\n",
    "    fig.add_trace(go.Scatter(x=list(range(len(history.history['loss']))),\n",
    "                             y=history.history['loss'],\n",
    "                             mode='lines',\n",
    "                             name='Training Loss'),\n",
    "                  row=1, col=1)\n",
    "    fig.add_trace(go.Scatter(x=list(range(len(history.history['val_loss']))),\n",
    "                             y=history.history['val_loss'],\n",
    "                             mode='lines',\n",
    "                             name='Validation Loss'),\n",
    "                  row=1, col=1)\n",
    "\n",
    "    # Accuracy plot\n",
    "    fig.add_trace(go.Scatter(x=list(range(len(history.history['accuracy']))),\n",
    "                             y=history.history['accuracy'],\n",
    "                             mode='lines',\n",
    "                             name='Training Accuracy'),\n",
    "                  row=1, col=2)\n",
    "    fig.add_trace(go.Scatter(x=list(range(len(history.history['val_accuracy']))),\n",
    "                             y=history.history['val_accuracy'],\n",
    "                             mode='lines',\n",
    "                             name='Validation Accuracy'),\n",
    "                  row=1, col=2)\n",
    "\n",
    "    # Updating layout\n",
    "    fig.update_layout(title='Training Metrics',\n",
    "                      xaxis_title='Epoch',\n",
    "                      yaxis_title='Value',\n",
    "                      showlegend=True)\n",
    "\n",
    "    # Update xaxis labels\n",
    "    fig.update_xaxes(title_text='Epoch', row=1, col=1)\n",
    "    fig.update_xaxes(title_text='Epoch', row=1, col=2)\n",
    "\n",
    "    # Update yaxis labels\n",
    "    fig.update_yaxes(title_text='Loss', row=1, col=1)\n",
    "    fig.update_yaxes(title_text='Accuracy', row=1, col=2)\n",
    "\n",
    "    fig.show()\n",
    "    "
   ]
  },
  {
   "cell_type": "code",
   "execution_count": 3,
   "id": "5f4b4880",
   "metadata": {
    "execution": {
     "iopub.execute_input": "2024-09-08T16:00:15.550397Z",
     "iopub.status.busy": "2024-09-08T16:00:15.549943Z",
     "iopub.status.idle": "2024-09-08T16:00:15.562193Z",
     "shell.execute_reply": "2024-09-08T16:00:15.561012Z"
    },
    "papermill": {
     "duration": 0.02159,
     "end_time": "2024-09-08T16:00:15.564729",
     "exception": false,
     "start_time": "2024-09-08T16:00:15.543139",
     "status": "completed"
    },
    "tags": []
   },
   "outputs": [],
   "source": [
    "import plotly.graph_objects as go\n",
    "from plotly.subplots import make_subplots\n",
    "\n",
    "def plot_pytorch_training_results(n_epochs, train_losses, test_losses, train_accuracies, test_accuracies):\n",
    "    # Plotting the training metrics with Plotly\n",
    "    fig = make_subplots(rows=1, cols=2, subplot_titles=(\"Loss Over Epochs\", \"Accuracy Over Epochs\"))\n",
    "\n",
    "    # Loss plot\n",
    "    fig.add_trace(go.Scatter(x=list(range(n_epochs)), y=train_losses, mode='lines', name='Training Loss'), row=1, col=1)\n",
    "    fig.add_trace(go.Scatter(x=list(range(n_epochs)), y=test_losses, mode='lines', name='Validation Loss'), row=1, col=1)\n",
    "\n",
    "    # Accuracy plot\n",
    "    fig.add_trace(go.Scatter(x=list(range(n_epochs)), y=train_accuracies, mode='lines', name='Training Accuracy'), row=1, col=2)\n",
    "    fig.add_trace(go.Scatter(x=list(range(n_epochs)), y=test_accuracies, mode='lines', name='Validation Accuracy'), row=1, col=2)\n",
    "\n",
    "    # Updating layout\n",
    "    fig.update_layout(title='Training Metrics', xaxis_title='Epoch', yaxis_title='Value', showlegend=True)\n",
    "\n",
    "    # Update xaxis labels\n",
    "    fig.update_xaxes(title_text='Epoch', row=1, col=1)\n",
    "    fig.update_xaxes(title_text='Epoch', row=1, col=2)\n",
    "\n",
    "    # Update yaxis labels\n",
    "    fig.update_yaxes(title_text='Loss', row=1, col=1)\n",
    "    fig.update_yaxes(title_text='Accuracy', row=1, col=2)\n",
    "\n",
    "    fig.show()"
   ]
  },
  {
   "cell_type": "code",
   "execution_count": 4,
   "id": "b8f99b26",
   "metadata": {
    "execution": {
     "iopub.execute_input": "2024-09-08T16:00:15.577810Z",
     "iopub.status.busy": "2024-09-08T16:00:15.576747Z",
     "iopub.status.idle": "2024-09-08T16:00:22.724140Z",
     "shell.execute_reply": "2024-09-08T16:00:22.723014Z"
    },
    "papermill": {
     "duration": 7.15679,
     "end_time": "2024-09-08T16:00:22.726835",
     "exception": false,
     "start_time": "2024-09-08T16:00:15.570045",
     "status": "completed"
    },
    "tags": []
   },
   "outputs": [],
   "source": [
    "pixel_columns = [f\"pixel{i}\" for i in range(784)]\n",
    "all_df = pd.read_csv(\"/kaggle/input/digit-recognizer/train.csv\")\n",
    "\n",
    "indices = np.arange(len(all_df))\n",
    "np.random.shuffle(indices)\n",
    "\n",
    "# Split the indices into 80% train and 20% validation\n",
    "trn_len = int(0.8 * len(all_df))\n",
    "trn_ind = indices[:trn_len]\n",
    "val_ind = indices[trn_len:]\n",
    "\n",
    "trn_df = all_df.iloc[trn_ind]\n",
    "val_df = all_df.iloc[val_ind]\n",
    "x_trn = trn_df[pixel_columns].values\n",
    "y_trn = trn_df[\"label\"].values\n",
    "\n",
    "x_val = val_df[pixel_columns].values\n",
    "y_val = val_df[\"label\"].values\n",
    "\n",
    "tst_df = pd.read_csv(\"/kaggle/input/digit-recognizer/test.csv\")\n",
    "x_tst = tst_df[pixel_columns].values"
   ]
  },
  {
   "cell_type": "code",
   "execution_count": 5,
   "id": "95edc7a2",
   "metadata": {
    "execution": {
     "iopub.execute_input": "2024-09-08T16:00:22.738969Z",
     "iopub.status.busy": "2024-09-08T16:00:22.738533Z",
     "iopub.status.idle": "2024-09-08T16:01:05.224554Z",
     "shell.execute_reply": "2024-09-08T16:01:05.223328Z"
    },
    "papermill": {
     "duration": 42.495361,
     "end_time": "2024-09-08T16:01:05.227389",
     "exception": false,
     "start_time": "2024-09-08T16:00:22.732028",
     "status": "completed"
    },
    "tags": []
   },
   "outputs": [
    {
     "name": "stdout",
     "output_type": "stream",
     "text": [
      "Epoch 1/10\n",
      "\u001b[1m1050/1050\u001b[0m \u001b[32m━━━━━━━━━━━━━━━━━━━━\u001b[0m\u001b[37m\u001b[0m \u001b[1m5s\u001b[0m 3ms/step - accuracy: 0.8260 - loss: 0.6047 - val_accuracy: 0.9407 - val_loss: 0.2014\n",
      "Epoch 2/10\n",
      "\u001b[1m1050/1050\u001b[0m \u001b[32m━━━━━━━━━━━━━━━━━━━━\u001b[0m\u001b[37m\u001b[0m \u001b[1m3s\u001b[0m 3ms/step - accuracy: 0.9492 - loss: 0.1701 - val_accuracy: 0.9537 - val_loss: 0.1520\n",
      "Epoch 3/10\n",
      "\u001b[1m1050/1050\u001b[0m \u001b[32m━━━━━━━━━━━━━━━━━━━━\u001b[0m\u001b[37m\u001b[0m \u001b[1m3s\u001b[0m 2ms/step - accuracy: 0.9669 - loss: 0.1136 - val_accuracy: 0.9626 - val_loss: 0.1176\n",
      "Epoch 4/10\n",
      "\u001b[1m1050/1050\u001b[0m \u001b[32m━━━━━━━━━━━━━━━━━━━━\u001b[0m\u001b[37m\u001b[0m \u001b[1m3s\u001b[0m 2ms/step - accuracy: 0.9732 - loss: 0.0876 - val_accuracy: 0.9568 - val_loss: 0.1434\n",
      "Epoch 5/10\n",
      "\u001b[1m1050/1050\u001b[0m \u001b[32m━━━━━━━━━━━━━━━━━━━━\u001b[0m\u001b[37m\u001b[0m \u001b[1m3s\u001b[0m 2ms/step - accuracy: 0.9767 - loss: 0.0748 - val_accuracy: 0.9680 - val_loss: 0.1047\n",
      "Epoch 6/10\n",
      "\u001b[1m1050/1050\u001b[0m \u001b[32m━━━━━━━━━━━━━━━━━━━━\u001b[0m\u001b[37m\u001b[0m \u001b[1m3s\u001b[0m 2ms/step - accuracy: 0.9815 - loss: 0.0586 - val_accuracy: 0.9689 - val_loss: 0.0979\n",
      "Epoch 7/10\n",
      "\u001b[1m1050/1050\u001b[0m \u001b[32m━━━━━━━━━━━━━━━━━━━━\u001b[0m\u001b[37m\u001b[0m \u001b[1m2s\u001b[0m 2ms/step - accuracy: 0.9861 - loss: 0.0459 - val_accuracy: 0.9694 - val_loss: 0.1034\n",
      "Epoch 8/10\n",
      "\u001b[1m1050/1050\u001b[0m \u001b[32m━━━━━━━━━━━━━━━━━━━━\u001b[0m\u001b[37m\u001b[0m \u001b[1m2s\u001b[0m 2ms/step - accuracy: 0.9877 - loss: 0.0368 - val_accuracy: 0.9694 - val_loss: 0.0999\n",
      "Epoch 9/10\n",
      "\u001b[1m1050/1050\u001b[0m \u001b[32m━━━━━━━━━━━━━━━━━━━━\u001b[0m\u001b[37m\u001b[0m \u001b[1m3s\u001b[0m 2ms/step - accuracy: 0.9904 - loss: 0.0294 - val_accuracy: 0.9712 - val_loss: 0.1051\n",
      "Epoch 10/10\n",
      "\u001b[1m1050/1050\u001b[0m \u001b[32m━━━━━━━━━━━━━━━━━━━━\u001b[0m\u001b[37m\u001b[0m \u001b[1m3s\u001b[0m 3ms/step - accuracy: 0.9926 - loss: 0.0244 - val_accuracy: 0.9660 - val_loss: 0.1204\n"
     ]
    }
   ],
   "source": [
    "#1. Importing the necessary libraries.\n",
    "import tensorflow as tf\n",
    "import numpy as np\n",
    "\n",
    "from tensorflow.keras.models import Sequential\n",
    "from tensorflow.keras.layers import Dense\n",
    "from tensorflow.keras.losses import CategoricalCrossentropy\n",
    "\n",
    "from tensorflow.keras.datasets import mnist\n",
    "\n",
    "# 2. Defining the model parameters and hyperparameters.\n",
    "hidden_1 = 64\n",
    "hidden_2 = 64\n",
    "n_classes = 10\n",
    "n_epochs = 10\n",
    "batch_size = 32\n",
    "img_size = 28\n",
    "img_size_flattened = img_size * img_size\n",
    "learning_rate = 0.001\n",
    "n_classes = 10\n",
    "\n",
    "x_trn = x_trn/255.0\n",
    "x_val = x_val/255.0\n",
    "x_tst = x_tst/255.0\n",
    "\n",
    "y_trn_encoded = np.zeros(shape=(y_trn.shape[0], n_classes), dtype=int)\n",
    "y_val_encoded = np.zeros(shape=(y_val.shape[0], n_classes), dtype=int)\n",
    "\n",
    "y_trn_encoded[np.linspace(0, len(y_trn)-1, len(y_trn)).astype(int), y_trn]=1\n",
    "y_val_encoded[np.linspace(0, len(y_val)-1, len(y_val)).astype(int), y_val]=1\n",
    "\n",
    "# 5. Initializing the model architecture.\n",
    "model = Sequential([\n",
    "    Dense(units=hidden_1, activation=\"relu\"),\n",
    "    Dense(units=hidden_2, activation=\"relu\"),\n",
    "    Dense(units=n_classes, activation=\"softmax\")\n",
    "])\n",
    "model.compile(\n",
    "    optimizer=tf.keras.optimizers.Adam(learning_rate=learning_rate), loss=CategoricalCrossentropy(), \n",
    "    metrics=[\"accuracy\"])\n",
    "\n",
    "# 6. Training the model using the defined parameters and dataset.\n",
    "callback = model.fit(\n",
    "    x=x_trn, \n",
    "    y=y_trn_encoded, \n",
    "    validation_data=(x_val, y_val_encoded), \n",
    "    batch_size=batch_size, \n",
    "    epochs=n_epochs)"
   ]
  },
  {
   "cell_type": "code",
   "execution_count": 6,
   "id": "348f3853",
   "metadata": {
    "execution": {
     "iopub.execute_input": "2024-09-08T16:01:05.329007Z",
     "iopub.status.busy": "2024-09-08T16:01:05.327627Z",
     "iopub.status.idle": "2024-09-08T16:01:06.000556Z",
     "shell.execute_reply": "2024-09-08T16:01:05.999415Z"
    },
    "papermill": {
     "duration": 0.725735,
     "end_time": "2024-09-08T16:01:06.003215",
     "exception": false,
     "start_time": "2024-09-08T16:01:05.277480",
     "status": "completed"
    },
    "tags": []
   },
   "outputs": [
    {
     "data": {
      "text/html": [
       "        <script type=\"text/javascript\">\n",
       "        window.PlotlyConfig = {MathJaxConfig: 'local'};\n",
       "        if (window.MathJax && window.MathJax.Hub && window.MathJax.Hub.Config) {window.MathJax.Hub.Config({SVG: {font: \"STIX-Web\"}});}\n",
       "        if (typeof require !== 'undefined') {\n",
       "        require.undef(\"plotly\");\n",
       "        requirejs.config({\n",
       "            paths: {\n",
       "                'plotly': ['https://cdn.plot.ly/plotly-2.32.0.min']\n",
       "            }\n",
       "        });\n",
       "        require(['plotly'], function(Plotly) {\n",
       "            window._Plotly = Plotly;\n",
       "        });\n",
       "        }\n",
       "        </script>\n",
       "        "
      ]
     },
     "metadata": {},
     "output_type": "display_data"
    },
    {
     "data": {
      "text/html": [
       "<div>                            <div id=\"a757244e-eb9d-478d-9437-0c9880cc89f3\" class=\"plotly-graph-div\" style=\"height:525px; width:100%;\"></div>            <script type=\"text/javascript\">                require([\"plotly\"], function(Plotly) {                    window.PLOTLYENV=window.PLOTLYENV || {};                                    if (document.getElementById(\"a757244e-eb9d-478d-9437-0c9880cc89f3\")) {                    Plotly.newPlot(                        \"a757244e-eb9d-478d-9437-0c9880cc89f3\",                        [{\"mode\":\"lines\",\"name\":\"Training Loss\",\"x\":[0,1,2,3,4,5,6,7,8,9],\"y\":[0.35152462124824524,0.16282369196414948,0.1153399795293808,0.0900537297129631,0.07319389283657074,0.0604013092815876,0.04944120720028877,0.04143506661057472,0.03392433375120163,0.028526144102215767],\"type\":\"scatter\",\"xaxis\":\"x\",\"yaxis\":\"y\"},{\"mode\":\"lines\",\"name\":\"Validation Loss\",\"x\":[0,1,2,3,4,5,6,7,8,9],\"y\":[0.20144890248775482,0.15197443962097168,0.11759839206933975,0.14336837828159332,0.10473233461380005,0.09787198156118393,0.10338421165943146,0.09992905706167221,0.10512091964483261,0.12039431184530258],\"type\":\"scatter\",\"xaxis\":\"x\",\"yaxis\":\"y\"},{\"mode\":\"lines\",\"name\":\"Training Accuracy\",\"x\":[0,1,2,3,4,5,6,7,8,9],\"y\":[0.8980952501296997,0.9518452286720276,0.9658631086349487,0.9725595116615295,0.9770833253860474,0.980863094329834,0.9842559695243835,0.9862797856330872,0.9890178442001343,0.9908333420753479],\"type\":\"scatter\",\"xaxis\":\"x2\",\"yaxis\":\"y2\"},{\"mode\":\"lines\",\"name\":\"Validation Accuracy\",\"x\":[0,1,2,3,4,5,6,7,8,9],\"y\":[0.9407142996788025,0.9536904692649841,0.9626190662384033,0.9567857384681702,0.9679762125015259,0.9689285755157471,0.9694047570228577,0.9694047570228577,0.9711904525756836,0.9659523963928223],\"type\":\"scatter\",\"xaxis\":\"x2\",\"yaxis\":\"y2\"}],                        {\"template\":{\"data\":{\"histogram2dcontour\":[{\"type\":\"histogram2dcontour\",\"colorbar\":{\"outlinewidth\":0,\"ticks\":\"\"},\"colorscale\":[[0.0,\"#0d0887\"],[0.1111111111111111,\"#46039f\"],[0.2222222222222222,\"#7201a8\"],[0.3333333333333333,\"#9c179e\"],[0.4444444444444444,\"#bd3786\"],[0.5555555555555556,\"#d8576b\"],[0.6666666666666666,\"#ed7953\"],[0.7777777777777778,\"#fb9f3a\"],[0.8888888888888888,\"#fdca26\"],[1.0,\"#f0f921\"]]}],\"choropleth\":[{\"type\":\"choropleth\",\"colorbar\":{\"outlinewidth\":0,\"ticks\":\"\"}}],\"histogram2d\":[{\"type\":\"histogram2d\",\"colorbar\":{\"outlinewidth\":0,\"ticks\":\"\"},\"colorscale\":[[0.0,\"#0d0887\"],[0.1111111111111111,\"#46039f\"],[0.2222222222222222,\"#7201a8\"],[0.3333333333333333,\"#9c179e\"],[0.4444444444444444,\"#bd3786\"],[0.5555555555555556,\"#d8576b\"],[0.6666666666666666,\"#ed7953\"],[0.7777777777777778,\"#fb9f3a\"],[0.8888888888888888,\"#fdca26\"],[1.0,\"#f0f921\"]]}],\"heatmap\":[{\"type\":\"heatmap\",\"colorbar\":{\"outlinewidth\":0,\"ticks\":\"\"},\"colorscale\":[[0.0,\"#0d0887\"],[0.1111111111111111,\"#46039f\"],[0.2222222222222222,\"#7201a8\"],[0.3333333333333333,\"#9c179e\"],[0.4444444444444444,\"#bd3786\"],[0.5555555555555556,\"#d8576b\"],[0.6666666666666666,\"#ed7953\"],[0.7777777777777778,\"#fb9f3a\"],[0.8888888888888888,\"#fdca26\"],[1.0,\"#f0f921\"]]}],\"heatmapgl\":[{\"type\":\"heatmapgl\",\"colorbar\":{\"outlinewidth\":0,\"ticks\":\"\"},\"colorscale\":[[0.0,\"#0d0887\"],[0.1111111111111111,\"#46039f\"],[0.2222222222222222,\"#7201a8\"],[0.3333333333333333,\"#9c179e\"],[0.4444444444444444,\"#bd3786\"],[0.5555555555555556,\"#d8576b\"],[0.6666666666666666,\"#ed7953\"],[0.7777777777777778,\"#fb9f3a\"],[0.8888888888888888,\"#fdca26\"],[1.0,\"#f0f921\"]]}],\"contourcarpet\":[{\"type\":\"contourcarpet\",\"colorbar\":{\"outlinewidth\":0,\"ticks\":\"\"}}],\"contour\":[{\"type\":\"contour\",\"colorbar\":{\"outlinewidth\":0,\"ticks\":\"\"},\"colorscale\":[[0.0,\"#0d0887\"],[0.1111111111111111,\"#46039f\"],[0.2222222222222222,\"#7201a8\"],[0.3333333333333333,\"#9c179e\"],[0.4444444444444444,\"#bd3786\"],[0.5555555555555556,\"#d8576b\"],[0.6666666666666666,\"#ed7953\"],[0.7777777777777778,\"#fb9f3a\"],[0.8888888888888888,\"#fdca26\"],[1.0,\"#f0f921\"]]}],\"surface\":[{\"type\":\"surface\",\"colorbar\":{\"outlinewidth\":0,\"ticks\":\"\"},\"colorscale\":[[0.0,\"#0d0887\"],[0.1111111111111111,\"#46039f\"],[0.2222222222222222,\"#7201a8\"],[0.3333333333333333,\"#9c179e\"],[0.4444444444444444,\"#bd3786\"],[0.5555555555555556,\"#d8576b\"],[0.6666666666666666,\"#ed7953\"],[0.7777777777777778,\"#fb9f3a\"],[0.8888888888888888,\"#fdca26\"],[1.0,\"#f0f921\"]]}],\"mesh3d\":[{\"type\":\"mesh3d\",\"colorbar\":{\"outlinewidth\":0,\"ticks\":\"\"}}],\"scatter\":[{\"fillpattern\":{\"fillmode\":\"overlay\",\"size\":10,\"solidity\":0.2},\"type\":\"scatter\"}],\"parcoords\":[{\"type\":\"parcoords\",\"line\":{\"colorbar\":{\"outlinewidth\":0,\"ticks\":\"\"}}}],\"scatterpolargl\":[{\"type\":\"scatterpolargl\",\"marker\":{\"colorbar\":{\"outlinewidth\":0,\"ticks\":\"\"}}}],\"bar\":[{\"error_x\":{\"color\":\"#2a3f5f\"},\"error_y\":{\"color\":\"#2a3f5f\"},\"marker\":{\"line\":{\"color\":\"#E5ECF6\",\"width\":0.5},\"pattern\":{\"fillmode\":\"overlay\",\"size\":10,\"solidity\":0.2}},\"type\":\"bar\"}],\"scattergeo\":[{\"type\":\"scattergeo\",\"marker\":{\"colorbar\":{\"outlinewidth\":0,\"ticks\":\"\"}}}],\"scatterpolar\":[{\"type\":\"scatterpolar\",\"marker\":{\"colorbar\":{\"outlinewidth\":0,\"ticks\":\"\"}}}],\"histogram\":[{\"marker\":{\"pattern\":{\"fillmode\":\"overlay\",\"size\":10,\"solidity\":0.2}},\"type\":\"histogram\"}],\"scattergl\":[{\"type\":\"scattergl\",\"marker\":{\"colorbar\":{\"outlinewidth\":0,\"ticks\":\"\"}}}],\"scatter3d\":[{\"type\":\"scatter3d\",\"line\":{\"colorbar\":{\"outlinewidth\":0,\"ticks\":\"\"}},\"marker\":{\"colorbar\":{\"outlinewidth\":0,\"ticks\":\"\"}}}],\"scattermapbox\":[{\"type\":\"scattermapbox\",\"marker\":{\"colorbar\":{\"outlinewidth\":0,\"ticks\":\"\"}}}],\"scatterternary\":[{\"type\":\"scatterternary\",\"marker\":{\"colorbar\":{\"outlinewidth\":0,\"ticks\":\"\"}}}],\"scattercarpet\":[{\"type\":\"scattercarpet\",\"marker\":{\"colorbar\":{\"outlinewidth\":0,\"ticks\":\"\"}}}],\"carpet\":[{\"aaxis\":{\"endlinecolor\":\"#2a3f5f\",\"gridcolor\":\"white\",\"linecolor\":\"white\",\"minorgridcolor\":\"white\",\"startlinecolor\":\"#2a3f5f\"},\"baxis\":{\"endlinecolor\":\"#2a3f5f\",\"gridcolor\":\"white\",\"linecolor\":\"white\",\"minorgridcolor\":\"white\",\"startlinecolor\":\"#2a3f5f\"},\"type\":\"carpet\"}],\"table\":[{\"cells\":{\"fill\":{\"color\":\"#EBF0F8\"},\"line\":{\"color\":\"white\"}},\"header\":{\"fill\":{\"color\":\"#C8D4E3\"},\"line\":{\"color\":\"white\"}},\"type\":\"table\"}],\"barpolar\":[{\"marker\":{\"line\":{\"color\":\"#E5ECF6\",\"width\":0.5},\"pattern\":{\"fillmode\":\"overlay\",\"size\":10,\"solidity\":0.2}},\"type\":\"barpolar\"}],\"pie\":[{\"automargin\":true,\"type\":\"pie\"}]},\"layout\":{\"autotypenumbers\":\"strict\",\"colorway\":[\"#636efa\",\"#EF553B\",\"#00cc96\",\"#ab63fa\",\"#FFA15A\",\"#19d3f3\",\"#FF6692\",\"#B6E880\",\"#FF97FF\",\"#FECB52\"],\"font\":{\"color\":\"#2a3f5f\"},\"hovermode\":\"closest\",\"hoverlabel\":{\"align\":\"left\"},\"paper_bgcolor\":\"white\",\"plot_bgcolor\":\"#E5ECF6\",\"polar\":{\"bgcolor\":\"#E5ECF6\",\"angularaxis\":{\"gridcolor\":\"white\",\"linecolor\":\"white\",\"ticks\":\"\"},\"radialaxis\":{\"gridcolor\":\"white\",\"linecolor\":\"white\",\"ticks\":\"\"}},\"ternary\":{\"bgcolor\":\"#E5ECF6\",\"aaxis\":{\"gridcolor\":\"white\",\"linecolor\":\"white\",\"ticks\":\"\"},\"baxis\":{\"gridcolor\":\"white\",\"linecolor\":\"white\",\"ticks\":\"\"},\"caxis\":{\"gridcolor\":\"white\",\"linecolor\":\"white\",\"ticks\":\"\"}},\"coloraxis\":{\"colorbar\":{\"outlinewidth\":0,\"ticks\":\"\"}},\"colorscale\":{\"sequential\":[[0.0,\"#0d0887\"],[0.1111111111111111,\"#46039f\"],[0.2222222222222222,\"#7201a8\"],[0.3333333333333333,\"#9c179e\"],[0.4444444444444444,\"#bd3786\"],[0.5555555555555556,\"#d8576b\"],[0.6666666666666666,\"#ed7953\"],[0.7777777777777778,\"#fb9f3a\"],[0.8888888888888888,\"#fdca26\"],[1.0,\"#f0f921\"]],\"sequentialminus\":[[0.0,\"#0d0887\"],[0.1111111111111111,\"#46039f\"],[0.2222222222222222,\"#7201a8\"],[0.3333333333333333,\"#9c179e\"],[0.4444444444444444,\"#bd3786\"],[0.5555555555555556,\"#d8576b\"],[0.6666666666666666,\"#ed7953\"],[0.7777777777777778,\"#fb9f3a\"],[0.8888888888888888,\"#fdca26\"],[1.0,\"#f0f921\"]],\"diverging\":[[0,\"#8e0152\"],[0.1,\"#c51b7d\"],[0.2,\"#de77ae\"],[0.3,\"#f1b6da\"],[0.4,\"#fde0ef\"],[0.5,\"#f7f7f7\"],[0.6,\"#e6f5d0\"],[0.7,\"#b8e186\"],[0.8,\"#7fbc41\"],[0.9,\"#4d9221\"],[1,\"#276419\"]]},\"xaxis\":{\"gridcolor\":\"white\",\"linecolor\":\"white\",\"ticks\":\"\",\"title\":{\"standoff\":15},\"zerolinecolor\":\"white\",\"automargin\":true,\"zerolinewidth\":2},\"yaxis\":{\"gridcolor\":\"white\",\"linecolor\":\"white\",\"ticks\":\"\",\"title\":{\"standoff\":15},\"zerolinecolor\":\"white\",\"automargin\":true,\"zerolinewidth\":2},\"scene\":{\"xaxis\":{\"backgroundcolor\":\"#E5ECF6\",\"gridcolor\":\"white\",\"linecolor\":\"white\",\"showbackground\":true,\"ticks\":\"\",\"zerolinecolor\":\"white\",\"gridwidth\":2},\"yaxis\":{\"backgroundcolor\":\"#E5ECF6\",\"gridcolor\":\"white\",\"linecolor\":\"white\",\"showbackground\":true,\"ticks\":\"\",\"zerolinecolor\":\"white\",\"gridwidth\":2},\"zaxis\":{\"backgroundcolor\":\"#E5ECF6\",\"gridcolor\":\"white\",\"linecolor\":\"white\",\"showbackground\":true,\"ticks\":\"\",\"zerolinecolor\":\"white\",\"gridwidth\":2}},\"shapedefaults\":{\"line\":{\"color\":\"#2a3f5f\"}},\"annotationdefaults\":{\"arrowcolor\":\"#2a3f5f\",\"arrowhead\":0,\"arrowwidth\":1},\"geo\":{\"bgcolor\":\"white\",\"landcolor\":\"#E5ECF6\",\"subunitcolor\":\"white\",\"showland\":true,\"showlakes\":true,\"lakecolor\":\"white\"},\"title\":{\"x\":0.05},\"mapbox\":{\"style\":\"light\"}}},\"xaxis\":{\"anchor\":\"y\",\"domain\":[0.0,0.45],\"title\":{\"text\":\"Epoch\"}},\"yaxis\":{\"anchor\":\"x\",\"domain\":[0.0,1.0],\"title\":{\"text\":\"Loss\"}},\"xaxis2\":{\"anchor\":\"y2\",\"domain\":[0.55,1.0],\"title\":{\"text\":\"Epoch\"}},\"yaxis2\":{\"anchor\":\"x2\",\"domain\":[0.0,1.0],\"title\":{\"text\":\"Accuracy\"}},\"annotations\":[{\"font\":{\"size\":16},\"showarrow\":false,\"text\":\"Loss Over Epochs\",\"x\":0.225,\"xanchor\":\"center\",\"xref\":\"paper\",\"y\":1.0,\"yanchor\":\"bottom\",\"yref\":\"paper\"},{\"font\":{\"size\":16},\"showarrow\":false,\"text\":\"Accuracy Over Epochs\",\"x\":0.775,\"xanchor\":\"center\",\"xref\":\"paper\",\"y\":1.0,\"yanchor\":\"bottom\",\"yref\":\"paper\"}],\"title\":{\"text\":\"Training Metrics\"},\"showlegend\":true},                        {\"responsive\": true}                    ).then(function(){\n",
       "                            \n",
       "var gd = document.getElementById('a757244e-eb9d-478d-9437-0c9880cc89f3');\n",
       "var x = new MutationObserver(function (mutations, observer) {{\n",
       "        var display = window.getComputedStyle(gd).display;\n",
       "        if (!display || display === 'none') {{\n",
       "            console.log([gd, 'removed!']);\n",
       "            Plotly.purge(gd);\n",
       "            observer.disconnect();\n",
       "        }}\n",
       "}});\n",
       "\n",
       "// Listen for the removal of the full notebook cells\n",
       "var notebookContainer = gd.closest('#notebook-container');\n",
       "if (notebookContainer) {{\n",
       "    x.observe(notebookContainer, {childList: true});\n",
       "}}\n",
       "\n",
       "// Listen for the clearing of the current output cell\n",
       "var outputEl = gd.closest('.output');\n",
       "if (outputEl) {{\n",
       "    x.observe(outputEl, {childList: true});\n",
       "}}\n",
       "\n",
       "                        })                };                });            </script>        </div>"
      ]
     },
     "metadata": {},
     "output_type": "display_data"
    }
   ],
   "source": [
    "plot_tensorflow_training_results(history=callback)"
   ]
  },
  {
   "cell_type": "code",
   "execution_count": 7,
   "id": "32d79dc2",
   "metadata": {
    "execution": {
     "iopub.execute_input": "2024-09-08T16:01:06.120204Z",
     "iopub.status.busy": "2024-09-08T16:01:06.119778Z",
     "iopub.status.idle": "2024-09-08T16:01:08.018643Z",
     "shell.execute_reply": "2024-09-08T16:01:08.017465Z"
    },
    "papermill": {
     "duration": 1.955669,
     "end_time": "2024-09-08T16:01:08.021604",
     "exception": false,
     "start_time": "2024-09-08T16:01:06.065935",
     "status": "completed"
    },
    "tags": []
   },
   "outputs": [
    {
     "name": "stdout",
     "output_type": "stream",
     "text": [
      "\u001b[1m875/875\u001b[0m \u001b[32m━━━━━━━━━━━━━━━━━━━━\u001b[0m\u001b[37m\u001b[0m \u001b[1m1s\u001b[0m 1ms/step\n"
     ]
    }
   ],
   "source": [
    "y_prd = model.predict(x_tst)\n",
    "y_prd_labels = np.argmax(y_prd, axis=1)"
   ]
  },
  {
   "cell_type": "code",
   "execution_count": 8,
   "id": "76abdae9",
   "metadata": {
    "execution": {
     "iopub.execute_input": "2024-09-08T16:01:08.126427Z",
     "iopub.status.busy": "2024-09-08T16:01:08.125716Z",
     "iopub.status.idle": "2024-09-08T16:01:08.394482Z",
     "shell.execute_reply": "2024-09-08T16:01:08.393436Z"
    },
    "papermill": {
     "duration": 0.324415,
     "end_time": "2024-09-08T16:01:08.397204",
     "exception": false,
     "start_time": "2024-09-08T16:01:08.072789",
     "status": "completed"
    },
    "tags": []
   },
   "outputs": [],
   "source": [
    "tst_df[\"Label\"] = y_prd_labels\n",
    "tst_df = tst_df.reset_index(names=\"ImageId\")\n",
    "tst_df[[\"ImageId\", \"Label\"]].to_csv(\"tensorflow-prediction.csv\", index=False, header=True)"
   ]
  },
  {
   "cell_type": "code",
   "execution_count": 9,
   "id": "daf1c071",
   "metadata": {
    "execution": {
     "iopub.execute_input": "2024-09-08T16:01:08.500900Z",
     "iopub.status.busy": "2024-09-08T16:01:08.500426Z",
     "iopub.status.idle": "2024-09-08T16:01:51.549259Z",
     "shell.execute_reply": "2024-09-08T16:01:51.548196Z"
    },
    "papermill": {
     "duration": 43.103924,
     "end_time": "2024-09-08T16:01:51.551785",
     "exception": false,
     "start_time": "2024-09-08T16:01:08.447861",
     "status": "completed"
    },
    "tags": []
   },
   "outputs": [
    {
     "name": "stderr",
     "output_type": "stream",
     "text": [
      "1050it [00:03, 294.94it/s]\n"
     ]
    },
    {
     "name": "stdout",
     "output_type": "stream",
     "text": [
      "Epoch 1/10, Train Loss: 0.4150, Train Accuracy: 0.8829, Test Loss: 0.2133, Test Accuracy: 0.9358\n"
     ]
    },
    {
     "name": "stderr",
     "output_type": "stream",
     "text": [
      "1050it [00:03, 320.37it/s]\n"
     ]
    },
    {
     "name": "stdout",
     "output_type": "stream",
     "text": [
      "Epoch 2/10, Train Loss: 0.1812, Train Accuracy: 0.9464, Test Loss: 0.1648, Test Accuracy: 0.9477\n"
     ]
    },
    {
     "name": "stderr",
     "output_type": "stream",
     "text": [
      "1050it [00:03, 304.90it/s]\n"
     ]
    },
    {
     "name": "stdout",
     "output_type": "stream",
     "text": [
      "Epoch 3/10, Train Loss: 0.1307, Train Accuracy: 0.9607, Test Loss: 0.1293, Test Accuracy: 0.9580\n"
     ]
    },
    {
     "name": "stderr",
     "output_type": "stream",
     "text": [
      "1050it [00:03, 304.77it/s]\n"
     ]
    },
    {
     "name": "stdout",
     "output_type": "stream",
     "text": [
      "Epoch 4/10, Train Loss: 0.1015, Train Accuracy: 0.9689, Test Loss: 0.1202, Test Accuracy: 0.9617\n"
     ]
    },
    {
     "name": "stderr",
     "output_type": "stream",
     "text": [
      "1050it [00:03, 302.35it/s]\n"
     ]
    },
    {
     "name": "stdout",
     "output_type": "stream",
     "text": [
      "Epoch 5/10, Train Loss: 0.0798, Train Accuracy: 0.9757, Test Loss: 0.1295, Test Accuracy: 0.9612\n"
     ]
    },
    {
     "name": "stderr",
     "output_type": "stream",
     "text": [
      "1050it [00:03, 316.42it/s]\n"
     ]
    },
    {
     "name": "stdout",
     "output_type": "stream",
     "text": [
      "Epoch 6/10, Train Loss: 0.0655, Train Accuracy: 0.9790, Test Loss: 0.1285, Test Accuracy: 0.9618\n"
     ]
    },
    {
     "name": "stderr",
     "output_type": "stream",
     "text": [
      "1050it [00:03, 304.34it/s]\n"
     ]
    },
    {
     "name": "stdout",
     "output_type": "stream",
     "text": [
      "Epoch 7/10, Train Loss: 0.0556, Train Accuracy: 0.9820, Test Loss: 0.1127, Test Accuracy: 0.9661\n"
     ]
    },
    {
     "name": "stderr",
     "output_type": "stream",
     "text": [
      "1050it [00:03, 301.63it/s]\n"
     ]
    },
    {
     "name": "stdout",
     "output_type": "stream",
     "text": [
      "Epoch 8/10, Train Loss: 0.0484, Train Accuracy: 0.9848, Test Loss: 0.1290, Test Accuracy: 0.9646\n"
     ]
    },
    {
     "name": "stderr",
     "output_type": "stream",
     "text": [
      "1050it [00:03, 312.56it/s]\n"
     ]
    },
    {
     "name": "stdout",
     "output_type": "stream",
     "text": [
      "Epoch 9/10, Train Loss: 0.0381, Train Accuracy: 0.9876, Test Loss: 0.1240, Test Accuracy: 0.9662\n"
     ]
    },
    {
     "name": "stderr",
     "output_type": "stream",
     "text": [
      "1050it [00:03, 298.71it/s]\n"
     ]
    },
    {
     "name": "stdout",
     "output_type": "stream",
     "text": [
      "Epoch 10/10, Train Loss: 0.0332, Train Accuracy: 0.9898, Test Loss: 0.1240, Test Accuracy: 0.9686\n"
     ]
    },
    {
     "data": {
      "text/html": [
       "<div>                            <div id=\"43e2565c-5990-4af9-9657-6f578fd51423\" class=\"plotly-graph-div\" style=\"height:525px; width:100%;\"></div>            <script type=\"text/javascript\">                require([\"plotly\"], function(Plotly) {                    window.PLOTLYENV=window.PLOTLYENV || {};                                    if (document.getElementById(\"43e2565c-5990-4af9-9657-6f578fd51423\")) {                    Plotly.newPlot(                        \"43e2565c-5990-4af9-9657-6f578fd51423\",                        [{\"mode\":\"lines\",\"name\":\"Training Loss\",\"x\":[0,1,2,3,4,5,6,7,8,9],\"y\":[0.41500811169899643,0.1812423830284249,0.13069912507730935,0.1014544327894137,0.0797849381621927,0.06554093071359343,0.055573514261216456,0.048396069233228145,0.038149569396267735,0.03320533698956881],\"type\":\"scatter\",\"xaxis\":\"x\",\"yaxis\":\"y\"},{\"mode\":\"lines\",\"name\":\"Validation Loss\",\"x\":[0,1,2,3,4,5,6,7,8,9],\"y\":[0.21328299067659523,0.1647756779424761,0.12932106991167475,0.12017526128594923,0.12948982145800167,0.1284524078070126,0.11273705608569114,0.12897095286567117,0.12395529003963034,0.12399823303970052],\"type\":\"scatter\",\"xaxis\":\"x\",\"yaxis\":\"y\"},{\"mode\":\"lines\",\"name\":\"Training Accuracy\",\"x\":[0,1,2,3,4,5,6,7,8,9],\"y\":[0.8828571428571429,0.9463690476190476,0.9607142857142857,0.9688690476190476,0.9756547619047619,0.9789880952380953,0.9820238095238095,0.9847916666666666,0.9875892857142857,0.9897619047619047],\"type\":\"scatter\",\"xaxis\":\"x2\",\"yaxis\":\"y2\"},{\"mode\":\"lines\",\"name\":\"Validation Accuracy\",\"x\":[0,1,2,3,4,5,6,7,8,9],\"y\":[0.9358333333333333,0.9477380952380953,0.9579761904761904,0.9616666666666667,0.9611904761904762,0.9617857142857142,0.9660714285714286,0.9646428571428571,0.9661904761904762,0.9685714285714285],\"type\":\"scatter\",\"xaxis\":\"x2\",\"yaxis\":\"y2\"}],                        {\"template\":{\"data\":{\"histogram2dcontour\":[{\"type\":\"histogram2dcontour\",\"colorbar\":{\"outlinewidth\":0,\"ticks\":\"\"},\"colorscale\":[[0.0,\"#0d0887\"],[0.1111111111111111,\"#46039f\"],[0.2222222222222222,\"#7201a8\"],[0.3333333333333333,\"#9c179e\"],[0.4444444444444444,\"#bd3786\"],[0.5555555555555556,\"#d8576b\"],[0.6666666666666666,\"#ed7953\"],[0.7777777777777778,\"#fb9f3a\"],[0.8888888888888888,\"#fdca26\"],[1.0,\"#f0f921\"]]}],\"choropleth\":[{\"type\":\"choropleth\",\"colorbar\":{\"outlinewidth\":0,\"ticks\":\"\"}}],\"histogram2d\":[{\"type\":\"histogram2d\",\"colorbar\":{\"outlinewidth\":0,\"ticks\":\"\"},\"colorscale\":[[0.0,\"#0d0887\"],[0.1111111111111111,\"#46039f\"],[0.2222222222222222,\"#7201a8\"],[0.3333333333333333,\"#9c179e\"],[0.4444444444444444,\"#bd3786\"],[0.5555555555555556,\"#d8576b\"],[0.6666666666666666,\"#ed7953\"],[0.7777777777777778,\"#fb9f3a\"],[0.8888888888888888,\"#fdca26\"],[1.0,\"#f0f921\"]]}],\"heatmap\":[{\"type\":\"heatmap\",\"colorbar\":{\"outlinewidth\":0,\"ticks\":\"\"},\"colorscale\":[[0.0,\"#0d0887\"],[0.1111111111111111,\"#46039f\"],[0.2222222222222222,\"#7201a8\"],[0.3333333333333333,\"#9c179e\"],[0.4444444444444444,\"#bd3786\"],[0.5555555555555556,\"#d8576b\"],[0.6666666666666666,\"#ed7953\"],[0.7777777777777778,\"#fb9f3a\"],[0.8888888888888888,\"#fdca26\"],[1.0,\"#f0f921\"]]}],\"heatmapgl\":[{\"type\":\"heatmapgl\",\"colorbar\":{\"outlinewidth\":0,\"ticks\":\"\"},\"colorscale\":[[0.0,\"#0d0887\"],[0.1111111111111111,\"#46039f\"],[0.2222222222222222,\"#7201a8\"],[0.3333333333333333,\"#9c179e\"],[0.4444444444444444,\"#bd3786\"],[0.5555555555555556,\"#d8576b\"],[0.6666666666666666,\"#ed7953\"],[0.7777777777777778,\"#fb9f3a\"],[0.8888888888888888,\"#fdca26\"],[1.0,\"#f0f921\"]]}],\"contourcarpet\":[{\"type\":\"contourcarpet\",\"colorbar\":{\"outlinewidth\":0,\"ticks\":\"\"}}],\"contour\":[{\"type\":\"contour\",\"colorbar\":{\"outlinewidth\":0,\"ticks\":\"\"},\"colorscale\":[[0.0,\"#0d0887\"],[0.1111111111111111,\"#46039f\"],[0.2222222222222222,\"#7201a8\"],[0.3333333333333333,\"#9c179e\"],[0.4444444444444444,\"#bd3786\"],[0.5555555555555556,\"#d8576b\"],[0.6666666666666666,\"#ed7953\"],[0.7777777777777778,\"#fb9f3a\"],[0.8888888888888888,\"#fdca26\"],[1.0,\"#f0f921\"]]}],\"surface\":[{\"type\":\"surface\",\"colorbar\":{\"outlinewidth\":0,\"ticks\":\"\"},\"colorscale\":[[0.0,\"#0d0887\"],[0.1111111111111111,\"#46039f\"],[0.2222222222222222,\"#7201a8\"],[0.3333333333333333,\"#9c179e\"],[0.4444444444444444,\"#bd3786\"],[0.5555555555555556,\"#d8576b\"],[0.6666666666666666,\"#ed7953\"],[0.7777777777777778,\"#fb9f3a\"],[0.8888888888888888,\"#fdca26\"],[1.0,\"#f0f921\"]]}],\"mesh3d\":[{\"type\":\"mesh3d\",\"colorbar\":{\"outlinewidth\":0,\"ticks\":\"\"}}],\"scatter\":[{\"fillpattern\":{\"fillmode\":\"overlay\",\"size\":10,\"solidity\":0.2},\"type\":\"scatter\"}],\"parcoords\":[{\"type\":\"parcoords\",\"line\":{\"colorbar\":{\"outlinewidth\":0,\"ticks\":\"\"}}}],\"scatterpolargl\":[{\"type\":\"scatterpolargl\",\"marker\":{\"colorbar\":{\"outlinewidth\":0,\"ticks\":\"\"}}}],\"bar\":[{\"error_x\":{\"color\":\"#2a3f5f\"},\"error_y\":{\"color\":\"#2a3f5f\"},\"marker\":{\"line\":{\"color\":\"#E5ECF6\",\"width\":0.5},\"pattern\":{\"fillmode\":\"overlay\",\"size\":10,\"solidity\":0.2}},\"type\":\"bar\"}],\"scattergeo\":[{\"type\":\"scattergeo\",\"marker\":{\"colorbar\":{\"outlinewidth\":0,\"ticks\":\"\"}}}],\"scatterpolar\":[{\"type\":\"scatterpolar\",\"marker\":{\"colorbar\":{\"outlinewidth\":0,\"ticks\":\"\"}}}],\"histogram\":[{\"marker\":{\"pattern\":{\"fillmode\":\"overlay\",\"size\":10,\"solidity\":0.2}},\"type\":\"histogram\"}],\"scattergl\":[{\"type\":\"scattergl\",\"marker\":{\"colorbar\":{\"outlinewidth\":0,\"ticks\":\"\"}}}],\"scatter3d\":[{\"type\":\"scatter3d\",\"line\":{\"colorbar\":{\"outlinewidth\":0,\"ticks\":\"\"}},\"marker\":{\"colorbar\":{\"outlinewidth\":0,\"ticks\":\"\"}}}],\"scattermapbox\":[{\"type\":\"scattermapbox\",\"marker\":{\"colorbar\":{\"outlinewidth\":0,\"ticks\":\"\"}}}],\"scatterternary\":[{\"type\":\"scatterternary\",\"marker\":{\"colorbar\":{\"outlinewidth\":0,\"ticks\":\"\"}}}],\"scattercarpet\":[{\"type\":\"scattercarpet\",\"marker\":{\"colorbar\":{\"outlinewidth\":0,\"ticks\":\"\"}}}],\"carpet\":[{\"aaxis\":{\"endlinecolor\":\"#2a3f5f\",\"gridcolor\":\"white\",\"linecolor\":\"white\",\"minorgridcolor\":\"white\",\"startlinecolor\":\"#2a3f5f\"},\"baxis\":{\"endlinecolor\":\"#2a3f5f\",\"gridcolor\":\"white\",\"linecolor\":\"white\",\"minorgridcolor\":\"white\",\"startlinecolor\":\"#2a3f5f\"},\"type\":\"carpet\"}],\"table\":[{\"cells\":{\"fill\":{\"color\":\"#EBF0F8\"},\"line\":{\"color\":\"white\"}},\"header\":{\"fill\":{\"color\":\"#C8D4E3\"},\"line\":{\"color\":\"white\"}},\"type\":\"table\"}],\"barpolar\":[{\"marker\":{\"line\":{\"color\":\"#E5ECF6\",\"width\":0.5},\"pattern\":{\"fillmode\":\"overlay\",\"size\":10,\"solidity\":0.2}},\"type\":\"barpolar\"}],\"pie\":[{\"automargin\":true,\"type\":\"pie\"}]},\"layout\":{\"autotypenumbers\":\"strict\",\"colorway\":[\"#636efa\",\"#EF553B\",\"#00cc96\",\"#ab63fa\",\"#FFA15A\",\"#19d3f3\",\"#FF6692\",\"#B6E880\",\"#FF97FF\",\"#FECB52\"],\"font\":{\"color\":\"#2a3f5f\"},\"hovermode\":\"closest\",\"hoverlabel\":{\"align\":\"left\"},\"paper_bgcolor\":\"white\",\"plot_bgcolor\":\"#E5ECF6\",\"polar\":{\"bgcolor\":\"#E5ECF6\",\"angularaxis\":{\"gridcolor\":\"white\",\"linecolor\":\"white\",\"ticks\":\"\"},\"radialaxis\":{\"gridcolor\":\"white\",\"linecolor\":\"white\",\"ticks\":\"\"}},\"ternary\":{\"bgcolor\":\"#E5ECF6\",\"aaxis\":{\"gridcolor\":\"white\",\"linecolor\":\"white\",\"ticks\":\"\"},\"baxis\":{\"gridcolor\":\"white\",\"linecolor\":\"white\",\"ticks\":\"\"},\"caxis\":{\"gridcolor\":\"white\",\"linecolor\":\"white\",\"ticks\":\"\"}},\"coloraxis\":{\"colorbar\":{\"outlinewidth\":0,\"ticks\":\"\"}},\"colorscale\":{\"sequential\":[[0.0,\"#0d0887\"],[0.1111111111111111,\"#46039f\"],[0.2222222222222222,\"#7201a8\"],[0.3333333333333333,\"#9c179e\"],[0.4444444444444444,\"#bd3786\"],[0.5555555555555556,\"#d8576b\"],[0.6666666666666666,\"#ed7953\"],[0.7777777777777778,\"#fb9f3a\"],[0.8888888888888888,\"#fdca26\"],[1.0,\"#f0f921\"]],\"sequentialminus\":[[0.0,\"#0d0887\"],[0.1111111111111111,\"#46039f\"],[0.2222222222222222,\"#7201a8\"],[0.3333333333333333,\"#9c179e\"],[0.4444444444444444,\"#bd3786\"],[0.5555555555555556,\"#d8576b\"],[0.6666666666666666,\"#ed7953\"],[0.7777777777777778,\"#fb9f3a\"],[0.8888888888888888,\"#fdca26\"],[1.0,\"#f0f921\"]],\"diverging\":[[0,\"#8e0152\"],[0.1,\"#c51b7d\"],[0.2,\"#de77ae\"],[0.3,\"#f1b6da\"],[0.4,\"#fde0ef\"],[0.5,\"#f7f7f7\"],[0.6,\"#e6f5d0\"],[0.7,\"#b8e186\"],[0.8,\"#7fbc41\"],[0.9,\"#4d9221\"],[1,\"#276419\"]]},\"xaxis\":{\"gridcolor\":\"white\",\"linecolor\":\"white\",\"ticks\":\"\",\"title\":{\"standoff\":15},\"zerolinecolor\":\"white\",\"automargin\":true,\"zerolinewidth\":2},\"yaxis\":{\"gridcolor\":\"white\",\"linecolor\":\"white\",\"ticks\":\"\",\"title\":{\"standoff\":15},\"zerolinecolor\":\"white\",\"automargin\":true,\"zerolinewidth\":2},\"scene\":{\"xaxis\":{\"backgroundcolor\":\"#E5ECF6\",\"gridcolor\":\"white\",\"linecolor\":\"white\",\"showbackground\":true,\"ticks\":\"\",\"zerolinecolor\":\"white\",\"gridwidth\":2},\"yaxis\":{\"backgroundcolor\":\"#E5ECF6\",\"gridcolor\":\"white\",\"linecolor\":\"white\",\"showbackground\":true,\"ticks\":\"\",\"zerolinecolor\":\"white\",\"gridwidth\":2},\"zaxis\":{\"backgroundcolor\":\"#E5ECF6\",\"gridcolor\":\"white\",\"linecolor\":\"white\",\"showbackground\":true,\"ticks\":\"\",\"zerolinecolor\":\"white\",\"gridwidth\":2}},\"shapedefaults\":{\"line\":{\"color\":\"#2a3f5f\"}},\"annotationdefaults\":{\"arrowcolor\":\"#2a3f5f\",\"arrowhead\":0,\"arrowwidth\":1},\"geo\":{\"bgcolor\":\"white\",\"landcolor\":\"#E5ECF6\",\"subunitcolor\":\"white\",\"showland\":true,\"showlakes\":true,\"lakecolor\":\"white\"},\"title\":{\"x\":0.05},\"mapbox\":{\"style\":\"light\"}}},\"xaxis\":{\"anchor\":\"y\",\"domain\":[0.0,0.45],\"title\":{\"text\":\"Epoch\"}},\"yaxis\":{\"anchor\":\"x\",\"domain\":[0.0,1.0],\"title\":{\"text\":\"Loss\"}},\"xaxis2\":{\"anchor\":\"y2\",\"domain\":[0.55,1.0],\"title\":{\"text\":\"Epoch\"}},\"yaxis2\":{\"anchor\":\"x2\",\"domain\":[0.0,1.0],\"title\":{\"text\":\"Accuracy\"}},\"annotations\":[{\"font\":{\"size\":16},\"showarrow\":false,\"text\":\"Loss Over Epochs\",\"x\":0.225,\"xanchor\":\"center\",\"xref\":\"paper\",\"y\":1.0,\"yanchor\":\"bottom\",\"yref\":\"paper\"},{\"font\":{\"size\":16},\"showarrow\":false,\"text\":\"Accuracy Over Epochs\",\"x\":0.775,\"xanchor\":\"center\",\"xref\":\"paper\",\"y\":1.0,\"yanchor\":\"bottom\",\"yref\":\"paper\"}],\"title\":{\"text\":\"Training Metrics\"},\"showlegend\":true},                        {\"responsive\": true}                    ).then(function(){\n",
       "                            \n",
       "var gd = document.getElementById('43e2565c-5990-4af9-9657-6f578fd51423');\n",
       "var x = new MutationObserver(function (mutations, observer) {{\n",
       "        var display = window.getComputedStyle(gd).display;\n",
       "        if (!display || display === 'none') {{\n",
       "            console.log([gd, 'removed!']);\n",
       "            Plotly.purge(gd);\n",
       "            observer.disconnect();\n",
       "        }}\n",
       "}});\n",
       "\n",
       "// Listen for the removal of the full notebook cells\n",
       "var notebookContainer = gd.closest('#notebook-container');\n",
       "if (notebookContainer) {{\n",
       "    x.observe(notebookContainer, {childList: true});\n",
       "}}\n",
       "\n",
       "// Listen for the clearing of the current output cell\n",
       "var outputEl = gd.closest('.output');\n",
       "if (outputEl) {{\n",
       "    x.observe(outputEl, {childList: true});\n",
       "}}\n",
       "\n",
       "                        })                };                });            </script>        </div>"
      ]
     },
     "metadata": {},
     "output_type": "display_data"
    }
   ],
   "source": [
    "# 1. Importing the necessary libraries.\n",
    "import os\n",
    "import torch\n",
    "import torchvision\n",
    "from tqdm import tqdm\n",
    "import torch.nn as nn\n",
    "import matplotlib.pyplot as plt\n",
    "import plotly.graph_objects as go\n",
    "from plotly.subplots import make_subplots\n",
    "\n",
    "\n",
    "class NumpyDataset(torch.utils.data.Dataset):\n",
    "    def __init__(self, data, labels=None, train=True):\n",
    "        self.data = torch.from_numpy(data).float()\n",
    "        if train:\n",
    "            self.labels = torch.from_numpy(labels).long()\n",
    "\n",
    "        self.train = train\n",
    "\n",
    "    def __len__(self):\n",
    "        return len(self.data)\n",
    "\n",
    "    def __getitem__(self, idx):\n",
    "        sample = self.data[idx]\n",
    "        if self.train:\n",
    "            return sample, self.labels[idx]\n",
    "        return sample\n",
    "\n",
    "# 3. Loading the dataset.\n",
    "mnist_dataset_trn = NumpyDataset(data=x_trn, labels=y_trn, train=True)\n",
    "mnist_dataset_val = NumpyDataset(data=x_val, labels=y_val, train=True)\n",
    "mnist_dataset_tst = NumpyDataset(data=x_tst, labels=None,  train=False)\n",
    "\n",
    "# 4. Preprocessing the data to make it suitable for training.\n",
    "trn_loader = torch.utils.data.DataLoader(\n",
    "    dataset=mnist_dataset_trn, \n",
    "    batch_size=batch_size, \n",
    "    shuffle=True)\n",
    "val_loader = torch.utils.data.DataLoader(\n",
    "    dataset=mnist_dataset_val, \n",
    "    batch_size=batch_size, \n",
    "    shuffle=True)\n",
    "tst_loader = torch.utils.data.DataLoader(\n",
    "    dataset=mnist_dataset_tst, \n",
    "    batch_size=batch_size, \n",
    "    shuffle=False)\n",
    "\n",
    "# 5. Initializing the model architecture.\n",
    "class ANN(nn.Module):\n",
    "    def __init__(self):\n",
    "        super(ANN, self).__init__()\n",
    "        self.fc1 = nn.Linear(img_size_flattened, hidden_1)\n",
    "        self.fc2 = nn.Linear(hidden_1, hidden_2)\n",
    "        self.out = nn.Linear(hidden_2, n_classes)\n",
    "    \n",
    "    def forward(self, x):\n",
    "        x = x.reshape(-1, img_size_flattened)\n",
    "        x = nn.functional.relu(self.fc1(x))\n",
    "        x = nn.functional.relu(self.fc2(x))\n",
    "        x = self.out(x)\n",
    "        return x\n",
    "\n",
    "model = ANN()\n",
    "optimizer = torch.optim.Adam(model.parameters(), lr=learning_rate)\n",
    "loss_function = nn.CrossEntropyLoss()\n",
    "\n",
    "# Tracking metrics\n",
    "train_losses = []\n",
    "test_losses = []\n",
    "train_accuracies = []\n",
    "test_accuracies = []\n",
    "\n",
    "# 6. Training the model using the defined parameters and dataset.\n",
    "for epoch in range(n_epochs):\n",
    "    model.train()\n",
    "    running_loss = 0\n",
    "    correct_train = 0\n",
    "    total_train = 0\n",
    "\n",
    "    for batch_idx, (x_trn_batch, y_trn_batch) in tqdm(enumerate(trn_loader)):\n",
    "        optimizer.zero_grad()\n",
    "        y_pred_batch = model(x_trn_batch)\n",
    "        loss = loss_function(y_pred_batch, y_trn_batch)\n",
    "        loss.backward()\n",
    "        optimizer.step()\n",
    "\n",
    "        running_loss += loss.item()\n",
    "        _, predicted = torch.max(y_pred_batch, 1)\n",
    "        correct_train += (predicted == y_trn_batch).sum().item()\n",
    "        total_train += y_trn_batch.size(0)\n",
    "\n",
    "    train_losses.append(running_loss / len(trn_loader))\n",
    "    train_accuracies.append(correct_train / len(x_trn))\n",
    "\n",
    "    model.eval()\n",
    "    test_loss = 0\n",
    "    correct_test = 0\n",
    "    total_test = 0\n",
    "\n",
    "    with torch.no_grad():\n",
    "        for x_val_batch, y_val_batch in val_loader:\n",
    "            y_pred_batch = model(x_val_batch)\n",
    "            loss = loss_function(y_pred_batch, y_val_batch)\n",
    "            test_loss += loss.item()\n",
    "            _, predicted = torch.max(y_pred_batch, 1)\n",
    "            correct_test += (predicted == y_val_batch).sum().item()\n",
    "            total_test += y_val_batch.size(0)\n",
    "\n",
    "    test_losses.append(test_loss / len(val_loader))\n",
    "    test_accuracies.append(correct_test / len(x_val))\n",
    "\n",
    "    print(f'Epoch {epoch+1}/{n_epochs}, Train Loss: {train_losses[-1]:.4f}, Train Accuracy: {train_accuracies[-1]:.4f}, Test Loss: {test_losses[-1]:.4f}, Test Accuracy: {test_accuracies[-1]:.4f}')\n",
    "\n",
    "\n",
    "plot_pytorch_training_results(n_epochs, train_losses, test_losses, train_accuracies, test_accuracies)"
   ]
  },
  {
   "cell_type": "code",
   "execution_count": 10,
   "id": "18fde9c6",
   "metadata": {
    "execution": {
     "iopub.execute_input": "2024-09-08T16:01:51.741804Z",
     "iopub.status.busy": "2024-09-08T16:01:51.741040Z",
     "iopub.status.idle": "2024-09-08T16:01:52.235763Z",
     "shell.execute_reply": "2024-09-08T16:01:52.234696Z"
    },
    "papermill": {
     "duration": 0.60141,
     "end_time": "2024-09-08T16:01:52.238673",
     "exception": false,
     "start_time": "2024-09-08T16:01:51.637263",
     "status": "completed"
    },
    "tags": []
   },
   "outputs": [],
   "source": [
    "y_pred_tot = []\n",
    "with torch.no_grad():\n",
    "    for x_tst_batch in tst_loader:\n",
    "        y_pred_batch = model(x_val_batch)\n",
    "        _, pred = torch.max(y_pred_batch, 1)\n",
    "        y_pred_tot += list(pred.numpy())"
   ]
  },
  {
   "cell_type": "code",
   "execution_count": 11,
   "id": "963b5250",
   "metadata": {
    "execution": {
     "iopub.execute_input": "2024-09-08T16:01:52.410465Z",
     "iopub.status.busy": "2024-09-08T16:01:52.409985Z",
     "iopub.status.idle": "2024-09-08T16:01:52.455445Z",
     "shell.execute_reply": "2024-09-08T16:01:52.454232Z"
    },
    "papermill": {
     "duration": 0.133872,
     "end_time": "2024-09-08T16:01:52.458287",
     "exception": false,
     "start_time": "2024-09-08T16:01:52.324415",
     "status": "completed"
    },
    "tags": []
   },
   "outputs": [],
   "source": [
    "tst_df[\"Label\"] = y_prd_labels\n",
    "tst_df[[\"ImageId\", \"Label\"]].to_csv(\"pytorch-prediction.csv\", index=False, header=True)"
   ]
  }
 ],
 "metadata": {
  "kaggle": {
   "accelerator": "none",
   "dataSources": [
    {
     "databundleVersionId": 861823,
     "sourceId": 3004,
     "sourceType": "competition"
    }
   ],
   "dockerImageVersionId": 30761,
   "isGpuEnabled": false,
   "isInternetEnabled": false,
   "language": "python",
   "sourceType": "notebook"
  },
  "kernelspec": {
   "display_name": "Python 3",
   "language": "python",
   "name": "python3"
  },
  "language_info": {
   "codemirror_mode": {
    "name": "ipython",
    "version": 3
   },
   "file_extension": ".py",
   "mimetype": "text/x-python",
   "name": "python",
   "nbconvert_exporter": "python",
   "pygments_lexer": "ipython3",
   "version": "3.10.14"
  },
  "papermill": {
   "default_parameters": {},
   "duration": 103.62051,
   "end_time": "2024-09-08T16:01:55.502173",
   "environment_variables": {},
   "exception": null,
   "input_path": "__notebook__.ipynb",
   "output_path": "__notebook__.ipynb",
   "parameters": {},
   "start_time": "2024-09-08T16:00:11.881663",
   "version": "2.6.0"
  }
 },
 "nbformat": 4,
 "nbformat_minor": 5
}
