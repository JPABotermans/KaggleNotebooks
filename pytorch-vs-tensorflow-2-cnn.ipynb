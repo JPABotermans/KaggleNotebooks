{
 "cells": [
  {
   "cell_type": "markdown",
   "id": "bdc624ca",
   "metadata": {
    "_cell_guid": "b1076dfc-b9ad-4769-8c92-a6c4dae69d19",
    "_uuid": "8f2839f25d086af736a60e9eeb907d3b93b6e0e5",
    "papermill": {
     "duration": 0.005893,
     "end_time": "2024-09-10T05:55:41.760463",
     "exception": false,
     "start_time": "2024-09-10T05:55:41.754570",
     "status": "completed"
    },
    "tags": []
   },
   "source": [
    "# Pytorch vs Tensorflow - CNN\n",
    "\n",
    "Choosing Pytorch vs Tensorflow, which should you use? Which is better and what are the differences between these two frameworks both made for deep learning. Well in this series I am going to compare them side by side so you could see the differences and simliarities clearly, in code with crips examples.\n",
    "\n",
    "Also, when I switched from Tensorflow to pytorch, I just wished I had a \"**Rosetta Stone**\" to translate between frameworks, which I hope this series will be for you. A nice overview that practitioners to leverage the strengths of both libraries.\n",
    "\n",
    "## In this notebook\n",
    "In the first notebook of this series, I will start with the basics by creating a simple Convolutional Neural Network (CNN) in both PyTorch and TensorFlow. We will train this so called CNN on the MNIST dataset, which consists of handwritten digit images, to illustrate fundamental concepts and workflows in each framework. This foundational exercise will set the stage for more complex models and comparisons in subsequent notebooks.\n",
    "\n",
    "For both PyTorch and TensorFlow, the steps for training a model are essentially the same:\n",
    "\n",
    "1. Importing the necessary libraries.\n",
    "2. Defining the model parameters and hyperparameters.\n",
    "3. Loading the dataset.\n",
    "4. Preprocessing the data to make it suitable for training.\n",
    "5. Initializing the model architecture.\n",
    "6. Training the model using the defined parameters and dataset.\n",
    "\n",
    "These steps form the core workflow in building and training deep learning models, regardless of the framework used."
   ]
  },
  {
   "cell_type": "code",
   "execution_count": 1,
   "id": "ac287242",
   "metadata": {
    "execution": {
     "iopub.execute_input": "2024-09-10T05:55:41.772606Z",
     "iopub.status.busy": "2024-09-10T05:55:41.772091Z",
     "iopub.status.idle": "2024-09-10T05:55:42.226070Z",
     "shell.execute_reply": "2024-09-10T05:55:42.224999Z"
    },
    "papermill": {
     "duration": 0.463064,
     "end_time": "2024-09-10T05:55:42.228757",
     "exception": false,
     "start_time": "2024-09-10T05:55:41.765693",
     "status": "completed"
    },
    "tags": []
   },
   "outputs": [],
   "source": [
    "import numpy as np\n",
    "import pandas as pd"
   ]
  },
  {
   "cell_type": "code",
   "execution_count": 2,
   "id": "75904505",
   "metadata": {
    "execution": {
     "iopub.execute_input": "2024-09-10T05:55:42.243561Z",
     "iopub.status.busy": "2024-09-10T05:55:42.242943Z",
     "iopub.status.idle": "2024-09-10T05:55:42.395650Z",
     "shell.execute_reply": "2024-09-10T05:55:42.394422Z"
    },
    "papermill": {
     "duration": 0.162465,
     "end_time": "2024-09-10T05:55:42.398694",
     "exception": false,
     "start_time": "2024-09-10T05:55:42.236229",
     "status": "completed"
    },
    "tags": []
   },
   "outputs": [],
   "source": [
    "import plotly.graph_objects as go\n",
    "from plotly.subplots import make_subplots\n",
    "\n",
    "# Plotting the training metrics with Plotly\n",
    "def plot_tensorflow_training_results(history):\n",
    "    fig = make_subplots(rows=1, cols=2, subplot_titles=(\"Loss Over Epochs\", \"Accuracy Over Epochs\"))\n",
    "\n",
    "    # Loss plot\n",
    "    fig.add_trace(go.Scatter(x=list(range(len(history.history['loss']))),\n",
    "                             y=history.history['loss'],\n",
    "                             mode='lines',\n",
    "                             name='Training Loss'),\n",
    "                  row=1, col=1)\n",
    "    fig.add_trace(go.Scatter(x=list(range(len(history.history['val_loss']))),\n",
    "                             y=history.history['val_loss'],\n",
    "                             mode='lines',\n",
    "                             name='Validation Loss'),\n",
    "                  row=1, col=1)\n",
    "\n",
    "    # Accuracy plot\n",
    "    fig.add_trace(go.Scatter(x=list(range(len(history.history['accuracy']))),\n",
    "                             y=history.history['accuracy'],\n",
    "                             mode='lines',\n",
    "                             name='Training Accuracy'),\n",
    "                  row=1, col=2)\n",
    "    fig.add_trace(go.Scatter(x=list(range(len(history.history['val_accuracy']))),\n",
    "                             y=history.history['val_accuracy'],\n",
    "                             mode='lines',\n",
    "                             name='Validation Accuracy'),\n",
    "                  row=1, col=2)\n",
    "\n",
    "    # Updating layout\n",
    "    fig.update_layout(title='Training Metrics',\n",
    "                      xaxis_title='Epoch',\n",
    "                      yaxis_title='Value',\n",
    "                      showlegend=True)\n",
    "\n",
    "    # Update xaxis labels\n",
    "    fig.update_xaxes(title_text='Epoch', row=1, col=1)\n",
    "    fig.update_xaxes(title_text='Epoch', row=1, col=2)\n",
    "\n",
    "    # Update yaxis labels\n",
    "    fig.update_yaxes(title_text='Loss', row=1, col=1)\n",
    "    fig.update_yaxes(title_text='Accuracy', row=1, col=2)\n",
    "\n",
    "    fig.show()\n",
    "    "
   ]
  },
  {
   "cell_type": "code",
   "execution_count": 3,
   "id": "ffc29125",
   "metadata": {
    "execution": {
     "iopub.execute_input": "2024-09-10T05:55:42.411345Z",
     "iopub.status.busy": "2024-09-10T05:55:42.410937Z",
     "iopub.status.idle": "2024-09-10T05:55:42.423487Z",
     "shell.execute_reply": "2024-09-10T05:55:42.422321Z"
    },
    "papermill": {
     "duration": 0.02211,
     "end_time": "2024-09-10T05:55:42.426156",
     "exception": false,
     "start_time": "2024-09-10T05:55:42.404046",
     "status": "completed"
    },
    "tags": []
   },
   "outputs": [],
   "source": [
    "import plotly.graph_objects as go\n",
    "from plotly.subplots import make_subplots\n",
    "\n",
    "def plot_pytorch_training_results(n_epochs, train_losses, test_losses, train_accuracies, test_accuracies):\n",
    "    # Plotting the training metrics with Plotly\n",
    "    fig = make_subplots(rows=1, cols=2, subplot_titles=(\"Loss Over Epochs\", \"Accuracy Over Epochs\"))\n",
    "\n",
    "    # Loss plot\n",
    "    fig.add_trace(go.Scatter(x=list(range(n_epochs)), y=train_losses, mode='lines', name='Training Loss'), row=1, col=1)\n",
    "    fig.add_trace(go.Scatter(x=list(range(n_epochs)), y=test_losses, mode='lines', name='Validation Loss'), row=1, col=1)\n",
    "\n",
    "    # Accuracy plot\n",
    "    fig.add_trace(go.Scatter(x=list(range(n_epochs)), y=train_accuracies, mode='lines', name='Training Accuracy'), row=1, col=2)\n",
    "    fig.add_trace(go.Scatter(x=list(range(n_epochs)), y=test_accuracies, mode='lines', name='Validation Accuracy'), row=1, col=2)\n",
    "\n",
    "    # Updating layout\n",
    "    fig.update_layout(title='Training Metrics', xaxis_title='Epoch', yaxis_title='Value', showlegend=True)\n",
    "\n",
    "    # Update xaxis labels\n",
    "    fig.update_xaxes(title_text='Epoch', row=1, col=1)\n",
    "    fig.update_xaxes(title_text='Epoch', row=1, col=2)\n",
    "\n",
    "    # Update yaxis labels\n",
    "    fig.update_yaxes(title_text='Loss', row=1, col=1)\n",
    "    fig.update_yaxes(title_text='Accuracy', row=1, col=2)\n",
    "\n",
    "    fig.show()"
   ]
  },
  {
   "cell_type": "code",
   "execution_count": 4,
   "id": "300a0243",
   "metadata": {
    "execution": {
     "iopub.execute_input": "2024-09-10T05:55:42.438287Z",
     "iopub.status.busy": "2024-09-10T05:55:42.437844Z",
     "iopub.status.idle": "2024-09-10T05:55:49.801729Z",
     "shell.execute_reply": "2024-09-10T05:55:49.800581Z"
    },
    "papermill": {
     "duration": 7.373325,
     "end_time": "2024-09-10T05:55:49.804641",
     "exception": false,
     "start_time": "2024-09-10T05:55:42.431316",
     "status": "completed"
    },
    "tags": []
   },
   "outputs": [],
   "source": [
    "pixel_columns = [f\"pixel{i}\" for i in range(784)]\n",
    "all_df = pd.read_csv(\"/kaggle/input/digit-recognizer/train.csv\")\n",
    "\n",
    "indices = np.arange(len(all_df))\n",
    "np.random.shuffle(indices)\n",
    "\n",
    "# Split the indices into 80% train and 20% validation\n",
    "trn_len = int(0.8 * len(all_df))\n",
    "trn_ind = indices[:trn_len]\n",
    "val_ind = indices[trn_len:]\n",
    "\n",
    "trn_df = all_df.iloc[trn_ind]\n",
    "val_df = all_df.iloc[val_ind]\n",
    "x_trn = trn_df[pixel_columns].values\n",
    "y_trn = trn_df[\"label\"].values\n",
    "\n",
    "x_val = val_df[pixel_columns].values\n",
    "y_val = val_df[\"label\"].values\n",
    "\n",
    "tst_df = pd.read_csv(\"/kaggle/input/digit-recognizer/test.csv\")\n",
    "x_tst = tst_df[pixel_columns].values"
   ]
  },
  {
   "cell_type": "code",
   "execution_count": 5,
   "id": "485e5126",
   "metadata": {
    "execution": {
     "iopub.execute_input": "2024-09-10T05:55:49.816754Z",
     "iopub.status.busy": "2024-09-10T05:55:49.816322Z",
     "iopub.status.idle": "2024-09-10T05:59:05.459556Z",
     "shell.execute_reply": "2024-09-10T05:59:05.458238Z"
    },
    "papermill": {
     "duration": 195.65272,
     "end_time": "2024-09-10T05:59:05.462514",
     "exception": false,
     "start_time": "2024-09-10T05:55:49.809794",
     "status": "completed"
    },
    "tags": []
   },
   "outputs": [
    {
     "name": "stdout",
     "output_type": "stream",
     "text": [
      "Epoch 1/10\n",
      "\u001b[1m1050/1050\u001b[0m \u001b[32m━━━━━━━━━━━━━━━━━━━━\u001b[0m\u001b[37m\u001b[0m \u001b[1m20s\u001b[0m 18ms/step - accuracy: 0.8194 - loss: 0.5758 - val_accuracy: 0.9713 - val_loss: 0.0914\n",
      "Epoch 2/10\n",
      "\u001b[1m1050/1050\u001b[0m \u001b[32m━━━━━━━━━━━━━━━━━━━━\u001b[0m\u001b[37m\u001b[0m \u001b[1m18s\u001b[0m 17ms/step - accuracy: 0.9667 - loss: 0.1045 - val_accuracy: 0.9792 - val_loss: 0.0645\n",
      "Epoch 3/10\n",
      "\u001b[1m1050/1050\u001b[0m \u001b[32m━━━━━━━━━━━━━━━━━━━━\u001b[0m\u001b[37m\u001b[0m \u001b[1m18s\u001b[0m 17ms/step - accuracy: 0.9753 - loss: 0.0765 - val_accuracy: 0.9829 - val_loss: 0.0520\n",
      "Epoch 4/10\n",
      "\u001b[1m1050/1050\u001b[0m \u001b[32m━━━━━━━━━━━━━━━━━━━━\u001b[0m\u001b[37m\u001b[0m \u001b[1m17s\u001b[0m 17ms/step - accuracy: 0.9809 - loss: 0.0616 - val_accuracy: 0.9838 - val_loss: 0.0516\n",
      "Epoch 5/10\n",
      "\u001b[1m1050/1050\u001b[0m \u001b[32m━━━━━━━━━━━━━━━━━━━━\u001b[0m\u001b[37m\u001b[0m \u001b[1m18s\u001b[0m 17ms/step - accuracy: 0.9824 - loss: 0.0537 - val_accuracy: 0.9868 - val_loss: 0.0434\n",
      "Epoch 6/10\n",
      "\u001b[1m1050/1050\u001b[0m \u001b[32m━━━━━━━━━━━━━━━━━━━━\u001b[0m\u001b[37m\u001b[0m \u001b[1m17s\u001b[0m 17ms/step - accuracy: 0.9848 - loss: 0.0494 - val_accuracy: 0.9863 - val_loss: 0.0440\n",
      "Epoch 7/10\n",
      "\u001b[1m1050/1050\u001b[0m \u001b[32m━━━━━━━━━━━━━━━━━━━━\u001b[0m\u001b[37m\u001b[0m \u001b[1m18s\u001b[0m 17ms/step - accuracy: 0.9867 - loss: 0.0437 - val_accuracy: 0.9882 - val_loss: 0.0381\n",
      "Epoch 8/10\n",
      "\u001b[1m1050/1050\u001b[0m \u001b[32m━━━━━━━━━━━━━━━━━━━━\u001b[0m\u001b[37m\u001b[0m \u001b[1m18s\u001b[0m 17ms/step - accuracy: 0.9860 - loss: 0.0424 - val_accuracy: 0.9869 - val_loss: 0.0429\n",
      "Epoch 9/10\n",
      "\u001b[1m1050/1050\u001b[0m \u001b[32m━━━━━━━━━━━━━━━━━━━━\u001b[0m\u001b[37m\u001b[0m \u001b[1m17s\u001b[0m 16ms/step - accuracy: 0.9884 - loss: 0.0358 - val_accuracy: 0.9886 - val_loss: 0.0367\n",
      "Epoch 10/10\n",
      "\u001b[1m1050/1050\u001b[0m \u001b[32m━━━━━━━━━━━━━━━━━━━━\u001b[0m\u001b[37m\u001b[0m \u001b[1m18s\u001b[0m 17ms/step - accuracy: 0.9890 - loss: 0.0331 - val_accuracy: 0.9881 - val_loss: 0.0390\n"
     ]
    }
   ],
   "source": [
    "#1. Importing the necessary libraries.\n",
    "import tensorflow as tf\n",
    "import numpy as np\n",
    "\n",
    "from tensorflow.keras.models import Sequential\n",
    "from tensorflow.keras.layers import Dense\n",
    "from tensorflow.keras.losses import CategoricalCrossentropy\n",
    "\n",
    "from tensorflow.keras.datasets import mnist\n",
    "\n",
    "# 2. Defining the model parameters and hyperparameters.\n",
    "kernels_layer_1 = 32\n",
    "kernels_layer_2 = 64\n",
    "n_classes = 10\n",
    "n_epochs = 10\n",
    "batch_size = 32\n",
    "img_size = 28\n",
    "img_size_flattened = img_size * img_size\n",
    "learning_rate = 0.001\n",
    "n_classes = 10\n",
    "\n",
    "x_trn = x_trn/255.0\n",
    "x_val = x_val/255.0\n",
    "x_tst = x_tst/255.0\n",
    "\n",
    "x_trn = x_trn.reshape(-1, img_size, img_size, 1)\n",
    "x_val = x_val.reshape(-1, img_size, img_size, 1)\n",
    "x_tst = x_tst.reshape(-1, img_size, img_size, 1)\n",
    "\n",
    "y_trn_encoded = np.zeros(shape=(y_trn.shape[0], n_classes), dtype=int)\n",
    "y_val_encoded = np.zeros(shape=(y_val.shape[0], n_classes), dtype=int)\n",
    "\n",
    "y_trn_encoded[np.linspace(0, len(y_trn)-1, len(y_trn)).astype(int), y_trn]=1\n",
    "y_val_encoded[np.linspace(0, len(y_val)-1, len(y_val)).astype(int), y_val]=1\n",
    "\n",
    "# 5. Initializing the model architecture.\n",
    "model = Sequential([\n",
    "    tf.keras.layers.Conv2D(kernels_layer_1, kernel_size=(3, 3), activation=\"relu\"),\n",
    "    tf.keras.layers.MaxPooling2D(pool_size=(2, 2)),\n",
    "    tf.keras.layers.Conv2D(kernels_layer_2, kernel_size=(3, 3), activation=\"relu\"),\n",
    "    tf.keras.layers.MaxPooling2D(pool_size=(2, 2)),\n",
    "    tf.keras.layers.Flatten(),\n",
    "    tf.keras.layers.Dropout(0.5),\n",
    "    tf.keras.layers.Dense(units=n_classes, activation=\"softmax\")\n",
    "])\n",
    "model.compile(\n",
    "    optimizer=tf.keras.optimizers.Adam(learning_rate=learning_rate), loss=CategoricalCrossentropy(), \n",
    "    metrics=[\"accuracy\"])\n",
    "\n",
    "# 6. Training the model using the defined parameters and dataset.\n",
    "callback = model.fit(\n",
    "    x=x_trn, \n",
    "    y=y_trn_encoded, \n",
    "    validation_data=(x_val, y_val_encoded), \n",
    "    batch_size=batch_size, \n",
    "    epochs=n_epochs)"
   ]
  },
  {
   "cell_type": "code",
   "execution_count": 6,
   "id": "1f517782",
   "metadata": {
    "execution": {
     "iopub.execute_input": "2024-09-10T05:59:06.056698Z",
     "iopub.status.busy": "2024-09-10T05:59:06.055951Z",
     "iopub.status.idle": "2024-09-10T05:59:06.752673Z",
     "shell.execute_reply": "2024-09-10T05:59:06.751379Z"
    },
    "papermill": {
     "duration": 1.024539,
     "end_time": "2024-09-10T05:59:06.755277",
     "exception": false,
     "start_time": "2024-09-10T05:59:05.730738",
     "status": "completed"
    },
    "tags": []
   },
   "outputs": [
    {
     "data": {
      "text/html": [
       "        <script type=\"text/javascript\">\n",
       "        window.PlotlyConfig = {MathJaxConfig: 'local'};\n",
       "        if (window.MathJax && window.MathJax.Hub && window.MathJax.Hub.Config) {window.MathJax.Hub.Config({SVG: {font: \"STIX-Web\"}});}\n",
       "        if (typeof require !== 'undefined') {\n",
       "        require.undef(\"plotly\");\n",
       "        requirejs.config({\n",
       "            paths: {\n",
       "                'plotly': ['https://cdn.plot.ly/plotly-2.32.0.min']\n",
       "            }\n",
       "        });\n",
       "        require(['plotly'], function(Plotly) {\n",
       "            window._Plotly = Plotly;\n",
       "        });\n",
       "        }\n",
       "        </script>\n",
       "        "
      ]
     },
     "metadata": {},
     "output_type": "display_data"
    },
    {
     "data": {
      "text/html": [
       "<div>                            <div id=\"c5ae260d-d4c3-4641-9a75-6acacc2969a8\" class=\"plotly-graph-div\" style=\"height:525px; width:100%;\"></div>            <script type=\"text/javascript\">                require([\"plotly\"], function(Plotly) {                    window.PLOTLYENV=window.PLOTLYENV || {};                                    if (document.getElementById(\"c5ae260d-d4c3-4641-9a75-6acacc2969a8\")) {                    Plotly.newPlot(                        \"c5ae260d-d4c3-4641-9a75-6acacc2969a8\",                        [{\"mode\":\"lines\",\"name\":\"Training Loss\",\"x\":[0,1,2,3,4,5,6,7,8,9],\"y\":[0.2770315408706665,0.10007748752832413,0.0749034658074379,0.06307628005743027,0.055770307779312134,0.04975573718547821,0.04677458480000496,0.04122014716267586,0.03879866376519203,0.03649302199482918],\"type\":\"scatter\",\"xaxis\":\"x\",\"yaxis\":\"y\"},{\"mode\":\"lines\",\"name\":\"Validation Loss\",\"x\":[0,1,2,3,4,5,6,7,8,9],\"y\":[0.09140031784772873,0.06447689235210419,0.052032336592674255,0.05164139345288277,0.04342017322778702,0.04395785555243492,0.03809661790728569,0.0428769551217556,0.03670765087008476,0.039001986384391785],\"type\":\"scatter\",\"xaxis\":\"x\",\"yaxis\":\"y\"},{\"mode\":\"lines\",\"name\":\"Training Accuracy\",\"x\":[0,1,2,3,4,5,6,7,8,9],\"y\":[0.9153273701667786,0.9692261815071106,0.9767261743545532,0.9800893068313599,0.9826487898826599,0.9841964244842529,0.9855654835700989,0.986339271068573,0.9881547689437866,0.9880357384681702],\"type\":\"scatter\",\"xaxis\":\"x2\",\"yaxis\":\"y2\"},{\"mode\":\"lines\",\"name\":\"Validation Accuracy\",\"x\":[0,1,2,3,4,5,6,7,8,9],\"y\":[0.9713095426559448,0.9791666865348816,0.9828571677207947,0.9838095307350159,0.9867857098579407,0.9863095283508301,0.9882143139839172,0.9869047403335571,0.9885714054107666,0.988095223903656],\"type\":\"scatter\",\"xaxis\":\"x2\",\"yaxis\":\"y2\"}],                        {\"template\":{\"data\":{\"histogram2dcontour\":[{\"type\":\"histogram2dcontour\",\"colorbar\":{\"outlinewidth\":0,\"ticks\":\"\"},\"colorscale\":[[0.0,\"#0d0887\"],[0.1111111111111111,\"#46039f\"],[0.2222222222222222,\"#7201a8\"],[0.3333333333333333,\"#9c179e\"],[0.4444444444444444,\"#bd3786\"],[0.5555555555555556,\"#d8576b\"],[0.6666666666666666,\"#ed7953\"],[0.7777777777777778,\"#fb9f3a\"],[0.8888888888888888,\"#fdca26\"],[1.0,\"#f0f921\"]]}],\"choropleth\":[{\"type\":\"choropleth\",\"colorbar\":{\"outlinewidth\":0,\"ticks\":\"\"}}],\"histogram2d\":[{\"type\":\"histogram2d\",\"colorbar\":{\"outlinewidth\":0,\"ticks\":\"\"},\"colorscale\":[[0.0,\"#0d0887\"],[0.1111111111111111,\"#46039f\"],[0.2222222222222222,\"#7201a8\"],[0.3333333333333333,\"#9c179e\"],[0.4444444444444444,\"#bd3786\"],[0.5555555555555556,\"#d8576b\"],[0.6666666666666666,\"#ed7953\"],[0.7777777777777778,\"#fb9f3a\"],[0.8888888888888888,\"#fdca26\"],[1.0,\"#f0f921\"]]}],\"heatmap\":[{\"type\":\"heatmap\",\"colorbar\":{\"outlinewidth\":0,\"ticks\":\"\"},\"colorscale\":[[0.0,\"#0d0887\"],[0.1111111111111111,\"#46039f\"],[0.2222222222222222,\"#7201a8\"],[0.3333333333333333,\"#9c179e\"],[0.4444444444444444,\"#bd3786\"],[0.5555555555555556,\"#d8576b\"],[0.6666666666666666,\"#ed7953\"],[0.7777777777777778,\"#fb9f3a\"],[0.8888888888888888,\"#fdca26\"],[1.0,\"#f0f921\"]]}],\"heatmapgl\":[{\"type\":\"heatmapgl\",\"colorbar\":{\"outlinewidth\":0,\"ticks\":\"\"},\"colorscale\":[[0.0,\"#0d0887\"],[0.1111111111111111,\"#46039f\"],[0.2222222222222222,\"#7201a8\"],[0.3333333333333333,\"#9c179e\"],[0.4444444444444444,\"#bd3786\"],[0.5555555555555556,\"#d8576b\"],[0.6666666666666666,\"#ed7953\"],[0.7777777777777778,\"#fb9f3a\"],[0.8888888888888888,\"#fdca26\"],[1.0,\"#f0f921\"]]}],\"contourcarpet\":[{\"type\":\"contourcarpet\",\"colorbar\":{\"outlinewidth\":0,\"ticks\":\"\"}}],\"contour\":[{\"type\":\"contour\",\"colorbar\":{\"outlinewidth\":0,\"ticks\":\"\"},\"colorscale\":[[0.0,\"#0d0887\"],[0.1111111111111111,\"#46039f\"],[0.2222222222222222,\"#7201a8\"],[0.3333333333333333,\"#9c179e\"],[0.4444444444444444,\"#bd3786\"],[0.5555555555555556,\"#d8576b\"],[0.6666666666666666,\"#ed7953\"],[0.7777777777777778,\"#fb9f3a\"],[0.8888888888888888,\"#fdca26\"],[1.0,\"#f0f921\"]]}],\"surface\":[{\"type\":\"surface\",\"colorbar\":{\"outlinewidth\":0,\"ticks\":\"\"},\"colorscale\":[[0.0,\"#0d0887\"],[0.1111111111111111,\"#46039f\"],[0.2222222222222222,\"#7201a8\"],[0.3333333333333333,\"#9c179e\"],[0.4444444444444444,\"#bd3786\"],[0.5555555555555556,\"#d8576b\"],[0.6666666666666666,\"#ed7953\"],[0.7777777777777778,\"#fb9f3a\"],[0.8888888888888888,\"#fdca26\"],[1.0,\"#f0f921\"]]}],\"mesh3d\":[{\"type\":\"mesh3d\",\"colorbar\":{\"outlinewidth\":0,\"ticks\":\"\"}}],\"scatter\":[{\"fillpattern\":{\"fillmode\":\"overlay\",\"size\":10,\"solidity\":0.2},\"type\":\"scatter\"}],\"parcoords\":[{\"type\":\"parcoords\",\"line\":{\"colorbar\":{\"outlinewidth\":0,\"ticks\":\"\"}}}],\"scatterpolargl\":[{\"type\":\"scatterpolargl\",\"marker\":{\"colorbar\":{\"outlinewidth\":0,\"ticks\":\"\"}}}],\"bar\":[{\"error_x\":{\"color\":\"#2a3f5f\"},\"error_y\":{\"color\":\"#2a3f5f\"},\"marker\":{\"line\":{\"color\":\"#E5ECF6\",\"width\":0.5},\"pattern\":{\"fillmode\":\"overlay\",\"size\":10,\"solidity\":0.2}},\"type\":\"bar\"}],\"scattergeo\":[{\"type\":\"scattergeo\",\"marker\":{\"colorbar\":{\"outlinewidth\":0,\"ticks\":\"\"}}}],\"scatterpolar\":[{\"type\":\"scatterpolar\",\"marker\":{\"colorbar\":{\"outlinewidth\":0,\"ticks\":\"\"}}}],\"histogram\":[{\"marker\":{\"pattern\":{\"fillmode\":\"overlay\",\"size\":10,\"solidity\":0.2}},\"type\":\"histogram\"}],\"scattergl\":[{\"type\":\"scattergl\",\"marker\":{\"colorbar\":{\"outlinewidth\":0,\"ticks\":\"\"}}}],\"scatter3d\":[{\"type\":\"scatter3d\",\"line\":{\"colorbar\":{\"outlinewidth\":0,\"ticks\":\"\"}},\"marker\":{\"colorbar\":{\"outlinewidth\":0,\"ticks\":\"\"}}}],\"scattermapbox\":[{\"type\":\"scattermapbox\",\"marker\":{\"colorbar\":{\"outlinewidth\":0,\"ticks\":\"\"}}}],\"scatterternary\":[{\"type\":\"scatterternary\",\"marker\":{\"colorbar\":{\"outlinewidth\":0,\"ticks\":\"\"}}}],\"scattercarpet\":[{\"type\":\"scattercarpet\",\"marker\":{\"colorbar\":{\"outlinewidth\":0,\"ticks\":\"\"}}}],\"carpet\":[{\"aaxis\":{\"endlinecolor\":\"#2a3f5f\",\"gridcolor\":\"white\",\"linecolor\":\"white\",\"minorgridcolor\":\"white\",\"startlinecolor\":\"#2a3f5f\"},\"baxis\":{\"endlinecolor\":\"#2a3f5f\",\"gridcolor\":\"white\",\"linecolor\":\"white\",\"minorgridcolor\":\"white\",\"startlinecolor\":\"#2a3f5f\"},\"type\":\"carpet\"}],\"table\":[{\"cells\":{\"fill\":{\"color\":\"#EBF0F8\"},\"line\":{\"color\":\"white\"}},\"header\":{\"fill\":{\"color\":\"#C8D4E3\"},\"line\":{\"color\":\"white\"}},\"type\":\"table\"}],\"barpolar\":[{\"marker\":{\"line\":{\"color\":\"#E5ECF6\",\"width\":0.5},\"pattern\":{\"fillmode\":\"overlay\",\"size\":10,\"solidity\":0.2}},\"type\":\"barpolar\"}],\"pie\":[{\"automargin\":true,\"type\":\"pie\"}]},\"layout\":{\"autotypenumbers\":\"strict\",\"colorway\":[\"#636efa\",\"#EF553B\",\"#00cc96\",\"#ab63fa\",\"#FFA15A\",\"#19d3f3\",\"#FF6692\",\"#B6E880\",\"#FF97FF\",\"#FECB52\"],\"font\":{\"color\":\"#2a3f5f\"},\"hovermode\":\"closest\",\"hoverlabel\":{\"align\":\"left\"},\"paper_bgcolor\":\"white\",\"plot_bgcolor\":\"#E5ECF6\",\"polar\":{\"bgcolor\":\"#E5ECF6\",\"angularaxis\":{\"gridcolor\":\"white\",\"linecolor\":\"white\",\"ticks\":\"\"},\"radialaxis\":{\"gridcolor\":\"white\",\"linecolor\":\"white\",\"ticks\":\"\"}},\"ternary\":{\"bgcolor\":\"#E5ECF6\",\"aaxis\":{\"gridcolor\":\"white\",\"linecolor\":\"white\",\"ticks\":\"\"},\"baxis\":{\"gridcolor\":\"white\",\"linecolor\":\"white\",\"ticks\":\"\"},\"caxis\":{\"gridcolor\":\"white\",\"linecolor\":\"white\",\"ticks\":\"\"}},\"coloraxis\":{\"colorbar\":{\"outlinewidth\":0,\"ticks\":\"\"}},\"colorscale\":{\"sequential\":[[0.0,\"#0d0887\"],[0.1111111111111111,\"#46039f\"],[0.2222222222222222,\"#7201a8\"],[0.3333333333333333,\"#9c179e\"],[0.4444444444444444,\"#bd3786\"],[0.5555555555555556,\"#d8576b\"],[0.6666666666666666,\"#ed7953\"],[0.7777777777777778,\"#fb9f3a\"],[0.8888888888888888,\"#fdca26\"],[1.0,\"#f0f921\"]],\"sequentialminus\":[[0.0,\"#0d0887\"],[0.1111111111111111,\"#46039f\"],[0.2222222222222222,\"#7201a8\"],[0.3333333333333333,\"#9c179e\"],[0.4444444444444444,\"#bd3786\"],[0.5555555555555556,\"#d8576b\"],[0.6666666666666666,\"#ed7953\"],[0.7777777777777778,\"#fb9f3a\"],[0.8888888888888888,\"#fdca26\"],[1.0,\"#f0f921\"]],\"diverging\":[[0,\"#8e0152\"],[0.1,\"#c51b7d\"],[0.2,\"#de77ae\"],[0.3,\"#f1b6da\"],[0.4,\"#fde0ef\"],[0.5,\"#f7f7f7\"],[0.6,\"#e6f5d0\"],[0.7,\"#b8e186\"],[0.8,\"#7fbc41\"],[0.9,\"#4d9221\"],[1,\"#276419\"]]},\"xaxis\":{\"gridcolor\":\"white\",\"linecolor\":\"white\",\"ticks\":\"\",\"title\":{\"standoff\":15},\"zerolinecolor\":\"white\",\"automargin\":true,\"zerolinewidth\":2},\"yaxis\":{\"gridcolor\":\"white\",\"linecolor\":\"white\",\"ticks\":\"\",\"title\":{\"standoff\":15},\"zerolinecolor\":\"white\",\"automargin\":true,\"zerolinewidth\":2},\"scene\":{\"xaxis\":{\"backgroundcolor\":\"#E5ECF6\",\"gridcolor\":\"white\",\"linecolor\":\"white\",\"showbackground\":true,\"ticks\":\"\",\"zerolinecolor\":\"white\",\"gridwidth\":2},\"yaxis\":{\"backgroundcolor\":\"#E5ECF6\",\"gridcolor\":\"white\",\"linecolor\":\"white\",\"showbackground\":true,\"ticks\":\"\",\"zerolinecolor\":\"white\",\"gridwidth\":2},\"zaxis\":{\"backgroundcolor\":\"#E5ECF6\",\"gridcolor\":\"white\",\"linecolor\":\"white\",\"showbackground\":true,\"ticks\":\"\",\"zerolinecolor\":\"white\",\"gridwidth\":2}},\"shapedefaults\":{\"line\":{\"color\":\"#2a3f5f\"}},\"annotationdefaults\":{\"arrowcolor\":\"#2a3f5f\",\"arrowhead\":0,\"arrowwidth\":1},\"geo\":{\"bgcolor\":\"white\",\"landcolor\":\"#E5ECF6\",\"subunitcolor\":\"white\",\"showland\":true,\"showlakes\":true,\"lakecolor\":\"white\"},\"title\":{\"x\":0.05},\"mapbox\":{\"style\":\"light\"}}},\"xaxis\":{\"anchor\":\"y\",\"domain\":[0.0,0.45],\"title\":{\"text\":\"Epoch\"}},\"yaxis\":{\"anchor\":\"x\",\"domain\":[0.0,1.0],\"title\":{\"text\":\"Loss\"}},\"xaxis2\":{\"anchor\":\"y2\",\"domain\":[0.55,1.0],\"title\":{\"text\":\"Epoch\"}},\"yaxis2\":{\"anchor\":\"x2\",\"domain\":[0.0,1.0],\"title\":{\"text\":\"Accuracy\"}},\"annotations\":[{\"font\":{\"size\":16},\"showarrow\":false,\"text\":\"Loss Over Epochs\",\"x\":0.225,\"xanchor\":\"center\",\"xref\":\"paper\",\"y\":1.0,\"yanchor\":\"bottom\",\"yref\":\"paper\"},{\"font\":{\"size\":16},\"showarrow\":false,\"text\":\"Accuracy Over Epochs\",\"x\":0.775,\"xanchor\":\"center\",\"xref\":\"paper\",\"y\":1.0,\"yanchor\":\"bottom\",\"yref\":\"paper\"}],\"title\":{\"text\":\"Training Metrics\"},\"showlegend\":true},                        {\"responsive\": true}                    ).then(function(){\n",
       "                            \n",
       "var gd = document.getElementById('c5ae260d-d4c3-4641-9a75-6acacc2969a8');\n",
       "var x = new MutationObserver(function (mutations, observer) {{\n",
       "        var display = window.getComputedStyle(gd).display;\n",
       "        if (!display || display === 'none') {{\n",
       "            console.log([gd, 'removed!']);\n",
       "            Plotly.purge(gd);\n",
       "            observer.disconnect();\n",
       "        }}\n",
       "}});\n",
       "\n",
       "// Listen for the removal of the full notebook cells\n",
       "var notebookContainer = gd.closest('#notebook-container');\n",
       "if (notebookContainer) {{\n",
       "    x.observe(notebookContainer, {childList: true});\n",
       "}}\n",
       "\n",
       "// Listen for the clearing of the current output cell\n",
       "var outputEl = gd.closest('.output');\n",
       "if (outputEl) {{\n",
       "    x.observe(outputEl, {childList: true});\n",
       "}}\n",
       "\n",
       "                        })                };                });            </script>        </div>"
      ]
     },
     "metadata": {},
     "output_type": "display_data"
    }
   ],
   "source": [
    "plot_tensorflow_training_results(history=callback)"
   ]
  },
  {
   "cell_type": "code",
   "execution_count": 7,
   "id": "de46242d",
   "metadata": {
    "execution": {
     "iopub.execute_input": "2024-09-10T05:59:07.289303Z",
     "iopub.status.busy": "2024-09-10T05:59:07.288221Z",
     "iopub.status.idle": "2024-09-10T05:59:12.655330Z",
     "shell.execute_reply": "2024-09-10T05:59:12.654296Z"
    },
    "papermill": {
     "duration": 5.63712,
     "end_time": "2024-09-10T05:59:12.658206",
     "exception": false,
     "start_time": "2024-09-10T05:59:07.021086",
     "status": "completed"
    },
    "tags": []
   },
   "outputs": [
    {
     "name": "stdout",
     "output_type": "stream",
     "text": [
      "\u001b[1m875/875\u001b[0m \u001b[32m━━━━━━━━━━━━━━━━━━━━\u001b[0m\u001b[37m\u001b[0m \u001b[1m5s\u001b[0m 5ms/step\n"
     ]
    }
   ],
   "source": [
    "y_prd = model.predict(x_tst)\n",
    "y_prd_labels = np.argmax(y_prd, axis=1)"
   ]
  },
  {
   "cell_type": "code",
   "execution_count": 8,
   "id": "4ffafa3e",
   "metadata": {
    "execution": {
     "iopub.execute_input": "2024-09-10T05:59:13.214122Z",
     "iopub.status.busy": "2024-09-10T05:59:13.213633Z",
     "iopub.status.idle": "2024-09-10T05:59:13.493954Z",
     "shell.execute_reply": "2024-09-10T05:59:13.492680Z"
    },
    "papermill": {
     "duration": 0.560058,
     "end_time": "2024-09-10T05:59:13.496788",
     "exception": false,
     "start_time": "2024-09-10T05:59:12.936730",
     "status": "completed"
    },
    "tags": []
   },
   "outputs": [],
   "source": [
    "tst_df[\"Label\"] = y_prd_labels\n",
    "tst_df = tst_df.reset_index(names=\"ImageId\")\n",
    "tst_df[\"ImageId\"] += 1\n",
    "tst_df[[\"ImageId\", \"Label\"]].to_csv(\"tensorflow-prediction.csv\", index=False, header=True)"
   ]
  },
  {
   "cell_type": "code",
   "execution_count": 9,
   "id": "e81c2d17",
   "metadata": {
    "execution": {
     "iopub.execute_input": "2024-09-10T05:59:14.046487Z",
     "iopub.status.busy": "2024-09-10T05:59:14.045981Z",
     "iopub.status.idle": "2024-09-10T06:02:41.345348Z",
     "shell.execute_reply": "2024-09-10T06:02:41.344080Z"
    },
    "papermill": {
     "duration": 207.578504,
     "end_time": "2024-09-10T06:02:41.347815",
     "exception": false,
     "start_time": "2024-09-10T05:59:13.769311",
     "status": "completed"
    },
    "tags": []
   },
   "outputs": [
    {
     "name": "stderr",
     "output_type": "stream",
     "text": [
      "1050it [00:18, 57.84it/s]\n"
     ]
    },
    {
     "name": "stdout",
     "output_type": "stream",
     "text": [
      "Epoch 1/10, Train Loss: 1.5582, Train Accuracy: 0.9105, Test Loss: 1.5089, Test Accuracy: 0.9543\n"
     ]
    },
    {
     "name": "stderr",
     "output_type": "stream",
     "text": [
      "1050it [00:17, 59.93it/s]\n"
     ]
    },
    {
     "name": "stdout",
     "output_type": "stream",
     "text": [
      "Epoch 2/10, Train Loss: 1.4919, Train Accuracy: 0.9715, Test Loss: 1.4941, Test Accuracy: 0.9688\n"
     ]
    },
    {
     "name": "stderr",
     "output_type": "stream",
     "text": [
      "1050it [00:18, 56.42it/s]\n"
     ]
    },
    {
     "name": "stdout",
     "output_type": "stream",
     "text": [
      "Epoch 3/10, Train Loss: 1.4838, Train Accuracy: 0.9785, Test Loss: 1.4865, Test Accuracy: 0.9755\n"
     ]
    },
    {
     "name": "stderr",
     "output_type": "stream",
     "text": [
      "1050it [00:17, 58.68it/s]\n"
     ]
    },
    {
     "name": "stdout",
     "output_type": "stream",
     "text": [
      "Epoch 4/10, Train Loss: 1.4805, Train Accuracy: 0.9815, Test Loss: 1.4850, Test Accuracy: 0.9764\n"
     ]
    },
    {
     "name": "stderr",
     "output_type": "stream",
     "text": [
      "1050it [00:17, 59.52it/s]\n"
     ]
    },
    {
     "name": "stdout",
     "output_type": "stream",
     "text": [
      "Epoch 5/10, Train Loss: 1.4772, Train Accuracy: 0.9849, Test Loss: 1.4883, Test Accuracy: 0.9733\n"
     ]
    },
    {
     "name": "stderr",
     "output_type": "stream",
     "text": [
      "1050it [00:18, 56.77it/s]\n"
     ]
    },
    {
     "name": "stdout",
     "output_type": "stream",
     "text": [
      "Epoch 6/10, Train Loss: 1.4763, Train Accuracy: 0.9855, Test Loss: 1.4814, Test Accuracy: 0.9800\n"
     ]
    },
    {
     "name": "stderr",
     "output_type": "stream",
     "text": [
      "1050it [00:17, 59.67it/s]\n"
     ]
    },
    {
     "name": "stdout",
     "output_type": "stream",
     "text": [
      "Epoch 7/10, Train Loss: 1.4740, Train Accuracy: 0.9877, Test Loss: 1.4825, Test Accuracy: 0.9789\n"
     ]
    },
    {
     "name": "stderr",
     "output_type": "stream",
     "text": [
      "1050it [00:18, 57.09it/s]\n"
     ]
    },
    {
     "name": "stdout",
     "output_type": "stream",
     "text": [
      "Epoch 8/10, Train Loss: 1.4726, Train Accuracy: 0.9890, Test Loss: 1.4774, Test Accuracy: 0.9843\n"
     ]
    },
    {
     "name": "stderr",
     "output_type": "stream",
     "text": [
      "1050it [00:18, 56.65it/s]\n"
     ]
    },
    {
     "name": "stdout",
     "output_type": "stream",
     "text": [
      "Epoch 9/10, Train Loss: 1.4715, Train Accuracy: 0.9900, Test Loss: 1.4815, Test Accuracy: 0.9804\n"
     ]
    },
    {
     "name": "stderr",
     "output_type": "stream",
     "text": [
      "1050it [00:17, 59.52it/s]\n"
     ]
    },
    {
     "name": "stdout",
     "output_type": "stream",
     "text": [
      "Epoch 10/10, Train Loss: 1.4700, Train Accuracy: 0.9915, Test Loss: 1.4802, Test Accuracy: 0.9810\n"
     ]
    },
    {
     "data": {
      "text/html": [
       "<div>                            <div id=\"3708da21-5b16-424b-891b-8a60bec5a1dd\" class=\"plotly-graph-div\" style=\"height:525px; width:100%;\"></div>            <script type=\"text/javascript\">                require([\"plotly\"], function(Plotly) {                    window.PLOTLYENV=window.PLOTLYENV || {};                                    if (document.getElementById(\"3708da21-5b16-424b-891b-8a60bec5a1dd\")) {                    Plotly.newPlot(                        \"3708da21-5b16-424b-891b-8a60bec5a1dd\",                        [{\"mode\":\"lines\",\"name\":\"Training Loss\",\"x\":[0,1,2,3,4,5,6,7,8,9],\"y\":[1.5582120263008845,1.4918624802998135,1.4838243120057242,1.4805008561270578,1.477224871204013,1.4762526405425298,1.4740153511365255,1.47264334213166,1.4714659025555565,1.469979906876882],\"type\":\"scatter\",\"xaxis\":\"x\",\"yaxis\":\"y\"},{\"mode\":\"lines\",\"name\":\"Validation Loss\",\"x\":[0,1,2,3,4,5,6,7,8,9],\"y\":[1.5088526599760745,1.4940918076627607,1.4864974484244227,1.4849659666815638,1.488336786571111,1.481359734734655,1.482477230717474,1.4774385794940557,1.481494402250863,1.480200684569181],\"type\":\"scatter\",\"xaxis\":\"x\",\"yaxis\":\"y\"},{\"mode\":\"lines\",\"name\":\"Training Accuracy\",\"x\":[0,1,2,3,4,5,6,7,8,9],\"y\":[0.9105059523809523,0.9715178571428571,0.9785119047619047,0.9815178571428571,0.9848809523809524,0.9855059523809524,0.9876785714285714,0.9889583333333334,0.9899702380952381,0.991547619047619],\"type\":\"scatter\",\"xaxis\":\"x2\",\"yaxis\":\"y2\"},{\"mode\":\"lines\",\"name\":\"Validation Accuracy\",\"x\":[0,1,2,3,4,5,6,7,8,9],\"y\":[0.9542857142857143,0.9688095238095238,0.9754761904761905,0.9764285714285714,0.9733333333333334,0.98,0.9789285714285715,0.9842857142857143,0.9803571428571428,0.9809523809523809],\"type\":\"scatter\",\"xaxis\":\"x2\",\"yaxis\":\"y2\"}],                        {\"template\":{\"data\":{\"histogram2dcontour\":[{\"type\":\"histogram2dcontour\",\"colorbar\":{\"outlinewidth\":0,\"ticks\":\"\"},\"colorscale\":[[0.0,\"#0d0887\"],[0.1111111111111111,\"#46039f\"],[0.2222222222222222,\"#7201a8\"],[0.3333333333333333,\"#9c179e\"],[0.4444444444444444,\"#bd3786\"],[0.5555555555555556,\"#d8576b\"],[0.6666666666666666,\"#ed7953\"],[0.7777777777777778,\"#fb9f3a\"],[0.8888888888888888,\"#fdca26\"],[1.0,\"#f0f921\"]]}],\"choropleth\":[{\"type\":\"choropleth\",\"colorbar\":{\"outlinewidth\":0,\"ticks\":\"\"}}],\"histogram2d\":[{\"type\":\"histogram2d\",\"colorbar\":{\"outlinewidth\":0,\"ticks\":\"\"},\"colorscale\":[[0.0,\"#0d0887\"],[0.1111111111111111,\"#46039f\"],[0.2222222222222222,\"#7201a8\"],[0.3333333333333333,\"#9c179e\"],[0.4444444444444444,\"#bd3786\"],[0.5555555555555556,\"#d8576b\"],[0.6666666666666666,\"#ed7953\"],[0.7777777777777778,\"#fb9f3a\"],[0.8888888888888888,\"#fdca26\"],[1.0,\"#f0f921\"]]}],\"heatmap\":[{\"type\":\"heatmap\",\"colorbar\":{\"outlinewidth\":0,\"ticks\":\"\"},\"colorscale\":[[0.0,\"#0d0887\"],[0.1111111111111111,\"#46039f\"],[0.2222222222222222,\"#7201a8\"],[0.3333333333333333,\"#9c179e\"],[0.4444444444444444,\"#bd3786\"],[0.5555555555555556,\"#d8576b\"],[0.6666666666666666,\"#ed7953\"],[0.7777777777777778,\"#fb9f3a\"],[0.8888888888888888,\"#fdca26\"],[1.0,\"#f0f921\"]]}],\"heatmapgl\":[{\"type\":\"heatmapgl\",\"colorbar\":{\"outlinewidth\":0,\"ticks\":\"\"},\"colorscale\":[[0.0,\"#0d0887\"],[0.1111111111111111,\"#46039f\"],[0.2222222222222222,\"#7201a8\"],[0.3333333333333333,\"#9c179e\"],[0.4444444444444444,\"#bd3786\"],[0.5555555555555556,\"#d8576b\"],[0.6666666666666666,\"#ed7953\"],[0.7777777777777778,\"#fb9f3a\"],[0.8888888888888888,\"#fdca26\"],[1.0,\"#f0f921\"]]}],\"contourcarpet\":[{\"type\":\"contourcarpet\",\"colorbar\":{\"outlinewidth\":0,\"ticks\":\"\"}}],\"contour\":[{\"type\":\"contour\",\"colorbar\":{\"outlinewidth\":0,\"ticks\":\"\"},\"colorscale\":[[0.0,\"#0d0887\"],[0.1111111111111111,\"#46039f\"],[0.2222222222222222,\"#7201a8\"],[0.3333333333333333,\"#9c179e\"],[0.4444444444444444,\"#bd3786\"],[0.5555555555555556,\"#d8576b\"],[0.6666666666666666,\"#ed7953\"],[0.7777777777777778,\"#fb9f3a\"],[0.8888888888888888,\"#fdca26\"],[1.0,\"#f0f921\"]]}],\"surface\":[{\"type\":\"surface\",\"colorbar\":{\"outlinewidth\":0,\"ticks\":\"\"},\"colorscale\":[[0.0,\"#0d0887\"],[0.1111111111111111,\"#46039f\"],[0.2222222222222222,\"#7201a8\"],[0.3333333333333333,\"#9c179e\"],[0.4444444444444444,\"#bd3786\"],[0.5555555555555556,\"#d8576b\"],[0.6666666666666666,\"#ed7953\"],[0.7777777777777778,\"#fb9f3a\"],[0.8888888888888888,\"#fdca26\"],[1.0,\"#f0f921\"]]}],\"mesh3d\":[{\"type\":\"mesh3d\",\"colorbar\":{\"outlinewidth\":0,\"ticks\":\"\"}}],\"scatter\":[{\"fillpattern\":{\"fillmode\":\"overlay\",\"size\":10,\"solidity\":0.2},\"type\":\"scatter\"}],\"parcoords\":[{\"type\":\"parcoords\",\"line\":{\"colorbar\":{\"outlinewidth\":0,\"ticks\":\"\"}}}],\"scatterpolargl\":[{\"type\":\"scatterpolargl\",\"marker\":{\"colorbar\":{\"outlinewidth\":0,\"ticks\":\"\"}}}],\"bar\":[{\"error_x\":{\"color\":\"#2a3f5f\"},\"error_y\":{\"color\":\"#2a3f5f\"},\"marker\":{\"line\":{\"color\":\"#E5ECF6\",\"width\":0.5},\"pattern\":{\"fillmode\":\"overlay\",\"size\":10,\"solidity\":0.2}},\"type\":\"bar\"}],\"scattergeo\":[{\"type\":\"scattergeo\",\"marker\":{\"colorbar\":{\"outlinewidth\":0,\"ticks\":\"\"}}}],\"scatterpolar\":[{\"type\":\"scatterpolar\",\"marker\":{\"colorbar\":{\"outlinewidth\":0,\"ticks\":\"\"}}}],\"histogram\":[{\"marker\":{\"pattern\":{\"fillmode\":\"overlay\",\"size\":10,\"solidity\":0.2}},\"type\":\"histogram\"}],\"scattergl\":[{\"type\":\"scattergl\",\"marker\":{\"colorbar\":{\"outlinewidth\":0,\"ticks\":\"\"}}}],\"scatter3d\":[{\"type\":\"scatter3d\",\"line\":{\"colorbar\":{\"outlinewidth\":0,\"ticks\":\"\"}},\"marker\":{\"colorbar\":{\"outlinewidth\":0,\"ticks\":\"\"}}}],\"scattermapbox\":[{\"type\":\"scattermapbox\",\"marker\":{\"colorbar\":{\"outlinewidth\":0,\"ticks\":\"\"}}}],\"scatterternary\":[{\"type\":\"scatterternary\",\"marker\":{\"colorbar\":{\"outlinewidth\":0,\"ticks\":\"\"}}}],\"scattercarpet\":[{\"type\":\"scattercarpet\",\"marker\":{\"colorbar\":{\"outlinewidth\":0,\"ticks\":\"\"}}}],\"carpet\":[{\"aaxis\":{\"endlinecolor\":\"#2a3f5f\",\"gridcolor\":\"white\",\"linecolor\":\"white\",\"minorgridcolor\":\"white\",\"startlinecolor\":\"#2a3f5f\"},\"baxis\":{\"endlinecolor\":\"#2a3f5f\",\"gridcolor\":\"white\",\"linecolor\":\"white\",\"minorgridcolor\":\"white\",\"startlinecolor\":\"#2a3f5f\"},\"type\":\"carpet\"}],\"table\":[{\"cells\":{\"fill\":{\"color\":\"#EBF0F8\"},\"line\":{\"color\":\"white\"}},\"header\":{\"fill\":{\"color\":\"#C8D4E3\"},\"line\":{\"color\":\"white\"}},\"type\":\"table\"}],\"barpolar\":[{\"marker\":{\"line\":{\"color\":\"#E5ECF6\",\"width\":0.5},\"pattern\":{\"fillmode\":\"overlay\",\"size\":10,\"solidity\":0.2}},\"type\":\"barpolar\"}],\"pie\":[{\"automargin\":true,\"type\":\"pie\"}]},\"layout\":{\"autotypenumbers\":\"strict\",\"colorway\":[\"#636efa\",\"#EF553B\",\"#00cc96\",\"#ab63fa\",\"#FFA15A\",\"#19d3f3\",\"#FF6692\",\"#B6E880\",\"#FF97FF\",\"#FECB52\"],\"font\":{\"color\":\"#2a3f5f\"},\"hovermode\":\"closest\",\"hoverlabel\":{\"align\":\"left\"},\"paper_bgcolor\":\"white\",\"plot_bgcolor\":\"#E5ECF6\",\"polar\":{\"bgcolor\":\"#E5ECF6\",\"angularaxis\":{\"gridcolor\":\"white\",\"linecolor\":\"white\",\"ticks\":\"\"},\"radialaxis\":{\"gridcolor\":\"white\",\"linecolor\":\"white\",\"ticks\":\"\"}},\"ternary\":{\"bgcolor\":\"#E5ECF6\",\"aaxis\":{\"gridcolor\":\"white\",\"linecolor\":\"white\",\"ticks\":\"\"},\"baxis\":{\"gridcolor\":\"white\",\"linecolor\":\"white\",\"ticks\":\"\"},\"caxis\":{\"gridcolor\":\"white\",\"linecolor\":\"white\",\"ticks\":\"\"}},\"coloraxis\":{\"colorbar\":{\"outlinewidth\":0,\"ticks\":\"\"}},\"colorscale\":{\"sequential\":[[0.0,\"#0d0887\"],[0.1111111111111111,\"#46039f\"],[0.2222222222222222,\"#7201a8\"],[0.3333333333333333,\"#9c179e\"],[0.4444444444444444,\"#bd3786\"],[0.5555555555555556,\"#d8576b\"],[0.6666666666666666,\"#ed7953\"],[0.7777777777777778,\"#fb9f3a\"],[0.8888888888888888,\"#fdca26\"],[1.0,\"#f0f921\"]],\"sequentialminus\":[[0.0,\"#0d0887\"],[0.1111111111111111,\"#46039f\"],[0.2222222222222222,\"#7201a8\"],[0.3333333333333333,\"#9c179e\"],[0.4444444444444444,\"#bd3786\"],[0.5555555555555556,\"#d8576b\"],[0.6666666666666666,\"#ed7953\"],[0.7777777777777778,\"#fb9f3a\"],[0.8888888888888888,\"#fdca26\"],[1.0,\"#f0f921\"]],\"diverging\":[[0,\"#8e0152\"],[0.1,\"#c51b7d\"],[0.2,\"#de77ae\"],[0.3,\"#f1b6da\"],[0.4,\"#fde0ef\"],[0.5,\"#f7f7f7\"],[0.6,\"#e6f5d0\"],[0.7,\"#b8e186\"],[0.8,\"#7fbc41\"],[0.9,\"#4d9221\"],[1,\"#276419\"]]},\"xaxis\":{\"gridcolor\":\"white\",\"linecolor\":\"white\",\"ticks\":\"\",\"title\":{\"standoff\":15},\"zerolinecolor\":\"white\",\"automargin\":true,\"zerolinewidth\":2},\"yaxis\":{\"gridcolor\":\"white\",\"linecolor\":\"white\",\"ticks\":\"\",\"title\":{\"standoff\":15},\"zerolinecolor\":\"white\",\"automargin\":true,\"zerolinewidth\":2},\"scene\":{\"xaxis\":{\"backgroundcolor\":\"#E5ECF6\",\"gridcolor\":\"white\",\"linecolor\":\"white\",\"showbackground\":true,\"ticks\":\"\",\"zerolinecolor\":\"white\",\"gridwidth\":2},\"yaxis\":{\"backgroundcolor\":\"#E5ECF6\",\"gridcolor\":\"white\",\"linecolor\":\"white\",\"showbackground\":true,\"ticks\":\"\",\"zerolinecolor\":\"white\",\"gridwidth\":2},\"zaxis\":{\"backgroundcolor\":\"#E5ECF6\",\"gridcolor\":\"white\",\"linecolor\":\"white\",\"showbackground\":true,\"ticks\":\"\",\"zerolinecolor\":\"white\",\"gridwidth\":2}},\"shapedefaults\":{\"line\":{\"color\":\"#2a3f5f\"}},\"annotationdefaults\":{\"arrowcolor\":\"#2a3f5f\",\"arrowhead\":0,\"arrowwidth\":1},\"geo\":{\"bgcolor\":\"white\",\"landcolor\":\"#E5ECF6\",\"subunitcolor\":\"white\",\"showland\":true,\"showlakes\":true,\"lakecolor\":\"white\"},\"title\":{\"x\":0.05},\"mapbox\":{\"style\":\"light\"}}},\"xaxis\":{\"anchor\":\"y\",\"domain\":[0.0,0.45],\"title\":{\"text\":\"Epoch\"}},\"yaxis\":{\"anchor\":\"x\",\"domain\":[0.0,1.0],\"title\":{\"text\":\"Loss\"}},\"xaxis2\":{\"anchor\":\"y2\",\"domain\":[0.55,1.0],\"title\":{\"text\":\"Epoch\"}},\"yaxis2\":{\"anchor\":\"x2\",\"domain\":[0.0,1.0],\"title\":{\"text\":\"Accuracy\"}},\"annotations\":[{\"font\":{\"size\":16},\"showarrow\":false,\"text\":\"Loss Over Epochs\",\"x\":0.225,\"xanchor\":\"center\",\"xref\":\"paper\",\"y\":1.0,\"yanchor\":\"bottom\",\"yref\":\"paper\"},{\"font\":{\"size\":16},\"showarrow\":false,\"text\":\"Accuracy Over Epochs\",\"x\":0.775,\"xanchor\":\"center\",\"xref\":\"paper\",\"y\":1.0,\"yanchor\":\"bottom\",\"yref\":\"paper\"}],\"title\":{\"text\":\"Training Metrics\"},\"showlegend\":true},                        {\"responsive\": true}                    ).then(function(){\n",
       "                            \n",
       "var gd = document.getElementById('3708da21-5b16-424b-891b-8a60bec5a1dd');\n",
       "var x = new MutationObserver(function (mutations, observer) {{\n",
       "        var display = window.getComputedStyle(gd).display;\n",
       "        if (!display || display === 'none') {{\n",
       "            console.log([gd, 'removed!']);\n",
       "            Plotly.purge(gd);\n",
       "            observer.disconnect();\n",
       "        }}\n",
       "}});\n",
       "\n",
       "// Listen for the removal of the full notebook cells\n",
       "var notebookContainer = gd.closest('#notebook-container');\n",
       "if (notebookContainer) {{\n",
       "    x.observe(notebookContainer, {childList: true});\n",
       "}}\n",
       "\n",
       "// Listen for the clearing of the current output cell\n",
       "var outputEl = gd.closest('.output');\n",
       "if (outputEl) {{\n",
       "    x.observe(outputEl, {childList: true});\n",
       "}}\n",
       "\n",
       "                        })                };                });            </script>        </div>"
      ]
     },
     "metadata": {},
     "output_type": "display_data"
    }
   ],
   "source": [
    "# 1. Importing the necessary libraries.\n",
    "import os\n",
    "import torch\n",
    "import torchvision\n",
    "import torch.nn.functional as F\n",
    "from tqdm import tqdm\n",
    "import torch.nn as nn\n",
    "import matplotlib.pyplot as plt\n",
    "import plotly.graph_objects as go\n",
    "from plotly.subplots import make_subplots\n",
    "\n",
    "\n",
    "class NumpyDataset(torch.utils.data.Dataset):\n",
    "    def __init__(self, data, labels=None, train=True):\n",
    "        self.data = torch.from_numpy(data).float()\n",
    "        if train:\n",
    "            self.labels = torch.from_numpy(labels).long()\n",
    "\n",
    "        self.train = train\n",
    "\n",
    "    def __len__(self):\n",
    "        return len(self.data)\n",
    "\n",
    "    def __getitem__(self, idx):\n",
    "        sample = self.data[idx]\n",
    "        if self.train:\n",
    "            return sample, self.labels[idx]\n",
    "        return sample\n",
    "\n",
    "x_trn = np.expand_dims(np.squeeze(x_trn, axis=-1), axis=1)    \n",
    "x_val = np.expand_dims(np.squeeze(x_val, axis=-1), axis=1)\n",
    "x_tst = np.expand_dims(np.squeeze(x_tst, axis=-1), axis=1)\n",
    "\n",
    "# 3. Loading the dataset.\n",
    "mnist_dataset_trn = NumpyDataset(data=x_trn, labels=y_trn, train=True)\n",
    "mnist_dataset_val = NumpyDataset(data=x_val, labels=y_val, train=True)\n",
    "mnist_dataset_tst = NumpyDataset(data=x_tst, labels=None,  train=False)\n",
    "\n",
    "# 4. Preprocessing the data to make it suitable for training.\n",
    "trn_loader = torch.utils.data.DataLoader(\n",
    "    dataset=mnist_dataset_trn, \n",
    "    batch_size=batch_size, \n",
    "    shuffle=True)\n",
    "val_loader = torch.utils.data.DataLoader(\n",
    "    dataset=mnist_dataset_val, \n",
    "    batch_size=batch_size, \n",
    "    shuffle=True)\n",
    "tst_loader = torch.utils.data.DataLoader(\n",
    "    dataset=mnist_dataset_tst, \n",
    "    batch_size=batch_size, \n",
    "    shuffle=False)\n",
    "\n",
    "# 5. Initializing the model architecture.\n",
    "class CNN(nn.Module):\n",
    "    def __init__(self):\n",
    "        super(CNN, self).__init__()\n",
    "        self.conv1 = nn.Conv2d(1, kernels_layer_1, kernel_size=3)\n",
    "        self.conv2 = nn.Conv2d(kernels_layer_1, kernels_layer_2, kernel_size=3)\n",
    "        self.fc = nn.Linear(5*5*64, n_classes)\n",
    "\n",
    "    def forward(self, x):\n",
    "        x = F.relu(F.max_pool2d(self.conv1(x), 2))\n",
    "        x = F.relu(F.max_pool2d(self.conv2(x), 2))\n",
    "        x = x.view(-1,5*5*64 )\n",
    "        return F.softmax(self.fc(x), dim=1)\n",
    "\n",
    "model = CNN()\n",
    "optimizer = torch.optim.Adam(model.parameters(), lr=learning_rate)\n",
    "loss_function = nn.CrossEntropyLoss()\n",
    "\n",
    "# Tracking metrics\n",
    "train_losses = []\n",
    "test_losses = []\n",
    "train_accuracies = []\n",
    "test_accuracies = []\n",
    "\n",
    "# 6. Training the model using the defined parameters and dataset.\n",
    "for epoch in range(n_epochs):\n",
    "    model.train()\n",
    "    running_loss = 0\n",
    "    correct_train = 0\n",
    "    total_train = 0\n",
    "\n",
    "    for batch_idx, (x_trn_batch, y_trn_batch) in tqdm(enumerate(trn_loader)):\n",
    "        optimizer.zero_grad()\n",
    "        y_pred_batch = model(x_trn_batch)\n",
    "        loss = loss_function(y_pred_batch, y_trn_batch)\n",
    "        loss.backward()\n",
    "        optimizer.step()\n",
    "\n",
    "        running_loss += loss.item()\n",
    "        _, predicted = torch.max(y_pred_batch, 1)\n",
    "        correct_train += (predicted == y_trn_batch).sum().item()\n",
    "        total_train += y_trn_batch.size(0)\n",
    "\n",
    "    train_losses.append(running_loss / len(trn_loader))\n",
    "    train_accuracies.append(correct_train / len(x_trn))\n",
    "\n",
    "    model.eval()\n",
    "    test_loss = 0\n",
    "    correct_test = 0\n",
    "    total_test = 0\n",
    "\n",
    "    with torch.no_grad():\n",
    "        for x_val_batch, y_val_batch in val_loader:\n",
    "            y_pred_batch = model(x_val_batch)\n",
    "            loss = loss_function(y_pred_batch, y_val_batch)\n",
    "            test_loss += loss.item()\n",
    "            _, predicted = torch.max(y_pred_batch, 1)\n",
    "            correct_test += (predicted == y_val_batch).sum().item()\n",
    "            total_test += y_val_batch.size(0)\n",
    "\n",
    "    test_losses.append(test_loss / len(val_loader))\n",
    "    test_accuracies.append(correct_test / len(x_val))\n",
    "\n",
    "    print(f'Epoch {epoch+1}/{n_epochs}, Train Loss: {train_losses[-1]:.4f}, Train Accuracy: {train_accuracies[-1]:.4f}, Test Loss: {test_losses[-1]:.4f}, Test Accuracy: {test_accuracies[-1]:.4f}')\n",
    "\n",
    "\n",
    "plot_pytorch_training_results(n_epochs, train_losses, test_losses, train_accuracies, test_accuracies)"
   ]
  },
  {
   "cell_type": "code",
   "execution_count": 10,
   "id": "bf367a62",
   "metadata": {
    "execution": {
     "iopub.execute_input": "2024-09-10T06:02:42.262184Z",
     "iopub.status.busy": "2024-09-10T06:02:42.261396Z",
     "iopub.status.idle": "2024-09-10T06:02:46.068037Z",
     "shell.execute_reply": "2024-09-10T06:02:46.066716Z"
    },
    "papermill": {
     "duration": 4.297115,
     "end_time": "2024-09-10T06:02:46.071068",
     "exception": false,
     "start_time": "2024-09-10T06:02:41.773953",
     "status": "completed"
    },
    "tags": []
   },
   "outputs": [],
   "source": [
    "y_pred_tot = []\n",
    "with torch.no_grad():\n",
    "    for x_tst_batch in tst_loader:\n",
    "        y_pred_batch = model(x_val_batch)\n",
    "        _, pred = torch.max(y_pred_batch, 1)\n",
    "        y_pred_tot += list(pred.numpy())"
   ]
  },
  {
   "cell_type": "code",
   "execution_count": 11,
   "id": "b973e1fe",
   "metadata": {
    "execution": {
     "iopub.execute_input": "2024-09-10T06:02:46.928477Z",
     "iopub.status.busy": "2024-09-10T06:02:46.928013Z",
     "iopub.status.idle": "2024-09-10T06:02:46.972956Z",
     "shell.execute_reply": "2024-09-10T06:02:46.971710Z"
    },
    "papermill": {
     "duration": 0.475949,
     "end_time": "2024-09-10T06:02:46.975857",
     "exception": false,
     "start_time": "2024-09-10T06:02:46.499908",
     "status": "completed"
    },
    "tags": []
   },
   "outputs": [],
   "source": [
    "tst_df[\"Label\"] = y_prd_labels\n",
    "tst_df[[\"ImageId\", \"Label\"]].to_csv(\"pytorch-prediction.csv\", index=False, header=True)"
   ]
  }
 ],
 "metadata": {
  "kaggle": {
   "accelerator": "none",
   "dataSources": [
    {
     "databundleVersionId": 861823,
     "sourceId": 3004,
     "sourceType": "competition"
    }
   ],
   "dockerImageVersionId": 30761,
   "isGpuEnabled": false,
   "isInternetEnabled": false,
   "language": "python",
   "sourceType": "notebook"
  },
  "kernelspec": {
   "display_name": "Python 3",
   "language": "python",
   "name": "python3"
  },
  "language_info": {
   "codemirror_mode": {
    "name": "ipython",
    "version": 3
   },
   "file_extension": ".py",
   "mimetype": "text/x-python",
   "name": "python",
   "nbconvert_exporter": "python",
   "pygments_lexer": "ipython3",
   "version": "3.10.14"
  },
  "papermill": {
   "default_parameters": {},
   "duration": 431.828306,
   "end_time": "2024-09-10T06:02:50.540602",
   "environment_variables": {},
   "exception": null,
   "input_path": "__notebook__.ipynb",
   "output_path": "__notebook__.ipynb",
   "parameters": {},
   "start_time": "2024-09-10T05:55:38.712296",
   "version": "2.6.0"
  }
 },
 "nbformat": 4,
 "nbformat_minor": 5
}
