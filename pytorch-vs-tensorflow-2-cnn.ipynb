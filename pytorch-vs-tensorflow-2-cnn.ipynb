{
 "cells": [
  {
   "cell_type": "markdown",
   "id": "2257efa6",
   "metadata": {
    "_cell_guid": "b1076dfc-b9ad-4769-8c92-a6c4dae69d19",
    "_uuid": "8f2839f25d086af736a60e9eeb907d3b93b6e0e5",
    "papermill": {
     "duration": 0.004685,
     "end_time": "2024-09-09T06:23:06.070988",
     "exception": false,
     "start_time": "2024-09-09T06:23:06.066303",
     "status": "completed"
    },
    "tags": []
   },
   "source": [
    "# Pytorch vs Tensorflow - CNN\n",
    "\n",
    "Choosing Pytorch vs Tensorflow, which should you use? Which is better and what are the differences between these two frameworks both made for deep learning. Well in this series I am going to compare them side by side so you could see the differences and simliarities clearly, in code with crips examples.\n",
    "\n",
    "Also, when I switched from Tensorflow to pytorch, I just wished I had a \"**Rosetta Stone**\" to translate between frameworks, which I hope this series will be for you. A nice overview that practitioners to leverage the strengths of both libraries.\n",
    "\n",
    "## In this notebook\n",
    "In the first notebook of this series, I will start with the basics by creating a simple Convolutional Neural Network (CNN) in both PyTorch and TensorFlow. We will train this so called CNN on the MNIST dataset, which consists of handwritten digit images, to illustrate fundamental concepts and workflows in each framework. This foundational exercise will set the stage for more complex models and comparisons in subsequent notebooks.\n",
    "\n",
    "For both PyTorch and TensorFlow, the steps for training a model are essentially the same:\n",
    "\n",
    "1. Importing the necessary libraries.\n",
    "2. Defining the model parameters and hyperparameters.\n",
    "3. Loading the dataset.\n",
    "4. Preprocessing the data to make it suitable for training.\n",
    "5. Initializing the model architecture.\n",
    "6. Training the model using the defined parameters and dataset.\n",
    "\n",
    "These steps form the core workflow in building and training deep learning models, regardless of the framework used."
   ]
  },
  {
   "cell_type": "code",
   "execution_count": 1,
   "id": "0aa93f82",
   "metadata": {
    "execution": {
     "iopub.execute_input": "2024-09-09T06:23:06.081055Z",
     "iopub.status.busy": "2024-09-09T06:23:06.080586Z",
     "iopub.status.idle": "2024-09-09T06:23:06.911978Z",
     "shell.execute_reply": "2024-09-09T06:23:06.910916Z"
    },
    "papermill": {
     "duration": 0.839689,
     "end_time": "2024-09-09T06:23:06.914830",
     "exception": false,
     "start_time": "2024-09-09T06:23:06.075141",
     "status": "completed"
    },
    "tags": []
   },
   "outputs": [],
   "source": [
    "import numpy as np\n",
    "import pandas as pd"
   ]
  },
  {
   "cell_type": "code",
   "execution_count": 2,
   "id": "83fba774",
   "metadata": {
    "execution": {
     "iopub.execute_input": "2024-09-09T06:23:06.925603Z",
     "iopub.status.busy": "2024-09-09T06:23:06.925042Z",
     "iopub.status.idle": "2024-09-09T06:23:07.080478Z",
     "shell.execute_reply": "2024-09-09T06:23:07.079318Z"
    },
    "papermill": {
     "duration": 0.163715,
     "end_time": "2024-09-09T06:23:07.083205",
     "exception": false,
     "start_time": "2024-09-09T06:23:06.919490",
     "status": "completed"
    },
    "tags": []
   },
   "outputs": [],
   "source": [
    "import plotly.graph_objects as go\n",
    "from plotly.subplots import make_subplots\n",
    "\n",
    "# Plotting the training metrics with Plotly\n",
    "def plot_tensorflow_training_results(history):\n",
    "    fig = make_subplots(rows=1, cols=2, subplot_titles=(\"Loss Over Epochs\", \"Accuracy Over Epochs\"))\n",
    "\n",
    "    # Loss plot\n",
    "    fig.add_trace(go.Scatter(x=list(range(len(history.history['loss']))),\n",
    "                             y=history.history['loss'],\n",
    "                             mode='lines',\n",
    "                             name='Training Loss'),\n",
    "                  row=1, col=1)\n",
    "    fig.add_trace(go.Scatter(x=list(range(len(history.history['val_loss']))),\n",
    "                             y=history.history['val_loss'],\n",
    "                             mode='lines',\n",
    "                             name='Validation Loss'),\n",
    "                  row=1, col=1)\n",
    "\n",
    "    # Accuracy plot\n",
    "    fig.add_trace(go.Scatter(x=list(range(len(history.history['accuracy']))),\n",
    "                             y=history.history['accuracy'],\n",
    "                             mode='lines',\n",
    "                             name='Training Accuracy'),\n",
    "                  row=1, col=2)\n",
    "    fig.add_trace(go.Scatter(x=list(range(len(history.history['val_accuracy']))),\n",
    "                             y=history.history['val_accuracy'],\n",
    "                             mode='lines',\n",
    "                             name='Validation Accuracy'),\n",
    "                  row=1, col=2)\n",
    "\n",
    "    # Updating layout\n",
    "    fig.update_layout(title='Training Metrics',\n",
    "                      xaxis_title='Epoch',\n",
    "                      yaxis_title='Value',\n",
    "                      showlegend=True)\n",
    "\n",
    "    # Update xaxis labels\n",
    "    fig.update_xaxes(title_text='Epoch', row=1, col=1)\n",
    "    fig.update_xaxes(title_text='Epoch', row=1, col=2)\n",
    "\n",
    "    # Update yaxis labels\n",
    "    fig.update_yaxes(title_text='Loss', row=1, col=1)\n",
    "    fig.update_yaxes(title_text='Accuracy', row=1, col=2)\n",
    "\n",
    "    fig.show()\n",
    "    "
   ]
  },
  {
   "cell_type": "code",
   "execution_count": 3,
   "id": "3a5dd6df",
   "metadata": {
    "execution": {
     "iopub.execute_input": "2024-09-09T06:23:07.093739Z",
     "iopub.status.busy": "2024-09-09T06:23:07.092677Z",
     "iopub.status.idle": "2024-09-09T06:23:07.103210Z",
     "shell.execute_reply": "2024-09-09T06:23:07.101922Z"
    },
    "papermill": {
     "duration": 0.018336,
     "end_time": "2024-09-09T06:23:07.105617",
     "exception": false,
     "start_time": "2024-09-09T06:23:07.087281",
     "status": "completed"
    },
    "tags": []
   },
   "outputs": [],
   "source": [
    "import plotly.graph_objects as go\n",
    "from plotly.subplots import make_subplots\n",
    "\n",
    "def plot_pytorch_training_results(n_epochs, train_losses, test_losses, train_accuracies, test_accuracies):\n",
    "    # Plotting the training metrics with Plotly\n",
    "    fig = make_subplots(rows=1, cols=2, subplot_titles=(\"Loss Over Epochs\", \"Accuracy Over Epochs\"))\n",
    "\n",
    "    # Loss plot\n",
    "    fig.add_trace(go.Scatter(x=list(range(n_epochs)), y=train_losses, mode='lines', name='Training Loss'), row=1, col=1)\n",
    "    fig.add_trace(go.Scatter(x=list(range(n_epochs)), y=test_losses, mode='lines', name='Validation Loss'), row=1, col=1)\n",
    "\n",
    "    # Accuracy plot\n",
    "    fig.add_trace(go.Scatter(x=list(range(n_epochs)), y=train_accuracies, mode='lines', name='Training Accuracy'), row=1, col=2)\n",
    "    fig.add_trace(go.Scatter(x=list(range(n_epochs)), y=test_accuracies, mode='lines', name='Validation Accuracy'), row=1, col=2)\n",
    "\n",
    "    # Updating layout\n",
    "    fig.update_layout(title='Training Metrics', xaxis_title='Epoch', yaxis_title='Value', showlegend=True)\n",
    "\n",
    "    # Update xaxis labels\n",
    "    fig.update_xaxes(title_text='Epoch', row=1, col=1)\n",
    "    fig.update_xaxes(title_text='Epoch', row=1, col=2)\n",
    "\n",
    "    # Update yaxis labels\n",
    "    fig.update_yaxes(title_text='Loss', row=1, col=1)\n",
    "    fig.update_yaxes(title_text='Accuracy', row=1, col=2)\n",
    "\n",
    "    fig.show()"
   ]
  },
  {
   "cell_type": "code",
   "execution_count": 4,
   "id": "d80fdfcc",
   "metadata": {
    "execution": {
     "iopub.execute_input": "2024-09-09T06:23:07.115275Z",
     "iopub.status.busy": "2024-09-09T06:23:07.114862Z",
     "iopub.status.idle": "2024-09-09T06:23:13.740641Z",
     "shell.execute_reply": "2024-09-09T06:23:13.739157Z"
    },
    "papermill": {
     "duration": 6.633944,
     "end_time": "2024-09-09T06:23:13.743549",
     "exception": false,
     "start_time": "2024-09-09T06:23:07.109605",
     "status": "completed"
    },
    "tags": []
   },
   "outputs": [],
   "source": [
    "pixel_columns = [f\"pixel{i}\" for i in range(784)]\n",
    "all_df = pd.read_csv(\"/kaggle/input/digit-recognizer/train.csv\")\n",
    "\n",
    "indices = np.arange(len(all_df))\n",
    "np.random.shuffle(indices)\n",
    "\n",
    "# Split the indices into 80% train and 20% validation\n",
    "trn_len = int(0.8 * len(all_df))\n",
    "trn_ind = indices[:trn_len]\n",
    "val_ind = indices[trn_len:]\n",
    "\n",
    "trn_df = all_df.iloc[trn_ind]\n",
    "val_df = all_df.iloc[val_ind]\n",
    "x_trn = trn_df[pixel_columns].values\n",
    "y_trn = trn_df[\"label\"].values\n",
    "\n",
    "x_val = val_df[pixel_columns].values\n",
    "y_val = val_df[\"label\"].values\n",
    "\n",
    "tst_df = pd.read_csv(\"/kaggle/input/digit-recognizer/test.csv\")\n",
    "x_tst = tst_df[pixel_columns].values"
   ]
  },
  {
   "cell_type": "code",
   "execution_count": 5,
   "id": "7e7df967",
   "metadata": {
    "execution": {
     "iopub.execute_input": "2024-09-09T06:23:13.753342Z",
     "iopub.status.busy": "2024-09-09T06:23:13.752929Z",
     "iopub.status.idle": "2024-09-09T06:27:07.414568Z",
     "shell.execute_reply": "2024-09-09T06:27:07.412651Z"
    },
    "papermill": {
     "duration": 233.6703,
     "end_time": "2024-09-09T06:27:07.417945",
     "exception": false,
     "start_time": "2024-09-09T06:23:13.747645",
     "status": "completed"
    },
    "tags": []
   },
   "outputs": [
    {
     "name": "stdout",
     "output_type": "stream",
     "text": [
      "Epoch 1/10\n",
      "\u001b[1m1050/1050\u001b[0m \u001b[32m━━━━━━━━━━━━━━━━━━━━\u001b[0m\u001b[37m\u001b[0m \u001b[1m19s\u001b[0m 17ms/step - accuracy: 0.8071 - loss: 0.6070 - val_accuracy: 0.9752 - val_loss: 0.0851\n",
      "Epoch 2/10\n",
      "\u001b[1m1050/1050\u001b[0m \u001b[32m━━━━━━━━━━━━━━━━━━━━\u001b[0m\u001b[37m\u001b[0m \u001b[1m20s\u001b[0m 17ms/step - accuracy: 0.9663 - loss: 0.1076 - val_accuracy: 0.9813 - val_loss: 0.0634\n",
      "Epoch 3/10\n",
      "\u001b[1m1050/1050\u001b[0m \u001b[32m━━━━━━━━━━━━━━━━━━━━\u001b[0m\u001b[37m\u001b[0m \u001b[1m17s\u001b[0m 16ms/step - accuracy: 0.9732 - loss: 0.0809 - val_accuracy: 0.9856 - val_loss: 0.0504\n",
      "Epoch 4/10\n",
      "\u001b[1m1050/1050\u001b[0m \u001b[32m━━━━━━━━━━━━━━━━━━━━\u001b[0m\u001b[37m\u001b[0m \u001b[1m17s\u001b[0m 16ms/step - accuracy: 0.9784 - loss: 0.0694 - val_accuracy: 0.9856 - val_loss: 0.0492\n",
      "Epoch 5/10\n",
      "\u001b[1m1050/1050\u001b[0m \u001b[32m━━━━━━━━━━━━━━━━━━━━\u001b[0m\u001b[37m\u001b[0m \u001b[1m38s\u001b[0m 36ms/step - accuracy: 0.9814 - loss: 0.0587 - val_accuracy: 0.9864 - val_loss: 0.0429\n",
      "Epoch 6/10\n",
      "\u001b[1m1050/1050\u001b[0m \u001b[32m━━━━━━━━━━━━━━━━━━━━\u001b[0m\u001b[37m\u001b[0m \u001b[1m36s\u001b[0m 34ms/step - accuracy: 0.9838 - loss: 0.0508 - val_accuracy: 0.9879 - val_loss: 0.0411\n",
      "Epoch 7/10\n",
      "\u001b[1m1050/1050\u001b[0m \u001b[32m━━━━━━━━━━━━━━━━━━━━\u001b[0m\u001b[37m\u001b[0m \u001b[1m18s\u001b[0m 17ms/step - accuracy: 0.9842 - loss: 0.0477 - val_accuracy: 0.9882 - val_loss: 0.0380\n",
      "Epoch 8/10\n",
      "\u001b[1m1050/1050\u001b[0m \u001b[32m━━━━━━━━━━━━━━━━━━━━\u001b[0m\u001b[37m\u001b[0m \u001b[1m17s\u001b[0m 16ms/step - accuracy: 0.9863 - loss: 0.0409 - val_accuracy: 0.9888 - val_loss: 0.0379\n",
      "Epoch 9/10\n",
      "\u001b[1m1050/1050\u001b[0m \u001b[32m━━━━━━━━━━━━━━━━━━━━\u001b[0m\u001b[37m\u001b[0m \u001b[1m17s\u001b[0m 17ms/step - accuracy: 0.9882 - loss: 0.0364 - val_accuracy: 0.9901 - val_loss: 0.0392\n",
      "Epoch 10/10\n",
      "\u001b[1m1050/1050\u001b[0m \u001b[32m━━━━━━━━━━━━━━━━━━━━\u001b[0m\u001b[37m\u001b[0m \u001b[1m17s\u001b[0m 16ms/step - accuracy: 0.9874 - loss: 0.0418 - val_accuracy: 0.9901 - val_loss: 0.0357\n"
     ]
    }
   ],
   "source": [
    "#1. Importing the necessary libraries.\n",
    "import tensorflow as tf\n",
    "import numpy as np\n",
    "\n",
    "from tensorflow.keras.models import Sequential\n",
    "from tensorflow.keras.layers import Dense\n",
    "from tensorflow.keras.losses import CategoricalCrossentropy\n",
    "\n",
    "from tensorflow.keras.datasets import mnist\n",
    "\n",
    "# 2. Defining the model parameters and hyperparameters.\n",
    "kernels_layer_1 = 32\n",
    "kernels_layer_2 = 64\n",
    "n_classes = 10\n",
    "n_epochs = 10\n",
    "batch_size = 32\n",
    "img_size = 28\n",
    "img_size_flattened = img_size * img_size\n",
    "learning_rate = 0.001\n",
    "n_classes = 10\n",
    "\n",
    "x_trn = x_trn/255.0\n",
    "x_val = x_val/255.0\n",
    "x_tst = x_tst/255.0\n",
    "\n",
    "x_trn = x_trn.reshape(-1, img_size, img_size, 1)\n",
    "x_val = x_val.reshape(-1, img_size, img_size, 1)\n",
    "x_tst = x_tst.reshape(-1, img_size, img_size, 1)\n",
    "\n",
    "y_trn_encoded = np.zeros(shape=(y_trn.shape[0], n_classes), dtype=int)\n",
    "y_val_encoded = np.zeros(shape=(y_val.shape[0], n_classes), dtype=int)\n",
    "\n",
    "y_trn_encoded[np.linspace(0, len(y_trn)-1, len(y_trn)).astype(int), y_trn]=1\n",
    "y_val_encoded[np.linspace(0, len(y_val)-1, len(y_val)).astype(int), y_val]=1\n",
    "\n",
    "# 5. Initializing the model architecture.\n",
    "model = Sequential([\n",
    "    tf.keras.layers.Conv2D(kernels_layer_1, kernel_size=(3, 3), activation=\"relu\"),\n",
    "    tf.keras.layers.MaxPooling2D(pool_size=(2, 2)),\n",
    "    tf.keras.layers.Conv2D(kernels_layer_2, kernel_size=(3, 3), activation=\"relu\"),\n",
    "    tf.keras.layers.MaxPooling2D(pool_size=(2, 2)),\n",
    "    tf.keras.layers.Flatten(),\n",
    "    tf.keras.layers.Dropout(0.5),\n",
    "    tf.keras.layers.Dense(units=n_classes, activation=\"softmax\")\n",
    "])\n",
    "model.compile(\n",
    "    optimizer=tf.keras.optimizers.Adam(learning_rate=learning_rate), loss=CategoricalCrossentropy(), \n",
    "    metrics=[\"accuracy\"])\n",
    "\n",
    "# 6. Training the model using the defined parameters and dataset.\n",
    "callback = model.fit(\n",
    "    x=x_trn, \n",
    "    y=y_trn_encoded, \n",
    "    validation_data=(x_val, y_val_encoded), \n",
    "    batch_size=batch_size, \n",
    "    epochs=n_epochs)"
   ]
  },
  {
   "cell_type": "code",
   "execution_count": 6,
   "id": "304790d3",
   "metadata": {
    "execution": {
     "iopub.execute_input": "2024-09-09T06:27:07.947965Z",
     "iopub.status.busy": "2024-09-09T06:27:07.946502Z",
     "iopub.status.idle": "2024-09-09T06:27:08.647673Z",
     "shell.execute_reply": "2024-09-09T06:27:08.646351Z"
    },
    "papermill": {
     "duration": 0.925165,
     "end_time": "2024-09-09T06:27:08.650149",
     "exception": false,
     "start_time": "2024-09-09T06:27:07.724984",
     "status": "completed"
    },
    "tags": []
   },
   "outputs": [
    {
     "data": {
      "text/html": [
       "        <script type=\"text/javascript\">\n",
       "        window.PlotlyConfig = {MathJaxConfig: 'local'};\n",
       "        if (window.MathJax && window.MathJax.Hub && window.MathJax.Hub.Config) {window.MathJax.Hub.Config({SVG: {font: \"STIX-Web\"}});}\n",
       "        if (typeof require !== 'undefined') {\n",
       "        require.undef(\"plotly\");\n",
       "        requirejs.config({\n",
       "            paths: {\n",
       "                'plotly': ['https://cdn.plot.ly/plotly-2.32.0.min']\n",
       "            }\n",
       "        });\n",
       "        require(['plotly'], function(Plotly) {\n",
       "            window._Plotly = Plotly;\n",
       "        });\n",
       "        }\n",
       "        </script>\n",
       "        "
      ]
     },
     "metadata": {},
     "output_type": "display_data"
    },
    {
     "data": {
      "text/html": [
       "<div>                            <div id=\"0b517b7b-fd48-4f24-9f69-e95fb40a601d\" class=\"plotly-graph-div\" style=\"height:525px; width:100%;\"></div>            <script type=\"text/javascript\">                require([\"plotly\"], function(Plotly) {                    window.PLOTLYENV=window.PLOTLYENV || {};                                    if (document.getElementById(\"0b517b7b-fd48-4f24-9f69-e95fb40a601d\")) {                    Plotly.newPlot(                        \"0b517b7b-fd48-4f24-9f69-e95fb40a601d\",                        [{\"mode\":\"lines\",\"name\":\"Training Loss\",\"x\":[0,1,2,3,4,5,6,7,8,9],\"y\":[0.28648221492767334,0.10128747671842575,0.07661173492670059,0.06580895185470581,0.0576229989528656,0.05264194309711456,0.04766010493040085,0.04375544562935829,0.039221473038196564,0.038514912128448486],\"type\":\"scatter\",\"xaxis\":\"x\",\"yaxis\":\"y\"},{\"mode\":\"lines\",\"name\":\"Validation Loss\",\"x\":[0,1,2,3,4,5,6,7,8,9],\"y\":[0.0851210355758667,0.06344033777713776,0.050360821187496185,0.04921241104602814,0.042937982827425,0.04105337709188461,0.038027696311473846,0.037918414920568466,0.03922905772924423,0.03566104173660278],\"type\":\"scatter\",\"xaxis\":\"x\",\"yaxis\":\"y\"},{\"mode\":\"lines\",\"name\":\"Training Accuracy\",\"x\":[0,1,2,3,4,5,6,7,8,9],\"y\":[0.9114583134651184,0.9683035612106323,0.9752380847930908,0.9796726107597351,0.9814285635948181,0.9830952286720276,0.9850893020629883,0.9853869080543518,0.9871131181716919,0.9873214364051819],\"type\":\"scatter\",\"xaxis\":\"x2\",\"yaxis\":\"y2\"},{\"mode\":\"lines\",\"name\":\"Validation Accuracy\",\"x\":[0,1,2,3,4,5,6,7,8,9],\"y\":[0.9752380847930908,0.9813095331192017,0.9855952262878418,0.9855952262878418,0.9864285588264465,0.9878571629524231,0.9882143139839172,0.9888095259666443,0.9901190400123596,0.9901190400123596],\"type\":\"scatter\",\"xaxis\":\"x2\",\"yaxis\":\"y2\"}],                        {\"template\":{\"data\":{\"histogram2dcontour\":[{\"type\":\"histogram2dcontour\",\"colorbar\":{\"outlinewidth\":0,\"ticks\":\"\"},\"colorscale\":[[0.0,\"#0d0887\"],[0.1111111111111111,\"#46039f\"],[0.2222222222222222,\"#7201a8\"],[0.3333333333333333,\"#9c179e\"],[0.4444444444444444,\"#bd3786\"],[0.5555555555555556,\"#d8576b\"],[0.6666666666666666,\"#ed7953\"],[0.7777777777777778,\"#fb9f3a\"],[0.8888888888888888,\"#fdca26\"],[1.0,\"#f0f921\"]]}],\"choropleth\":[{\"type\":\"choropleth\",\"colorbar\":{\"outlinewidth\":0,\"ticks\":\"\"}}],\"histogram2d\":[{\"type\":\"histogram2d\",\"colorbar\":{\"outlinewidth\":0,\"ticks\":\"\"},\"colorscale\":[[0.0,\"#0d0887\"],[0.1111111111111111,\"#46039f\"],[0.2222222222222222,\"#7201a8\"],[0.3333333333333333,\"#9c179e\"],[0.4444444444444444,\"#bd3786\"],[0.5555555555555556,\"#d8576b\"],[0.6666666666666666,\"#ed7953\"],[0.7777777777777778,\"#fb9f3a\"],[0.8888888888888888,\"#fdca26\"],[1.0,\"#f0f921\"]]}],\"heatmap\":[{\"type\":\"heatmap\",\"colorbar\":{\"outlinewidth\":0,\"ticks\":\"\"},\"colorscale\":[[0.0,\"#0d0887\"],[0.1111111111111111,\"#46039f\"],[0.2222222222222222,\"#7201a8\"],[0.3333333333333333,\"#9c179e\"],[0.4444444444444444,\"#bd3786\"],[0.5555555555555556,\"#d8576b\"],[0.6666666666666666,\"#ed7953\"],[0.7777777777777778,\"#fb9f3a\"],[0.8888888888888888,\"#fdca26\"],[1.0,\"#f0f921\"]]}],\"heatmapgl\":[{\"type\":\"heatmapgl\",\"colorbar\":{\"outlinewidth\":0,\"ticks\":\"\"},\"colorscale\":[[0.0,\"#0d0887\"],[0.1111111111111111,\"#46039f\"],[0.2222222222222222,\"#7201a8\"],[0.3333333333333333,\"#9c179e\"],[0.4444444444444444,\"#bd3786\"],[0.5555555555555556,\"#d8576b\"],[0.6666666666666666,\"#ed7953\"],[0.7777777777777778,\"#fb9f3a\"],[0.8888888888888888,\"#fdca26\"],[1.0,\"#f0f921\"]]}],\"contourcarpet\":[{\"type\":\"contourcarpet\",\"colorbar\":{\"outlinewidth\":0,\"ticks\":\"\"}}],\"contour\":[{\"type\":\"contour\",\"colorbar\":{\"outlinewidth\":0,\"ticks\":\"\"},\"colorscale\":[[0.0,\"#0d0887\"],[0.1111111111111111,\"#46039f\"],[0.2222222222222222,\"#7201a8\"],[0.3333333333333333,\"#9c179e\"],[0.4444444444444444,\"#bd3786\"],[0.5555555555555556,\"#d8576b\"],[0.6666666666666666,\"#ed7953\"],[0.7777777777777778,\"#fb9f3a\"],[0.8888888888888888,\"#fdca26\"],[1.0,\"#f0f921\"]]}],\"surface\":[{\"type\":\"surface\",\"colorbar\":{\"outlinewidth\":0,\"ticks\":\"\"},\"colorscale\":[[0.0,\"#0d0887\"],[0.1111111111111111,\"#46039f\"],[0.2222222222222222,\"#7201a8\"],[0.3333333333333333,\"#9c179e\"],[0.4444444444444444,\"#bd3786\"],[0.5555555555555556,\"#d8576b\"],[0.6666666666666666,\"#ed7953\"],[0.7777777777777778,\"#fb9f3a\"],[0.8888888888888888,\"#fdca26\"],[1.0,\"#f0f921\"]]}],\"mesh3d\":[{\"type\":\"mesh3d\",\"colorbar\":{\"outlinewidth\":0,\"ticks\":\"\"}}],\"scatter\":[{\"fillpattern\":{\"fillmode\":\"overlay\",\"size\":10,\"solidity\":0.2},\"type\":\"scatter\"}],\"parcoords\":[{\"type\":\"parcoords\",\"line\":{\"colorbar\":{\"outlinewidth\":0,\"ticks\":\"\"}}}],\"scatterpolargl\":[{\"type\":\"scatterpolargl\",\"marker\":{\"colorbar\":{\"outlinewidth\":0,\"ticks\":\"\"}}}],\"bar\":[{\"error_x\":{\"color\":\"#2a3f5f\"},\"error_y\":{\"color\":\"#2a3f5f\"},\"marker\":{\"line\":{\"color\":\"#E5ECF6\",\"width\":0.5},\"pattern\":{\"fillmode\":\"overlay\",\"size\":10,\"solidity\":0.2}},\"type\":\"bar\"}],\"scattergeo\":[{\"type\":\"scattergeo\",\"marker\":{\"colorbar\":{\"outlinewidth\":0,\"ticks\":\"\"}}}],\"scatterpolar\":[{\"type\":\"scatterpolar\",\"marker\":{\"colorbar\":{\"outlinewidth\":0,\"ticks\":\"\"}}}],\"histogram\":[{\"marker\":{\"pattern\":{\"fillmode\":\"overlay\",\"size\":10,\"solidity\":0.2}},\"type\":\"histogram\"}],\"scattergl\":[{\"type\":\"scattergl\",\"marker\":{\"colorbar\":{\"outlinewidth\":0,\"ticks\":\"\"}}}],\"scatter3d\":[{\"type\":\"scatter3d\",\"line\":{\"colorbar\":{\"outlinewidth\":0,\"ticks\":\"\"}},\"marker\":{\"colorbar\":{\"outlinewidth\":0,\"ticks\":\"\"}}}],\"scattermapbox\":[{\"type\":\"scattermapbox\",\"marker\":{\"colorbar\":{\"outlinewidth\":0,\"ticks\":\"\"}}}],\"scatterternary\":[{\"type\":\"scatterternary\",\"marker\":{\"colorbar\":{\"outlinewidth\":0,\"ticks\":\"\"}}}],\"scattercarpet\":[{\"type\":\"scattercarpet\",\"marker\":{\"colorbar\":{\"outlinewidth\":0,\"ticks\":\"\"}}}],\"carpet\":[{\"aaxis\":{\"endlinecolor\":\"#2a3f5f\",\"gridcolor\":\"white\",\"linecolor\":\"white\",\"minorgridcolor\":\"white\",\"startlinecolor\":\"#2a3f5f\"},\"baxis\":{\"endlinecolor\":\"#2a3f5f\",\"gridcolor\":\"white\",\"linecolor\":\"white\",\"minorgridcolor\":\"white\",\"startlinecolor\":\"#2a3f5f\"},\"type\":\"carpet\"}],\"table\":[{\"cells\":{\"fill\":{\"color\":\"#EBF0F8\"},\"line\":{\"color\":\"white\"}},\"header\":{\"fill\":{\"color\":\"#C8D4E3\"},\"line\":{\"color\":\"white\"}},\"type\":\"table\"}],\"barpolar\":[{\"marker\":{\"line\":{\"color\":\"#E5ECF6\",\"width\":0.5},\"pattern\":{\"fillmode\":\"overlay\",\"size\":10,\"solidity\":0.2}},\"type\":\"barpolar\"}],\"pie\":[{\"automargin\":true,\"type\":\"pie\"}]},\"layout\":{\"autotypenumbers\":\"strict\",\"colorway\":[\"#636efa\",\"#EF553B\",\"#00cc96\",\"#ab63fa\",\"#FFA15A\",\"#19d3f3\",\"#FF6692\",\"#B6E880\",\"#FF97FF\",\"#FECB52\"],\"font\":{\"color\":\"#2a3f5f\"},\"hovermode\":\"closest\",\"hoverlabel\":{\"align\":\"left\"},\"paper_bgcolor\":\"white\",\"plot_bgcolor\":\"#E5ECF6\",\"polar\":{\"bgcolor\":\"#E5ECF6\",\"angularaxis\":{\"gridcolor\":\"white\",\"linecolor\":\"white\",\"ticks\":\"\"},\"radialaxis\":{\"gridcolor\":\"white\",\"linecolor\":\"white\",\"ticks\":\"\"}},\"ternary\":{\"bgcolor\":\"#E5ECF6\",\"aaxis\":{\"gridcolor\":\"white\",\"linecolor\":\"white\",\"ticks\":\"\"},\"baxis\":{\"gridcolor\":\"white\",\"linecolor\":\"white\",\"ticks\":\"\"},\"caxis\":{\"gridcolor\":\"white\",\"linecolor\":\"white\",\"ticks\":\"\"}},\"coloraxis\":{\"colorbar\":{\"outlinewidth\":0,\"ticks\":\"\"}},\"colorscale\":{\"sequential\":[[0.0,\"#0d0887\"],[0.1111111111111111,\"#46039f\"],[0.2222222222222222,\"#7201a8\"],[0.3333333333333333,\"#9c179e\"],[0.4444444444444444,\"#bd3786\"],[0.5555555555555556,\"#d8576b\"],[0.6666666666666666,\"#ed7953\"],[0.7777777777777778,\"#fb9f3a\"],[0.8888888888888888,\"#fdca26\"],[1.0,\"#f0f921\"]],\"sequentialminus\":[[0.0,\"#0d0887\"],[0.1111111111111111,\"#46039f\"],[0.2222222222222222,\"#7201a8\"],[0.3333333333333333,\"#9c179e\"],[0.4444444444444444,\"#bd3786\"],[0.5555555555555556,\"#d8576b\"],[0.6666666666666666,\"#ed7953\"],[0.7777777777777778,\"#fb9f3a\"],[0.8888888888888888,\"#fdca26\"],[1.0,\"#f0f921\"]],\"diverging\":[[0,\"#8e0152\"],[0.1,\"#c51b7d\"],[0.2,\"#de77ae\"],[0.3,\"#f1b6da\"],[0.4,\"#fde0ef\"],[0.5,\"#f7f7f7\"],[0.6,\"#e6f5d0\"],[0.7,\"#b8e186\"],[0.8,\"#7fbc41\"],[0.9,\"#4d9221\"],[1,\"#276419\"]]},\"xaxis\":{\"gridcolor\":\"white\",\"linecolor\":\"white\",\"ticks\":\"\",\"title\":{\"standoff\":15},\"zerolinecolor\":\"white\",\"automargin\":true,\"zerolinewidth\":2},\"yaxis\":{\"gridcolor\":\"white\",\"linecolor\":\"white\",\"ticks\":\"\",\"title\":{\"standoff\":15},\"zerolinecolor\":\"white\",\"automargin\":true,\"zerolinewidth\":2},\"scene\":{\"xaxis\":{\"backgroundcolor\":\"#E5ECF6\",\"gridcolor\":\"white\",\"linecolor\":\"white\",\"showbackground\":true,\"ticks\":\"\",\"zerolinecolor\":\"white\",\"gridwidth\":2},\"yaxis\":{\"backgroundcolor\":\"#E5ECF6\",\"gridcolor\":\"white\",\"linecolor\":\"white\",\"showbackground\":true,\"ticks\":\"\",\"zerolinecolor\":\"white\",\"gridwidth\":2},\"zaxis\":{\"backgroundcolor\":\"#E5ECF6\",\"gridcolor\":\"white\",\"linecolor\":\"white\",\"showbackground\":true,\"ticks\":\"\",\"zerolinecolor\":\"white\",\"gridwidth\":2}},\"shapedefaults\":{\"line\":{\"color\":\"#2a3f5f\"}},\"annotationdefaults\":{\"arrowcolor\":\"#2a3f5f\",\"arrowhead\":0,\"arrowwidth\":1},\"geo\":{\"bgcolor\":\"white\",\"landcolor\":\"#E5ECF6\",\"subunitcolor\":\"white\",\"showland\":true,\"showlakes\":true,\"lakecolor\":\"white\"},\"title\":{\"x\":0.05},\"mapbox\":{\"style\":\"light\"}}},\"xaxis\":{\"anchor\":\"y\",\"domain\":[0.0,0.45],\"title\":{\"text\":\"Epoch\"}},\"yaxis\":{\"anchor\":\"x\",\"domain\":[0.0,1.0],\"title\":{\"text\":\"Loss\"}},\"xaxis2\":{\"anchor\":\"y2\",\"domain\":[0.55,1.0],\"title\":{\"text\":\"Epoch\"}},\"yaxis2\":{\"anchor\":\"x2\",\"domain\":[0.0,1.0],\"title\":{\"text\":\"Accuracy\"}},\"annotations\":[{\"font\":{\"size\":16},\"showarrow\":false,\"text\":\"Loss Over Epochs\",\"x\":0.225,\"xanchor\":\"center\",\"xref\":\"paper\",\"y\":1.0,\"yanchor\":\"bottom\",\"yref\":\"paper\"},{\"font\":{\"size\":16},\"showarrow\":false,\"text\":\"Accuracy Over Epochs\",\"x\":0.775,\"xanchor\":\"center\",\"xref\":\"paper\",\"y\":1.0,\"yanchor\":\"bottom\",\"yref\":\"paper\"}],\"title\":{\"text\":\"Training Metrics\"},\"showlegend\":true},                        {\"responsive\": true}                    ).then(function(){\n",
       "                            \n",
       "var gd = document.getElementById('0b517b7b-fd48-4f24-9f69-e95fb40a601d');\n",
       "var x = new MutationObserver(function (mutations, observer) {{\n",
       "        var display = window.getComputedStyle(gd).display;\n",
       "        if (!display || display === 'none') {{\n",
       "            console.log([gd, 'removed!']);\n",
       "            Plotly.purge(gd);\n",
       "            observer.disconnect();\n",
       "        }}\n",
       "}});\n",
       "\n",
       "// Listen for the removal of the full notebook cells\n",
       "var notebookContainer = gd.closest('#notebook-container');\n",
       "if (notebookContainer) {{\n",
       "    x.observe(notebookContainer, {childList: true});\n",
       "}}\n",
       "\n",
       "// Listen for the clearing of the current output cell\n",
       "var outputEl = gd.closest('.output');\n",
       "if (outputEl) {{\n",
       "    x.observe(outputEl, {childList: true});\n",
       "}}\n",
       "\n",
       "                        })                };                });            </script>        </div>"
      ]
     },
     "metadata": {},
     "output_type": "display_data"
    }
   ],
   "source": [
    "plot_tensorflow_training_results(history=callback)"
   ]
  },
  {
   "cell_type": "code",
   "execution_count": 7,
   "id": "473aa3b5",
   "metadata": {
    "execution": {
     "iopub.execute_input": "2024-09-09T06:27:09.109217Z",
     "iopub.status.busy": "2024-09-09T06:27:09.108760Z",
     "iopub.status.idle": "2024-09-09T06:27:15.026371Z",
     "shell.execute_reply": "2024-09-09T06:27:15.025101Z"
    },
    "papermill": {
     "duration": 6.146761,
     "end_time": "2024-09-09T06:27:15.029280",
     "exception": false,
     "start_time": "2024-09-09T06:27:08.882519",
     "status": "completed"
    },
    "tags": []
   },
   "outputs": [
    {
     "name": "stdout",
     "output_type": "stream",
     "text": [
      "\u001b[1m875/875\u001b[0m \u001b[32m━━━━━━━━━━━━━━━━━━━━\u001b[0m\u001b[37m\u001b[0m \u001b[1m5s\u001b[0m 6ms/step\n"
     ]
    }
   ],
   "source": [
    "y_prd = model.predict(x_tst)\n",
    "y_prd_labels = np.argmax(y_prd, axis=1)"
   ]
  },
  {
   "cell_type": "code",
   "execution_count": 8,
   "id": "6bbc4166",
   "metadata": {
    "execution": {
     "iopub.execute_input": "2024-09-09T06:27:15.497036Z",
     "iopub.status.busy": "2024-09-09T06:27:15.496560Z",
     "iopub.status.idle": "2024-09-09T06:27:16.069988Z",
     "shell.execute_reply": "2024-09-09T06:27:16.068614Z"
    },
    "papermill": {
     "duration": 0.810179,
     "end_time": "2024-09-09T06:27:16.073137",
     "exception": false,
     "start_time": "2024-09-09T06:27:15.262958",
     "status": "completed"
    },
    "tags": []
   },
   "outputs": [],
   "source": [
    "tst_df[\"Label\"] = y_prd_labels\n",
    "tst_df = tst_df.reset_index(names=\"ImageId\")\n",
    "tst_df[[\"ImageId\", \"Label\"]].to_csv(\"tensorflow-prediction.csv\", index=False, header=True)"
   ]
  },
  {
   "cell_type": "code",
   "execution_count": 9,
   "id": "29229614",
   "metadata": {
    "execution": {
     "iopub.execute_input": "2024-09-09T06:27:16.587509Z",
     "iopub.status.busy": "2024-09-09T06:27:16.586358Z",
     "iopub.status.idle": "2024-09-09T06:30:44.566218Z",
     "shell.execute_reply": "2024-09-09T06:30:44.564952Z"
    },
    "papermill": {
     "duration": 208.272477,
     "end_time": "2024-09-09T06:30:44.568740",
     "exception": false,
     "start_time": "2024-09-09T06:27:16.296263",
     "status": "completed"
    },
    "tags": []
   },
   "outputs": [
    {
     "name": "stderr",
     "output_type": "stream",
     "text": [
      "1050it [00:17, 59.37it/s]\n"
     ]
    },
    {
     "name": "stdout",
     "output_type": "stream",
     "text": [
      "Epoch 1/10, Train Loss: 1.6239, Train Accuracy: 0.8419, Test Loss: 1.4969, Test Accuracy: 0.9670\n"
     ]
    },
    {
     "name": "stderr",
     "output_type": "stream",
     "text": [
      "1050it [00:18, 57.95it/s]\n"
     ]
    },
    {
     "name": "stdout",
     "output_type": "stream",
     "text": [
      "Epoch 2/10, Train Loss: 1.4925, Train Accuracy: 0.9707, Test Loss: 1.4906, Test Accuracy: 0.9719\n"
     ]
    },
    {
     "name": "stderr",
     "output_type": "stream",
     "text": [
      "1050it [00:18, 56.70it/s]\n"
     ]
    },
    {
     "name": "stdout",
     "output_type": "stream",
     "text": [
      "Epoch 3/10, Train Loss: 1.4851, Train Accuracy: 0.9778, Test Loss: 1.4833, Test Accuracy: 0.9783\n"
     ]
    },
    {
     "name": "stderr",
     "output_type": "stream",
     "text": [
      "1050it [00:17, 58.84it/s]\n"
     ]
    },
    {
     "name": "stdout",
     "output_type": "stream",
     "text": [
      "Epoch 4/10, Train Loss: 1.4801, Train Accuracy: 0.9821, Test Loss: 1.4824, Test Accuracy: 0.9789\n"
     ]
    },
    {
     "name": "stderr",
     "output_type": "stream",
     "text": [
      "1050it [00:18, 57.09it/s]\n"
     ]
    },
    {
     "name": "stdout",
     "output_type": "stream",
     "text": [
      "Epoch 5/10, Train Loss: 1.4778, Train Accuracy: 0.9841, Test Loss: 1.4809, Test Accuracy: 0.9808\n"
     ]
    },
    {
     "name": "stderr",
     "output_type": "stream",
     "text": [
      "1050it [00:17, 59.00it/s]\n"
     ]
    },
    {
     "name": "stdout",
     "output_type": "stream",
     "text": [
      "Epoch 6/10, Train Loss: 1.4759, Train Accuracy: 0.9858, Test Loss: 1.4838, Test Accuracy: 0.9785\n"
     ]
    },
    {
     "name": "stderr",
     "output_type": "stream",
     "text": [
      "1050it [00:17, 58.76it/s]\n"
     ]
    },
    {
     "name": "stdout",
     "output_type": "stream",
     "text": [
      "Epoch 7/10, Train Loss: 1.4739, Train Accuracy: 0.9882, Test Loss: 1.4843, Test Accuracy: 0.9777\n"
     ]
    },
    {
     "name": "stderr",
     "output_type": "stream",
     "text": [
      "1050it [00:18, 56.43it/s]\n"
     ]
    },
    {
     "name": "stdout",
     "output_type": "stream",
     "text": [
      "Epoch 8/10, Train Loss: 1.4736, Train Accuracy: 0.9879, Test Loss: 1.4767, Test Accuracy: 0.9845\n"
     ]
    },
    {
     "name": "stderr",
     "output_type": "stream",
     "text": [
      "1050it [00:17, 59.15it/s]\n"
     ]
    },
    {
     "name": "stdout",
     "output_type": "stream",
     "text": [
      "Epoch 9/10, Train Loss: 1.4724, Train Accuracy: 0.9892, Test Loss: 1.4793, Test Accuracy: 0.9819\n"
     ]
    },
    {
     "name": "stderr",
     "output_type": "stream",
     "text": [
      "1050it [00:17, 58.79it/s]\n"
     ]
    },
    {
     "name": "stdout",
     "output_type": "stream",
     "text": [
      "Epoch 10/10, Train Loss: 1.4709, Train Accuracy: 0.9907, Test Loss: 1.4790, Test Accuracy: 0.9830\n"
     ]
    },
    {
     "data": {
      "text/html": [
       "<div>                            <div id=\"b05ae710-8332-4126-ae28-616d6877eceb\" class=\"plotly-graph-div\" style=\"height:525px; width:100%;\"></div>            <script type=\"text/javascript\">                require([\"plotly\"], function(Plotly) {                    window.PLOTLYENV=window.PLOTLYENV || {};                                    if (document.getElementById(\"b05ae710-8332-4126-ae28-616d6877eceb\")) {                    Plotly.newPlot(                        \"b05ae710-8332-4126-ae28-616d6877eceb\",                        [{\"mode\":\"lines\",\"name\":\"Training Loss\",\"x\":[0,1,2,3,4,5,6,7,8,9],\"y\":[1.6239120954558963,1.4924847254298983,1.4850567914190747,1.4801384361584982,1.4777885867300489,1.4759097755522954,1.4739263266608829,1.4736248687335423,1.4723945535932268,1.4709203200113206],\"type\":\"scatter\",\"xaxis\":\"x\",\"yaxis\":\"y\"},{\"mode\":\"lines\",\"name\":\"Validation Loss\",\"x\":[0,1,2,3,4,5,6,7,8,9],\"y\":[1.4969448299915618,1.490588505458469,1.4832899126263173,1.4824268967479808,1.4808766093997447,1.483789799331259,1.4843232822055599,1.4766985957613463,1.4793488449016905,1.4789576172375407],\"type\":\"scatter\",\"xaxis\":\"x\",\"yaxis\":\"y\"},{\"mode\":\"lines\",\"name\":\"Training Accuracy\",\"x\":[0,1,2,3,4,5,6,7,8,9],\"y\":[0.8419345238095238,0.9706845238095239,0.977827380952381,0.9821428571428571,0.984077380952381,0.9858333333333333,0.9882440476190476,0.9879464285714286,0.9891964285714285,0.9907440476190477],\"type\":\"scatter\",\"xaxis\":\"x2\",\"yaxis\":\"y2\"},{\"mode\":\"lines\",\"name\":\"Validation Accuracy\",\"x\":[0,1,2,3,4,5,6,7,8,9],\"y\":[0.9670238095238095,0.9719047619047619,0.9783333333333334,0.9789285714285715,0.9808333333333333,0.978452380952381,0.9777380952380952,0.9845238095238096,0.981904761904762,0.9829761904761904],\"type\":\"scatter\",\"xaxis\":\"x2\",\"yaxis\":\"y2\"}],                        {\"template\":{\"data\":{\"histogram2dcontour\":[{\"type\":\"histogram2dcontour\",\"colorbar\":{\"outlinewidth\":0,\"ticks\":\"\"},\"colorscale\":[[0.0,\"#0d0887\"],[0.1111111111111111,\"#46039f\"],[0.2222222222222222,\"#7201a8\"],[0.3333333333333333,\"#9c179e\"],[0.4444444444444444,\"#bd3786\"],[0.5555555555555556,\"#d8576b\"],[0.6666666666666666,\"#ed7953\"],[0.7777777777777778,\"#fb9f3a\"],[0.8888888888888888,\"#fdca26\"],[1.0,\"#f0f921\"]]}],\"choropleth\":[{\"type\":\"choropleth\",\"colorbar\":{\"outlinewidth\":0,\"ticks\":\"\"}}],\"histogram2d\":[{\"type\":\"histogram2d\",\"colorbar\":{\"outlinewidth\":0,\"ticks\":\"\"},\"colorscale\":[[0.0,\"#0d0887\"],[0.1111111111111111,\"#46039f\"],[0.2222222222222222,\"#7201a8\"],[0.3333333333333333,\"#9c179e\"],[0.4444444444444444,\"#bd3786\"],[0.5555555555555556,\"#d8576b\"],[0.6666666666666666,\"#ed7953\"],[0.7777777777777778,\"#fb9f3a\"],[0.8888888888888888,\"#fdca26\"],[1.0,\"#f0f921\"]]}],\"heatmap\":[{\"type\":\"heatmap\",\"colorbar\":{\"outlinewidth\":0,\"ticks\":\"\"},\"colorscale\":[[0.0,\"#0d0887\"],[0.1111111111111111,\"#46039f\"],[0.2222222222222222,\"#7201a8\"],[0.3333333333333333,\"#9c179e\"],[0.4444444444444444,\"#bd3786\"],[0.5555555555555556,\"#d8576b\"],[0.6666666666666666,\"#ed7953\"],[0.7777777777777778,\"#fb9f3a\"],[0.8888888888888888,\"#fdca26\"],[1.0,\"#f0f921\"]]}],\"heatmapgl\":[{\"type\":\"heatmapgl\",\"colorbar\":{\"outlinewidth\":0,\"ticks\":\"\"},\"colorscale\":[[0.0,\"#0d0887\"],[0.1111111111111111,\"#46039f\"],[0.2222222222222222,\"#7201a8\"],[0.3333333333333333,\"#9c179e\"],[0.4444444444444444,\"#bd3786\"],[0.5555555555555556,\"#d8576b\"],[0.6666666666666666,\"#ed7953\"],[0.7777777777777778,\"#fb9f3a\"],[0.8888888888888888,\"#fdca26\"],[1.0,\"#f0f921\"]]}],\"contourcarpet\":[{\"type\":\"contourcarpet\",\"colorbar\":{\"outlinewidth\":0,\"ticks\":\"\"}}],\"contour\":[{\"type\":\"contour\",\"colorbar\":{\"outlinewidth\":0,\"ticks\":\"\"},\"colorscale\":[[0.0,\"#0d0887\"],[0.1111111111111111,\"#46039f\"],[0.2222222222222222,\"#7201a8\"],[0.3333333333333333,\"#9c179e\"],[0.4444444444444444,\"#bd3786\"],[0.5555555555555556,\"#d8576b\"],[0.6666666666666666,\"#ed7953\"],[0.7777777777777778,\"#fb9f3a\"],[0.8888888888888888,\"#fdca26\"],[1.0,\"#f0f921\"]]}],\"surface\":[{\"type\":\"surface\",\"colorbar\":{\"outlinewidth\":0,\"ticks\":\"\"},\"colorscale\":[[0.0,\"#0d0887\"],[0.1111111111111111,\"#46039f\"],[0.2222222222222222,\"#7201a8\"],[0.3333333333333333,\"#9c179e\"],[0.4444444444444444,\"#bd3786\"],[0.5555555555555556,\"#d8576b\"],[0.6666666666666666,\"#ed7953\"],[0.7777777777777778,\"#fb9f3a\"],[0.8888888888888888,\"#fdca26\"],[1.0,\"#f0f921\"]]}],\"mesh3d\":[{\"type\":\"mesh3d\",\"colorbar\":{\"outlinewidth\":0,\"ticks\":\"\"}}],\"scatter\":[{\"fillpattern\":{\"fillmode\":\"overlay\",\"size\":10,\"solidity\":0.2},\"type\":\"scatter\"}],\"parcoords\":[{\"type\":\"parcoords\",\"line\":{\"colorbar\":{\"outlinewidth\":0,\"ticks\":\"\"}}}],\"scatterpolargl\":[{\"type\":\"scatterpolargl\",\"marker\":{\"colorbar\":{\"outlinewidth\":0,\"ticks\":\"\"}}}],\"bar\":[{\"error_x\":{\"color\":\"#2a3f5f\"},\"error_y\":{\"color\":\"#2a3f5f\"},\"marker\":{\"line\":{\"color\":\"#E5ECF6\",\"width\":0.5},\"pattern\":{\"fillmode\":\"overlay\",\"size\":10,\"solidity\":0.2}},\"type\":\"bar\"}],\"scattergeo\":[{\"type\":\"scattergeo\",\"marker\":{\"colorbar\":{\"outlinewidth\":0,\"ticks\":\"\"}}}],\"scatterpolar\":[{\"type\":\"scatterpolar\",\"marker\":{\"colorbar\":{\"outlinewidth\":0,\"ticks\":\"\"}}}],\"histogram\":[{\"marker\":{\"pattern\":{\"fillmode\":\"overlay\",\"size\":10,\"solidity\":0.2}},\"type\":\"histogram\"}],\"scattergl\":[{\"type\":\"scattergl\",\"marker\":{\"colorbar\":{\"outlinewidth\":0,\"ticks\":\"\"}}}],\"scatter3d\":[{\"type\":\"scatter3d\",\"line\":{\"colorbar\":{\"outlinewidth\":0,\"ticks\":\"\"}},\"marker\":{\"colorbar\":{\"outlinewidth\":0,\"ticks\":\"\"}}}],\"scattermapbox\":[{\"type\":\"scattermapbox\",\"marker\":{\"colorbar\":{\"outlinewidth\":0,\"ticks\":\"\"}}}],\"scatterternary\":[{\"type\":\"scatterternary\",\"marker\":{\"colorbar\":{\"outlinewidth\":0,\"ticks\":\"\"}}}],\"scattercarpet\":[{\"type\":\"scattercarpet\",\"marker\":{\"colorbar\":{\"outlinewidth\":0,\"ticks\":\"\"}}}],\"carpet\":[{\"aaxis\":{\"endlinecolor\":\"#2a3f5f\",\"gridcolor\":\"white\",\"linecolor\":\"white\",\"minorgridcolor\":\"white\",\"startlinecolor\":\"#2a3f5f\"},\"baxis\":{\"endlinecolor\":\"#2a3f5f\",\"gridcolor\":\"white\",\"linecolor\":\"white\",\"minorgridcolor\":\"white\",\"startlinecolor\":\"#2a3f5f\"},\"type\":\"carpet\"}],\"table\":[{\"cells\":{\"fill\":{\"color\":\"#EBF0F8\"},\"line\":{\"color\":\"white\"}},\"header\":{\"fill\":{\"color\":\"#C8D4E3\"},\"line\":{\"color\":\"white\"}},\"type\":\"table\"}],\"barpolar\":[{\"marker\":{\"line\":{\"color\":\"#E5ECF6\",\"width\":0.5},\"pattern\":{\"fillmode\":\"overlay\",\"size\":10,\"solidity\":0.2}},\"type\":\"barpolar\"}],\"pie\":[{\"automargin\":true,\"type\":\"pie\"}]},\"layout\":{\"autotypenumbers\":\"strict\",\"colorway\":[\"#636efa\",\"#EF553B\",\"#00cc96\",\"#ab63fa\",\"#FFA15A\",\"#19d3f3\",\"#FF6692\",\"#B6E880\",\"#FF97FF\",\"#FECB52\"],\"font\":{\"color\":\"#2a3f5f\"},\"hovermode\":\"closest\",\"hoverlabel\":{\"align\":\"left\"},\"paper_bgcolor\":\"white\",\"plot_bgcolor\":\"#E5ECF6\",\"polar\":{\"bgcolor\":\"#E5ECF6\",\"angularaxis\":{\"gridcolor\":\"white\",\"linecolor\":\"white\",\"ticks\":\"\"},\"radialaxis\":{\"gridcolor\":\"white\",\"linecolor\":\"white\",\"ticks\":\"\"}},\"ternary\":{\"bgcolor\":\"#E5ECF6\",\"aaxis\":{\"gridcolor\":\"white\",\"linecolor\":\"white\",\"ticks\":\"\"},\"baxis\":{\"gridcolor\":\"white\",\"linecolor\":\"white\",\"ticks\":\"\"},\"caxis\":{\"gridcolor\":\"white\",\"linecolor\":\"white\",\"ticks\":\"\"}},\"coloraxis\":{\"colorbar\":{\"outlinewidth\":0,\"ticks\":\"\"}},\"colorscale\":{\"sequential\":[[0.0,\"#0d0887\"],[0.1111111111111111,\"#46039f\"],[0.2222222222222222,\"#7201a8\"],[0.3333333333333333,\"#9c179e\"],[0.4444444444444444,\"#bd3786\"],[0.5555555555555556,\"#d8576b\"],[0.6666666666666666,\"#ed7953\"],[0.7777777777777778,\"#fb9f3a\"],[0.8888888888888888,\"#fdca26\"],[1.0,\"#f0f921\"]],\"sequentialminus\":[[0.0,\"#0d0887\"],[0.1111111111111111,\"#46039f\"],[0.2222222222222222,\"#7201a8\"],[0.3333333333333333,\"#9c179e\"],[0.4444444444444444,\"#bd3786\"],[0.5555555555555556,\"#d8576b\"],[0.6666666666666666,\"#ed7953\"],[0.7777777777777778,\"#fb9f3a\"],[0.8888888888888888,\"#fdca26\"],[1.0,\"#f0f921\"]],\"diverging\":[[0,\"#8e0152\"],[0.1,\"#c51b7d\"],[0.2,\"#de77ae\"],[0.3,\"#f1b6da\"],[0.4,\"#fde0ef\"],[0.5,\"#f7f7f7\"],[0.6,\"#e6f5d0\"],[0.7,\"#b8e186\"],[0.8,\"#7fbc41\"],[0.9,\"#4d9221\"],[1,\"#276419\"]]},\"xaxis\":{\"gridcolor\":\"white\",\"linecolor\":\"white\",\"ticks\":\"\",\"title\":{\"standoff\":15},\"zerolinecolor\":\"white\",\"automargin\":true,\"zerolinewidth\":2},\"yaxis\":{\"gridcolor\":\"white\",\"linecolor\":\"white\",\"ticks\":\"\",\"title\":{\"standoff\":15},\"zerolinecolor\":\"white\",\"automargin\":true,\"zerolinewidth\":2},\"scene\":{\"xaxis\":{\"backgroundcolor\":\"#E5ECF6\",\"gridcolor\":\"white\",\"linecolor\":\"white\",\"showbackground\":true,\"ticks\":\"\",\"zerolinecolor\":\"white\",\"gridwidth\":2},\"yaxis\":{\"backgroundcolor\":\"#E5ECF6\",\"gridcolor\":\"white\",\"linecolor\":\"white\",\"showbackground\":true,\"ticks\":\"\",\"zerolinecolor\":\"white\",\"gridwidth\":2},\"zaxis\":{\"backgroundcolor\":\"#E5ECF6\",\"gridcolor\":\"white\",\"linecolor\":\"white\",\"showbackground\":true,\"ticks\":\"\",\"zerolinecolor\":\"white\",\"gridwidth\":2}},\"shapedefaults\":{\"line\":{\"color\":\"#2a3f5f\"}},\"annotationdefaults\":{\"arrowcolor\":\"#2a3f5f\",\"arrowhead\":0,\"arrowwidth\":1},\"geo\":{\"bgcolor\":\"white\",\"landcolor\":\"#E5ECF6\",\"subunitcolor\":\"white\",\"showland\":true,\"showlakes\":true,\"lakecolor\":\"white\"},\"title\":{\"x\":0.05},\"mapbox\":{\"style\":\"light\"}}},\"xaxis\":{\"anchor\":\"y\",\"domain\":[0.0,0.45],\"title\":{\"text\":\"Epoch\"}},\"yaxis\":{\"anchor\":\"x\",\"domain\":[0.0,1.0],\"title\":{\"text\":\"Loss\"}},\"xaxis2\":{\"anchor\":\"y2\",\"domain\":[0.55,1.0],\"title\":{\"text\":\"Epoch\"}},\"yaxis2\":{\"anchor\":\"x2\",\"domain\":[0.0,1.0],\"title\":{\"text\":\"Accuracy\"}},\"annotations\":[{\"font\":{\"size\":16},\"showarrow\":false,\"text\":\"Loss Over Epochs\",\"x\":0.225,\"xanchor\":\"center\",\"xref\":\"paper\",\"y\":1.0,\"yanchor\":\"bottom\",\"yref\":\"paper\"},{\"font\":{\"size\":16},\"showarrow\":false,\"text\":\"Accuracy Over Epochs\",\"x\":0.775,\"xanchor\":\"center\",\"xref\":\"paper\",\"y\":1.0,\"yanchor\":\"bottom\",\"yref\":\"paper\"}],\"title\":{\"text\":\"Training Metrics\"},\"showlegend\":true},                        {\"responsive\": true}                    ).then(function(){\n",
       "                            \n",
       "var gd = document.getElementById('b05ae710-8332-4126-ae28-616d6877eceb');\n",
       "var x = new MutationObserver(function (mutations, observer) {{\n",
       "        var display = window.getComputedStyle(gd).display;\n",
       "        if (!display || display === 'none') {{\n",
       "            console.log([gd, 'removed!']);\n",
       "            Plotly.purge(gd);\n",
       "            observer.disconnect();\n",
       "        }}\n",
       "}});\n",
       "\n",
       "// Listen for the removal of the full notebook cells\n",
       "var notebookContainer = gd.closest('#notebook-container');\n",
       "if (notebookContainer) {{\n",
       "    x.observe(notebookContainer, {childList: true});\n",
       "}}\n",
       "\n",
       "// Listen for the clearing of the current output cell\n",
       "var outputEl = gd.closest('.output');\n",
       "if (outputEl) {{\n",
       "    x.observe(outputEl, {childList: true});\n",
       "}}\n",
       "\n",
       "                        })                };                });            </script>        </div>"
      ]
     },
     "metadata": {},
     "output_type": "display_data"
    }
   ],
   "source": [
    "# 1. Importing the necessary libraries.\n",
    "import os\n",
    "import torch\n",
    "import torchvision\n",
    "import torch.nn.functional as F\n",
    "from tqdm import tqdm\n",
    "import torch.nn as nn\n",
    "import matplotlib.pyplot as plt\n",
    "import plotly.graph_objects as go\n",
    "from plotly.subplots import make_subplots\n",
    "\n",
    "\n",
    "class NumpyDataset(torch.utils.data.Dataset):\n",
    "    def __init__(self, data, labels=None, train=True):\n",
    "        self.data = torch.from_numpy(data).float()\n",
    "        if train:\n",
    "            self.labels = torch.from_numpy(labels).long()\n",
    "\n",
    "        self.train = train\n",
    "\n",
    "    def __len__(self):\n",
    "        return len(self.data)\n",
    "\n",
    "    def __getitem__(self, idx):\n",
    "        sample = self.data[idx]\n",
    "        if self.train:\n",
    "            return sample, self.labels[idx]\n",
    "        return sample\n",
    "\n",
    "x_trn = np.expand_dims(np.squeeze(x_trn, axis=-1), axis=1)    \n",
    "x_val = np.expand_dims(np.squeeze(x_val, axis=-1), axis=1)\n",
    "x_tst = np.expand_dims(np.squeeze(x_tst, axis=-1), axis=1)\n",
    "\n",
    "# 3. Loading the dataset.\n",
    "mnist_dataset_trn = NumpyDataset(data=x_trn, labels=y_trn, train=True)\n",
    "mnist_dataset_val = NumpyDataset(data=x_val, labels=y_val, train=True)\n",
    "mnist_dataset_tst = NumpyDataset(data=x_tst, labels=None,  train=False)\n",
    "\n",
    "# 4. Preprocessing the data to make it suitable for training.\n",
    "trn_loader = torch.utils.data.DataLoader(\n",
    "    dataset=mnist_dataset_trn, \n",
    "    batch_size=batch_size, \n",
    "    shuffle=True)\n",
    "val_loader = torch.utils.data.DataLoader(\n",
    "    dataset=mnist_dataset_val, \n",
    "    batch_size=batch_size, \n",
    "    shuffle=True)\n",
    "tst_loader = torch.utils.data.DataLoader(\n",
    "    dataset=mnist_dataset_tst, \n",
    "    batch_size=batch_size, \n",
    "    shuffle=False)\n",
    "\n",
    "# 5. Initializing the model architecture.\n",
    "class CNN(nn.Module):\n",
    "    def __init__(self):\n",
    "        super(CNN, self).__init__()\n",
    "        self.conv1 = nn.Conv2d(1, kernels_layer_1, kernel_size=3)\n",
    "        self.conv2 = nn.Conv2d(kernels_layer_1, kernels_layer_2, kernel_size=3)\n",
    "        self.fc = nn.Linear(5*5*64, n_classes)\n",
    "\n",
    "    def forward(self, x):\n",
    "        x = F.relu(F.max_pool2d(self.conv1(x), 2))\n",
    "        x = F.relu(F.max_pool2d(self.conv2(x), 2))\n",
    "        x = x.view(-1,5*5*64 )\n",
    "        return F.softmax(self.fc(x), dim=1)\n",
    "\n",
    "model = CNN()\n",
    "optimizer = torch.optim.Adam(model.parameters(), lr=learning_rate)\n",
    "loss_function = nn.CrossEntropyLoss()\n",
    "\n",
    "# Tracking metrics\n",
    "train_losses = []\n",
    "test_losses = []\n",
    "train_accuracies = []\n",
    "test_accuracies = []\n",
    "\n",
    "# 6. Training the model using the defined parameters and dataset.\n",
    "for epoch in range(n_epochs):\n",
    "    model.train()\n",
    "    running_loss = 0\n",
    "    correct_train = 0\n",
    "    total_train = 0\n",
    "\n",
    "    for batch_idx, (x_trn_batch, y_trn_batch) in tqdm(enumerate(trn_loader)):\n",
    "        optimizer.zero_grad()\n",
    "        y_pred_batch = model(x_trn_batch)\n",
    "        loss = loss_function(y_pred_batch, y_trn_batch)\n",
    "        loss.backward()\n",
    "        optimizer.step()\n",
    "\n",
    "        running_loss += loss.item()\n",
    "        _, predicted = torch.max(y_pred_batch, 1)\n",
    "        correct_train += (predicted == y_trn_batch).sum().item()\n",
    "        total_train += y_trn_batch.size(0)\n",
    "\n",
    "    train_losses.append(running_loss / len(trn_loader))\n",
    "    train_accuracies.append(correct_train / len(x_trn))\n",
    "\n",
    "    model.eval()\n",
    "    test_loss = 0\n",
    "    correct_test = 0\n",
    "    total_test = 0\n",
    "\n",
    "    with torch.no_grad():\n",
    "        for x_val_batch, y_val_batch in val_loader:\n",
    "            y_pred_batch = model(x_val_batch)\n",
    "            loss = loss_function(y_pred_batch, y_val_batch)\n",
    "            test_loss += loss.item()\n",
    "            _, predicted = torch.max(y_pred_batch, 1)\n",
    "            correct_test += (predicted == y_val_batch).sum().item()\n",
    "            total_test += y_val_batch.size(0)\n",
    "\n",
    "    test_losses.append(test_loss / len(val_loader))\n",
    "    test_accuracies.append(correct_test / len(x_val))\n",
    "\n",
    "    print(f'Epoch {epoch+1}/{n_epochs}, Train Loss: {train_losses[-1]:.4f}, Train Accuracy: {train_accuracies[-1]:.4f}, Test Loss: {test_losses[-1]:.4f}, Test Accuracy: {test_accuracies[-1]:.4f}')\n",
    "\n",
    "\n",
    "plot_pytorch_training_results(n_epochs, train_losses, test_losses, train_accuracies, test_accuracies)"
   ]
  },
  {
   "cell_type": "code",
   "execution_count": 10,
   "id": "546e40e2",
   "metadata": {
    "execution": {
     "iopub.execute_input": "2024-09-09T06:30:45.252099Z",
     "iopub.status.busy": "2024-09-09T06:30:45.251246Z",
     "iopub.status.idle": "2024-09-09T06:30:48.882484Z",
     "shell.execute_reply": "2024-09-09T06:30:48.880932Z"
    },
    "papermill": {
     "duration": 3.977061,
     "end_time": "2024-09-09T06:30:48.885378",
     "exception": false,
     "start_time": "2024-09-09T06:30:44.908317",
     "status": "completed"
    },
    "tags": []
   },
   "outputs": [],
   "source": [
    "y_pred_tot = []\n",
    "with torch.no_grad():\n",
    "    for x_tst_batch in tst_loader:\n",
    "        y_pred_batch = model(x_val_batch)\n",
    "        _, pred = torch.max(y_pred_batch, 1)\n",
    "        y_pred_tot += list(pred.numpy())"
   ]
  },
  {
   "cell_type": "code",
   "execution_count": 11,
   "id": "d3b84ad8",
   "metadata": {
    "execution": {
     "iopub.execute_input": "2024-09-09T06:30:49.546798Z",
     "iopub.status.busy": "2024-09-09T06:30:49.546186Z",
     "iopub.status.idle": "2024-09-09T06:30:49.577744Z",
     "shell.execute_reply": "2024-09-09T06:30:49.576387Z"
    },
    "papermill": {
     "duration": 0.365522,
     "end_time": "2024-09-09T06:30:49.580882",
     "exception": false,
     "start_time": "2024-09-09T06:30:49.215360",
     "status": "completed"
    },
    "tags": []
   },
   "outputs": [],
   "source": [
    "tst_df[\"Label\"] = y_prd_labels\n",
    "tst_df[[\"ImageId\", \"Label\"]].to_csv(\"pytorch-prediction.csv\", index=False, header=True)"
   ]
  }
 ],
 "metadata": {
  "kaggle": {
   "accelerator": "none",
   "dataSources": [
    {
     "databundleVersionId": 861823,
     "sourceId": 3004,
     "sourceType": "competition"
    }
   ],
   "dockerImageVersionId": 30761,
   "isGpuEnabled": false,
   "isInternetEnabled": false,
   "language": "python",
   "sourceType": "notebook"
  },
  "kernelspec": {
   "display_name": "Python 3",
   "language": "python",
   "name": "python3"
  },
  "language_info": {
   "codemirror_mode": {
    "name": "ipython",
    "version": 3
   },
   "file_extension": ".py",
   "mimetype": "text/x-python",
   "name": "python",
   "nbconvert_exporter": "python",
   "pygments_lexer": "ipython3",
   "version": "3.10.14"
  },
  "papermill": {
   "default_parameters": {},
   "duration": 470.243365,
   "end_time": "2024-09-09T06:30:53.135522",
   "environment_variables": {},
   "exception": null,
   "input_path": "__notebook__.ipynb",
   "output_path": "__notebook__.ipynb",
   "parameters": {},
   "start_time": "2024-09-09T06:23:02.892157",
   "version": "2.6.0"
  }
 },
 "nbformat": 4,
 "nbformat_minor": 5
}
